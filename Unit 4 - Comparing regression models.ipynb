{
 "cells": [
  {
   "cell_type": "code",
   "execution_count": 1,
   "id": "949e7f12",
   "metadata": {},
   "outputs": [],
   "source": [
    "import pandas as pd\n",
    "import numpy as np\n",
    "import datetime\n",
    "import warnings\n",
    "import matplotlib.pyplot as plt\n",
    "import seaborn as sns\n",
    "\n",
    "pd.set_option('display.max_columns', None)\n",
    "warnings.filterwarnings('ignore')"
   ]
  },
  {
   "cell_type": "code",
   "execution_count": 2,
   "id": "b372341e",
   "metadata": {},
   "outputs": [
    {
     "data": {
      "text/html": [
       "<div>\n",
       "<style scoped>\n",
       "    .dataframe tbody tr th:only-of-type {\n",
       "        vertical-align: middle;\n",
       "    }\n",
       "\n",
       "    .dataframe tbody tr th {\n",
       "        vertical-align: top;\n",
       "    }\n",
       "\n",
       "    .dataframe thead th {\n",
       "        text-align: right;\n",
       "    }\n",
       "</style>\n",
       "<table border=\"1\" class=\"dataframe\">\n",
       "  <thead>\n",
       "    <tr style=\"text-align: right;\">\n",
       "      <th></th>\n",
       "      <th>Customer</th>\n",
       "      <th>State</th>\n",
       "      <th>Customer Lifetime Value</th>\n",
       "      <th>Response</th>\n",
       "      <th>Coverage</th>\n",
       "      <th>Education</th>\n",
       "      <th>Effective To Date</th>\n",
       "      <th>EmploymentStatus</th>\n",
       "      <th>Gender</th>\n",
       "      <th>Income</th>\n",
       "      <th>Location Code</th>\n",
       "      <th>Marital Status</th>\n",
       "      <th>Monthly Premium Auto</th>\n",
       "      <th>Months Since Last Claim</th>\n",
       "      <th>Months Since Policy Inception</th>\n",
       "      <th>Number of Open Complaints</th>\n",
       "      <th>Number of Policies</th>\n",
       "      <th>Policy Type</th>\n",
       "      <th>Policy</th>\n",
       "      <th>Renew Offer Type</th>\n",
       "      <th>Sales Channel</th>\n",
       "      <th>Total Claim Amount</th>\n",
       "      <th>Vehicle Class</th>\n",
       "      <th>Vehicle Size</th>\n",
       "    </tr>\n",
       "  </thead>\n",
       "  <tbody>\n",
       "    <tr>\n",
       "      <th>0</th>\n",
       "      <td>BU79786</td>\n",
       "      <td>Washington</td>\n",
       "      <td>2763.519279</td>\n",
       "      <td>No</td>\n",
       "      <td>Basic</td>\n",
       "      <td>Bachelor</td>\n",
       "      <td>2/24/11</td>\n",
       "      <td>Employed</td>\n",
       "      <td>F</td>\n",
       "      <td>56274</td>\n",
       "      <td>Suburban</td>\n",
       "      <td>Married</td>\n",
       "      <td>69</td>\n",
       "      <td>32</td>\n",
       "      <td>5</td>\n",
       "      <td>0</td>\n",
       "      <td>1</td>\n",
       "      <td>Corporate Auto</td>\n",
       "      <td>Corporate L3</td>\n",
       "      <td>Offer1</td>\n",
       "      <td>Agent</td>\n",
       "      <td>384.811147</td>\n",
       "      <td>Two-Door Car</td>\n",
       "      <td>Medsize</td>\n",
       "    </tr>\n",
       "    <tr>\n",
       "      <th>1</th>\n",
       "      <td>QZ44356</td>\n",
       "      <td>Arizona</td>\n",
       "      <td>6979.535903</td>\n",
       "      <td>No</td>\n",
       "      <td>Extended</td>\n",
       "      <td>Bachelor</td>\n",
       "      <td>1/31/11</td>\n",
       "      <td>Unemployed</td>\n",
       "      <td>F</td>\n",
       "      <td>0</td>\n",
       "      <td>Suburban</td>\n",
       "      <td>Single</td>\n",
       "      <td>94</td>\n",
       "      <td>13</td>\n",
       "      <td>42</td>\n",
       "      <td>0</td>\n",
       "      <td>8</td>\n",
       "      <td>Personal Auto</td>\n",
       "      <td>Personal L3</td>\n",
       "      <td>Offer3</td>\n",
       "      <td>Agent</td>\n",
       "      <td>1131.464935</td>\n",
       "      <td>Four-Door Car</td>\n",
       "      <td>Medsize</td>\n",
       "    </tr>\n",
       "    <tr>\n",
       "      <th>2</th>\n",
       "      <td>AI49188</td>\n",
       "      <td>Nevada</td>\n",
       "      <td>12887.431650</td>\n",
       "      <td>No</td>\n",
       "      <td>Premium</td>\n",
       "      <td>Bachelor</td>\n",
       "      <td>2/19/11</td>\n",
       "      <td>Employed</td>\n",
       "      <td>F</td>\n",
       "      <td>48767</td>\n",
       "      <td>Suburban</td>\n",
       "      <td>Married</td>\n",
       "      <td>108</td>\n",
       "      <td>18</td>\n",
       "      <td>38</td>\n",
       "      <td>0</td>\n",
       "      <td>2</td>\n",
       "      <td>Personal Auto</td>\n",
       "      <td>Personal L3</td>\n",
       "      <td>Offer1</td>\n",
       "      <td>Agent</td>\n",
       "      <td>566.472247</td>\n",
       "      <td>Two-Door Car</td>\n",
       "      <td>Medsize</td>\n",
       "    </tr>\n",
       "    <tr>\n",
       "      <th>3</th>\n",
       "      <td>WW63253</td>\n",
       "      <td>California</td>\n",
       "      <td>7645.861827</td>\n",
       "      <td>No</td>\n",
       "      <td>Basic</td>\n",
       "      <td>Bachelor</td>\n",
       "      <td>1/20/11</td>\n",
       "      <td>Unemployed</td>\n",
       "      <td>M</td>\n",
       "      <td>0</td>\n",
       "      <td>Suburban</td>\n",
       "      <td>Married</td>\n",
       "      <td>106</td>\n",
       "      <td>18</td>\n",
       "      <td>65</td>\n",
       "      <td>0</td>\n",
       "      <td>7</td>\n",
       "      <td>Corporate Auto</td>\n",
       "      <td>Corporate L2</td>\n",
       "      <td>Offer1</td>\n",
       "      <td>Call Center</td>\n",
       "      <td>529.881344</td>\n",
       "      <td>SUV</td>\n",
       "      <td>Medsize</td>\n",
       "    </tr>\n",
       "    <tr>\n",
       "      <th>4</th>\n",
       "      <td>HB64268</td>\n",
       "      <td>Washington</td>\n",
       "      <td>2813.692575</td>\n",
       "      <td>No</td>\n",
       "      <td>Basic</td>\n",
       "      <td>Bachelor</td>\n",
       "      <td>2/3/11</td>\n",
       "      <td>Employed</td>\n",
       "      <td>M</td>\n",
       "      <td>43836</td>\n",
       "      <td>Rural</td>\n",
       "      <td>Single</td>\n",
       "      <td>73</td>\n",
       "      <td>12</td>\n",
       "      <td>44</td>\n",
       "      <td>0</td>\n",
       "      <td>1</td>\n",
       "      <td>Personal Auto</td>\n",
       "      <td>Personal L1</td>\n",
       "      <td>Offer1</td>\n",
       "      <td>Agent</td>\n",
       "      <td>138.130879</td>\n",
       "      <td>Four-Door Car</td>\n",
       "      <td>Medsize</td>\n",
       "    </tr>\n",
       "  </tbody>\n",
       "</table>\n",
       "</div>"
      ],
      "text/plain": [
       "  Customer       State  Customer Lifetime Value Response  Coverage Education  \\\n",
       "0  BU79786  Washington              2763.519279       No     Basic  Bachelor   \n",
       "1  QZ44356     Arizona              6979.535903       No  Extended  Bachelor   \n",
       "2  AI49188      Nevada             12887.431650       No   Premium  Bachelor   \n",
       "3  WW63253  California              7645.861827       No     Basic  Bachelor   \n",
       "4  HB64268  Washington              2813.692575       No     Basic  Bachelor   \n",
       "\n",
       "  Effective To Date EmploymentStatus Gender  Income Location Code  \\\n",
       "0           2/24/11         Employed      F   56274      Suburban   \n",
       "1           1/31/11       Unemployed      F       0      Suburban   \n",
       "2           2/19/11         Employed      F   48767      Suburban   \n",
       "3           1/20/11       Unemployed      M       0      Suburban   \n",
       "4            2/3/11         Employed      M   43836         Rural   \n",
       "\n",
       "  Marital Status  Monthly Premium Auto  Months Since Last Claim  \\\n",
       "0        Married                    69                       32   \n",
       "1         Single                    94                       13   \n",
       "2        Married                   108                       18   \n",
       "3        Married                   106                       18   \n",
       "4         Single                    73                       12   \n",
       "\n",
       "   Months Since Policy Inception  Number of Open Complaints  \\\n",
       "0                              5                          0   \n",
       "1                             42                          0   \n",
       "2                             38                          0   \n",
       "3                             65                          0   \n",
       "4                             44                          0   \n",
       "\n",
       "   Number of Policies     Policy Type        Policy Renew Offer Type  \\\n",
       "0                   1  Corporate Auto  Corporate L3           Offer1   \n",
       "1                   8   Personal Auto   Personal L3           Offer3   \n",
       "2                   2   Personal Auto   Personal L3           Offer1   \n",
       "3                   7  Corporate Auto  Corporate L2           Offer1   \n",
       "4                   1   Personal Auto   Personal L1           Offer1   \n",
       "\n",
       "  Sales Channel  Total Claim Amount  Vehicle Class Vehicle Size  \n",
       "0         Agent          384.811147   Two-Door Car      Medsize  \n",
       "1         Agent         1131.464935  Four-Door Car      Medsize  \n",
       "2         Agent          566.472247   Two-Door Car      Medsize  \n",
       "3   Call Center          529.881344            SUV      Medsize  \n",
       "4         Agent          138.130879  Four-Door Car      Medsize  "
      ]
     },
     "execution_count": 2,
     "metadata": {},
     "output_type": "execute_result"
    }
   ],
   "source": [
    "customer_df = pd.read_csv('/Users/vihaan/Desktop/Labs/Unit-4/lab-cleaning-numerical-data/files_for_lab/we_fn_use_c_marketing_customer_value_analysis.csv')\n",
    "customer_df.head()"
   ]
  },
  {
   "cell_type": "code",
   "execution_count": 3,
   "id": "fda4f50a",
   "metadata": {},
   "outputs": [
    {
     "data": {
      "text/plain": [
       "(9134, 24)"
      ]
     },
     "execution_count": 3,
     "metadata": {},
     "output_type": "execute_result"
    }
   ],
   "source": [
    "customer_df.shape"
   ]
  },
  {
   "cell_type": "code",
   "execution_count": 4,
   "id": "8038c2bc",
   "metadata": {},
   "outputs": [
    {
     "name": "stdout",
     "output_type": "stream",
     "text": [
      "<class 'pandas.core.frame.DataFrame'>\n",
      "RangeIndex: 9134 entries, 0 to 9133\n",
      "Data columns (total 24 columns):\n",
      " #   Column                         Non-Null Count  Dtype  \n",
      "---  ------                         --------------  -----  \n",
      " 0   Customer                       9134 non-null   object \n",
      " 1   State                          9134 non-null   object \n",
      " 2   Customer Lifetime Value        9134 non-null   float64\n",
      " 3   Response                       9134 non-null   object \n",
      " 4   Coverage                       9134 non-null   object \n",
      " 5   Education                      9134 non-null   object \n",
      " 6   Effective To Date              9134 non-null   object \n",
      " 7   EmploymentStatus               9134 non-null   object \n",
      " 8   Gender                         9134 non-null   object \n",
      " 9   Income                         9134 non-null   int64  \n",
      " 10  Location Code                  9134 non-null   object \n",
      " 11  Marital Status                 9134 non-null   object \n",
      " 12  Monthly Premium Auto           9134 non-null   int64  \n",
      " 13  Months Since Last Claim        9134 non-null   int64  \n",
      " 14  Months Since Policy Inception  9134 non-null   int64  \n",
      " 15  Number of Open Complaints      9134 non-null   int64  \n",
      " 16  Number of Policies             9134 non-null   int64  \n",
      " 17  Policy Type                    9134 non-null   object \n",
      " 18  Policy                         9134 non-null   object \n",
      " 19  Renew Offer Type               9134 non-null   object \n",
      " 20  Sales Channel                  9134 non-null   object \n",
      " 21  Total Claim Amount             9134 non-null   float64\n",
      " 22  Vehicle Class                  9134 non-null   object \n",
      " 23  Vehicle Size                   9134 non-null   object \n",
      "dtypes: float64(2), int64(6), object(16)\n",
      "memory usage: 1.7+ MB\n"
     ]
    }
   ],
   "source": [
    "customer_df.info()"
   ]
  },
  {
   "cell_type": "code",
   "execution_count": 5,
   "id": "f90d8772",
   "metadata": {},
   "outputs": [],
   "source": [
    "# renaming the column names to snake case to be unique\n",
    "customer_df.columns = [column.lower().replace(' ', '_') for column in customer_df.columns]"
   ]
  },
  {
   "cell_type": "code",
   "execution_count": 6,
   "id": "f7352515",
   "metadata": {},
   "outputs": [
    {
     "data": {
      "text/html": [
       "<div>\n",
       "<style scoped>\n",
       "    .dataframe tbody tr th:only-of-type {\n",
       "        vertical-align: middle;\n",
       "    }\n",
       "\n",
       "    .dataframe tbody tr th {\n",
       "        vertical-align: top;\n",
       "    }\n",
       "\n",
       "    .dataframe thead th {\n",
       "        text-align: right;\n",
       "    }\n",
       "</style>\n",
       "<table border=\"1\" class=\"dataframe\">\n",
       "  <thead>\n",
       "    <tr style=\"text-align: right;\">\n",
       "      <th></th>\n",
       "      <th>customer</th>\n",
       "      <th>state</th>\n",
       "      <th>customer_lifetime_value</th>\n",
       "      <th>response</th>\n",
       "      <th>coverage</th>\n",
       "      <th>education</th>\n",
       "      <th>effective_to_date</th>\n",
       "      <th>employmentstatus</th>\n",
       "      <th>gender</th>\n",
       "      <th>income</th>\n",
       "      <th>location_code</th>\n",
       "      <th>marital_status</th>\n",
       "      <th>monthly_premium_auto</th>\n",
       "      <th>months_since_last_claim</th>\n",
       "      <th>months_since_policy_inception</th>\n",
       "      <th>number_of_open_complaints</th>\n",
       "      <th>number_of_policies</th>\n",
       "      <th>policy_type</th>\n",
       "      <th>policy</th>\n",
       "      <th>renew_offer_type</th>\n",
       "      <th>sales_channel</th>\n",
       "      <th>total_claim_amount</th>\n",
       "      <th>vehicle_class</th>\n",
       "      <th>vehicle_size</th>\n",
       "    </tr>\n",
       "  </thead>\n",
       "  <tbody>\n",
       "    <tr>\n",
       "      <th>0</th>\n",
       "      <td>BU79786</td>\n",
       "      <td>Washington</td>\n",
       "      <td>2763.519279</td>\n",
       "      <td>No</td>\n",
       "      <td>Basic</td>\n",
       "      <td>Bachelor</td>\n",
       "      <td>2/24/11</td>\n",
       "      <td>Employed</td>\n",
       "      <td>F</td>\n",
       "      <td>56274</td>\n",
       "      <td>Suburban</td>\n",
       "      <td>Married</td>\n",
       "      <td>69</td>\n",
       "      <td>32</td>\n",
       "      <td>5</td>\n",
       "      <td>0</td>\n",
       "      <td>1</td>\n",
       "      <td>Corporate Auto</td>\n",
       "      <td>Corporate L3</td>\n",
       "      <td>Offer1</td>\n",
       "      <td>Agent</td>\n",
       "      <td>384.811147</td>\n",
       "      <td>Two-Door Car</td>\n",
       "      <td>Medsize</td>\n",
       "    </tr>\n",
       "    <tr>\n",
       "      <th>1</th>\n",
       "      <td>QZ44356</td>\n",
       "      <td>Arizona</td>\n",
       "      <td>6979.535903</td>\n",
       "      <td>No</td>\n",
       "      <td>Extended</td>\n",
       "      <td>Bachelor</td>\n",
       "      <td>1/31/11</td>\n",
       "      <td>Unemployed</td>\n",
       "      <td>F</td>\n",
       "      <td>0</td>\n",
       "      <td>Suburban</td>\n",
       "      <td>Single</td>\n",
       "      <td>94</td>\n",
       "      <td>13</td>\n",
       "      <td>42</td>\n",
       "      <td>0</td>\n",
       "      <td>8</td>\n",
       "      <td>Personal Auto</td>\n",
       "      <td>Personal L3</td>\n",
       "      <td>Offer3</td>\n",
       "      <td>Agent</td>\n",
       "      <td>1131.464935</td>\n",
       "      <td>Four-Door Car</td>\n",
       "      <td>Medsize</td>\n",
       "    </tr>\n",
       "    <tr>\n",
       "      <th>2</th>\n",
       "      <td>AI49188</td>\n",
       "      <td>Nevada</td>\n",
       "      <td>12887.431650</td>\n",
       "      <td>No</td>\n",
       "      <td>Premium</td>\n",
       "      <td>Bachelor</td>\n",
       "      <td>2/19/11</td>\n",
       "      <td>Employed</td>\n",
       "      <td>F</td>\n",
       "      <td>48767</td>\n",
       "      <td>Suburban</td>\n",
       "      <td>Married</td>\n",
       "      <td>108</td>\n",
       "      <td>18</td>\n",
       "      <td>38</td>\n",
       "      <td>0</td>\n",
       "      <td>2</td>\n",
       "      <td>Personal Auto</td>\n",
       "      <td>Personal L3</td>\n",
       "      <td>Offer1</td>\n",
       "      <td>Agent</td>\n",
       "      <td>566.472247</td>\n",
       "      <td>Two-Door Car</td>\n",
       "      <td>Medsize</td>\n",
       "    </tr>\n",
       "    <tr>\n",
       "      <th>3</th>\n",
       "      <td>WW63253</td>\n",
       "      <td>California</td>\n",
       "      <td>7645.861827</td>\n",
       "      <td>No</td>\n",
       "      <td>Basic</td>\n",
       "      <td>Bachelor</td>\n",
       "      <td>1/20/11</td>\n",
       "      <td>Unemployed</td>\n",
       "      <td>M</td>\n",
       "      <td>0</td>\n",
       "      <td>Suburban</td>\n",
       "      <td>Married</td>\n",
       "      <td>106</td>\n",
       "      <td>18</td>\n",
       "      <td>65</td>\n",
       "      <td>0</td>\n",
       "      <td>7</td>\n",
       "      <td>Corporate Auto</td>\n",
       "      <td>Corporate L2</td>\n",
       "      <td>Offer1</td>\n",
       "      <td>Call Center</td>\n",
       "      <td>529.881344</td>\n",
       "      <td>SUV</td>\n",
       "      <td>Medsize</td>\n",
       "    </tr>\n",
       "    <tr>\n",
       "      <th>4</th>\n",
       "      <td>HB64268</td>\n",
       "      <td>Washington</td>\n",
       "      <td>2813.692575</td>\n",
       "      <td>No</td>\n",
       "      <td>Basic</td>\n",
       "      <td>Bachelor</td>\n",
       "      <td>2/3/11</td>\n",
       "      <td>Employed</td>\n",
       "      <td>M</td>\n",
       "      <td>43836</td>\n",
       "      <td>Rural</td>\n",
       "      <td>Single</td>\n",
       "      <td>73</td>\n",
       "      <td>12</td>\n",
       "      <td>44</td>\n",
       "      <td>0</td>\n",
       "      <td>1</td>\n",
       "      <td>Personal Auto</td>\n",
       "      <td>Personal L1</td>\n",
       "      <td>Offer1</td>\n",
       "      <td>Agent</td>\n",
       "      <td>138.130879</td>\n",
       "      <td>Four-Door Car</td>\n",
       "      <td>Medsize</td>\n",
       "    </tr>\n",
       "  </tbody>\n",
       "</table>\n",
       "</div>"
      ],
      "text/plain": [
       "  customer       state  customer_lifetime_value response  coverage education  \\\n",
       "0  BU79786  Washington              2763.519279       No     Basic  Bachelor   \n",
       "1  QZ44356     Arizona              6979.535903       No  Extended  Bachelor   \n",
       "2  AI49188      Nevada             12887.431650       No   Premium  Bachelor   \n",
       "3  WW63253  California              7645.861827       No     Basic  Bachelor   \n",
       "4  HB64268  Washington              2813.692575       No     Basic  Bachelor   \n",
       "\n",
       "  effective_to_date employmentstatus gender  income location_code  \\\n",
       "0           2/24/11         Employed      F   56274      Suburban   \n",
       "1           1/31/11       Unemployed      F       0      Suburban   \n",
       "2           2/19/11         Employed      F   48767      Suburban   \n",
       "3           1/20/11       Unemployed      M       0      Suburban   \n",
       "4            2/3/11         Employed      M   43836         Rural   \n",
       "\n",
       "  marital_status  monthly_premium_auto  months_since_last_claim  \\\n",
       "0        Married                    69                       32   \n",
       "1         Single                    94                       13   \n",
       "2        Married                   108                       18   \n",
       "3        Married                   106                       18   \n",
       "4         Single                    73                       12   \n",
       "\n",
       "   months_since_policy_inception  number_of_open_complaints  \\\n",
       "0                              5                          0   \n",
       "1                             42                          0   \n",
       "2                             38                          0   \n",
       "3                             65                          0   \n",
       "4                             44                          0   \n",
       "\n",
       "   number_of_policies     policy_type        policy renew_offer_type  \\\n",
       "0                   1  Corporate Auto  Corporate L3           Offer1   \n",
       "1                   8   Personal Auto   Personal L3           Offer3   \n",
       "2                   2   Personal Auto   Personal L3           Offer1   \n",
       "3                   7  Corporate Auto  Corporate L2           Offer1   \n",
       "4                   1   Personal Auto   Personal L1           Offer1   \n",
       "\n",
       "  sales_channel  total_claim_amount  vehicle_class vehicle_size  \n",
       "0         Agent          384.811147   Two-Door Car      Medsize  \n",
       "1         Agent         1131.464935  Four-Door Car      Medsize  \n",
       "2         Agent          566.472247   Two-Door Car      Medsize  \n",
       "3   Call Center          529.881344            SUV      Medsize  \n",
       "4         Agent          138.130879  Four-Door Car      Medsize  "
      ]
     },
     "execution_count": 6,
     "metadata": {},
     "output_type": "execute_result"
    }
   ],
   "source": [
    "customer_df.head()"
   ]
  },
  {
   "cell_type": "code",
   "execution_count": 7,
   "id": "b00e47dd",
   "metadata": {},
   "outputs": [],
   "source": [
    "# converting date format to year-month-date\n",
    "customer_df['effective_to_date'] = pd.to_datetime(customer_df['effective_to_date'],errors='ignore')\n"
   ]
  },
  {
   "cell_type": "code",
   "execution_count": 8,
   "id": "ba420c0f",
   "metadata": {},
   "outputs": [],
   "source": [
    "# Adding new columns(effective_year, effective_month) to the dataframe\n",
    "customer_df['effective_year']= customer_df['effective_to_date'].dt.year\n",
    "customer_df['effective_month']= customer_df['effective_to_date'].dt.month\n",
    "customer_df['day_of_week']= customer_df['effective_to_date'].dt.day_name()"
   ]
  },
  {
   "cell_type": "code",
   "execution_count": 9,
   "id": "c0c63873",
   "metadata": {},
   "outputs": [
    {
     "data": {
      "text/html": [
       "<div>\n",
       "<style scoped>\n",
       "    .dataframe tbody tr th:only-of-type {\n",
       "        vertical-align: middle;\n",
       "    }\n",
       "\n",
       "    .dataframe tbody tr th {\n",
       "        vertical-align: top;\n",
       "    }\n",
       "\n",
       "    .dataframe thead th {\n",
       "        text-align: right;\n",
       "    }\n",
       "</style>\n",
       "<table border=\"1\" class=\"dataframe\">\n",
       "  <thead>\n",
       "    <tr style=\"text-align: right;\">\n",
       "      <th></th>\n",
       "      <th>customer_lifetime_value</th>\n",
       "      <th>income</th>\n",
       "      <th>monthly_premium_auto</th>\n",
       "      <th>months_since_last_claim</th>\n",
       "      <th>months_since_policy_inception</th>\n",
       "      <th>number_of_open_complaints</th>\n",
       "      <th>number_of_policies</th>\n",
       "      <th>total_claim_amount</th>\n",
       "      <th>effective_year</th>\n",
       "      <th>effective_month</th>\n",
       "    </tr>\n",
       "  </thead>\n",
       "  <tbody>\n",
       "    <tr>\n",
       "      <th>count</th>\n",
       "      <td>9134.000000</td>\n",
       "      <td>9134.000000</td>\n",
       "      <td>9134.000000</td>\n",
       "      <td>9134.000000</td>\n",
       "      <td>9134.000000</td>\n",
       "      <td>9134.000000</td>\n",
       "      <td>9134.000000</td>\n",
       "      <td>9134.000000</td>\n",
       "      <td>9134.0</td>\n",
       "      <td>9134.000000</td>\n",
       "    </tr>\n",
       "    <tr>\n",
       "      <th>mean</th>\n",
       "      <td>8004.940475</td>\n",
       "      <td>37657.380009</td>\n",
       "      <td>93.219291</td>\n",
       "      <td>15.097000</td>\n",
       "      <td>48.064594</td>\n",
       "      <td>0.384388</td>\n",
       "      <td>2.966170</td>\n",
       "      <td>434.088794</td>\n",
       "      <td>2011.0</td>\n",
       "      <td>1.463762</td>\n",
       "    </tr>\n",
       "    <tr>\n",
       "      <th>std</th>\n",
       "      <td>6870.967608</td>\n",
       "      <td>30379.904734</td>\n",
       "      <td>34.407967</td>\n",
       "      <td>10.073257</td>\n",
       "      <td>27.905991</td>\n",
       "      <td>0.910384</td>\n",
       "      <td>2.390182</td>\n",
       "      <td>290.500092</td>\n",
       "      <td>0.0</td>\n",
       "      <td>0.498712</td>\n",
       "    </tr>\n",
       "    <tr>\n",
       "      <th>min</th>\n",
       "      <td>1898.007675</td>\n",
       "      <td>0.000000</td>\n",
       "      <td>61.000000</td>\n",
       "      <td>0.000000</td>\n",
       "      <td>0.000000</td>\n",
       "      <td>0.000000</td>\n",
       "      <td>1.000000</td>\n",
       "      <td>0.099007</td>\n",
       "      <td>2011.0</td>\n",
       "      <td>1.000000</td>\n",
       "    </tr>\n",
       "    <tr>\n",
       "      <th>25%</th>\n",
       "      <td>3994.251794</td>\n",
       "      <td>0.000000</td>\n",
       "      <td>68.000000</td>\n",
       "      <td>6.000000</td>\n",
       "      <td>24.000000</td>\n",
       "      <td>0.000000</td>\n",
       "      <td>1.000000</td>\n",
       "      <td>272.258244</td>\n",
       "      <td>2011.0</td>\n",
       "      <td>1.000000</td>\n",
       "    </tr>\n",
       "    <tr>\n",
       "      <th>50%</th>\n",
       "      <td>5780.182197</td>\n",
       "      <td>33889.500000</td>\n",
       "      <td>83.000000</td>\n",
       "      <td>14.000000</td>\n",
       "      <td>48.000000</td>\n",
       "      <td>0.000000</td>\n",
       "      <td>2.000000</td>\n",
       "      <td>383.945434</td>\n",
       "      <td>2011.0</td>\n",
       "      <td>1.000000</td>\n",
       "    </tr>\n",
       "    <tr>\n",
       "      <th>75%</th>\n",
       "      <td>8962.167041</td>\n",
       "      <td>62320.000000</td>\n",
       "      <td>109.000000</td>\n",
       "      <td>23.000000</td>\n",
       "      <td>71.000000</td>\n",
       "      <td>0.000000</td>\n",
       "      <td>4.000000</td>\n",
       "      <td>547.514839</td>\n",
       "      <td>2011.0</td>\n",
       "      <td>2.000000</td>\n",
       "    </tr>\n",
       "    <tr>\n",
       "      <th>max</th>\n",
       "      <td>83325.381190</td>\n",
       "      <td>99981.000000</td>\n",
       "      <td>298.000000</td>\n",
       "      <td>35.000000</td>\n",
       "      <td>99.000000</td>\n",
       "      <td>5.000000</td>\n",
       "      <td>9.000000</td>\n",
       "      <td>2893.239678</td>\n",
       "      <td>2011.0</td>\n",
       "      <td>2.000000</td>\n",
       "    </tr>\n",
       "  </tbody>\n",
       "</table>\n",
       "</div>"
      ],
      "text/plain": [
       "       customer_lifetime_value        income  monthly_premium_auto  \\\n",
       "count              9134.000000   9134.000000           9134.000000   \n",
       "mean               8004.940475  37657.380009             93.219291   \n",
       "std                6870.967608  30379.904734             34.407967   \n",
       "min                1898.007675      0.000000             61.000000   \n",
       "25%                3994.251794      0.000000             68.000000   \n",
       "50%                5780.182197  33889.500000             83.000000   \n",
       "75%                8962.167041  62320.000000            109.000000   \n",
       "max               83325.381190  99981.000000            298.000000   \n",
       "\n",
       "       months_since_last_claim  months_since_policy_inception  \\\n",
       "count              9134.000000                    9134.000000   \n",
       "mean                 15.097000                      48.064594   \n",
       "std                  10.073257                      27.905991   \n",
       "min                   0.000000                       0.000000   \n",
       "25%                   6.000000                      24.000000   \n",
       "50%                  14.000000                      48.000000   \n",
       "75%                  23.000000                      71.000000   \n",
       "max                  35.000000                      99.000000   \n",
       "\n",
       "       number_of_open_complaints  number_of_policies  total_claim_amount  \\\n",
       "count                9134.000000         9134.000000         9134.000000   \n",
       "mean                    0.384388            2.966170          434.088794   \n",
       "std                     0.910384            2.390182          290.500092   \n",
       "min                     0.000000            1.000000            0.099007   \n",
       "25%                     0.000000            1.000000          272.258244   \n",
       "50%                     0.000000            2.000000          383.945434   \n",
       "75%                     0.000000            4.000000          547.514839   \n",
       "max                     5.000000            9.000000         2893.239678   \n",
       "\n",
       "       effective_year  effective_month  \n",
       "count          9134.0      9134.000000  \n",
       "mean           2011.0         1.463762  \n",
       "std               0.0         0.498712  \n",
       "min            2011.0         1.000000  \n",
       "25%            2011.0         1.000000  \n",
       "50%            2011.0         1.000000  \n",
       "75%            2011.0         2.000000  \n",
       "max            2011.0         2.000000  "
      ]
     },
     "execution_count": 9,
     "metadata": {},
     "output_type": "execute_result"
    }
   ],
   "source": [
    "customer_df.describe()"
   ]
  },
  {
   "cell_type": "code",
   "execution_count": 10,
   "id": "663597df",
   "metadata": {},
   "outputs": [
    {
     "data": {
      "text/html": [
       "<div>\n",
       "<style scoped>\n",
       "    .dataframe tbody tr th:only-of-type {\n",
       "        vertical-align: middle;\n",
       "    }\n",
       "\n",
       "    .dataframe tbody tr th {\n",
       "        vertical-align: top;\n",
       "    }\n",
       "\n",
       "    .dataframe thead th {\n",
       "        text-align: right;\n",
       "    }\n",
       "</style>\n",
       "<table border=\"1\" class=\"dataframe\">\n",
       "  <thead>\n",
       "    <tr style=\"text-align: right;\">\n",
       "      <th></th>\n",
       "      <th>customer_lifetime_value</th>\n",
       "      <th>income</th>\n",
       "      <th>monthly_premium_auto</th>\n",
       "      <th>months_since_last_claim</th>\n",
       "      <th>months_since_policy_inception</th>\n",
       "      <th>number_of_open_complaints</th>\n",
       "      <th>number_of_policies</th>\n",
       "      <th>total_claim_amount</th>\n",
       "      <th>effective_year</th>\n",
       "      <th>effective_month</th>\n",
       "    </tr>\n",
       "  </thead>\n",
       "  <tbody>\n",
       "    <tr>\n",
       "      <th>customer_lifetime_value</th>\n",
       "      <td>1.000000</td>\n",
       "      <td>0.024366</td>\n",
       "      <td>0.396262</td>\n",
       "      <td>0.011517</td>\n",
       "      <td>0.009418</td>\n",
       "      <td>-0.036343</td>\n",
       "      <td>0.021955</td>\n",
       "      <td>0.226451</td>\n",
       "      <td>NaN</td>\n",
       "      <td>-0.006096</td>\n",
       "    </tr>\n",
       "    <tr>\n",
       "      <th>income</th>\n",
       "      <td>0.024366</td>\n",
       "      <td>1.000000</td>\n",
       "      <td>-0.016665</td>\n",
       "      <td>-0.026715</td>\n",
       "      <td>-0.000875</td>\n",
       "      <td>0.006408</td>\n",
       "      <td>-0.008656</td>\n",
       "      <td>-0.355254</td>\n",
       "      <td>NaN</td>\n",
       "      <td>0.000169</td>\n",
       "    </tr>\n",
       "    <tr>\n",
       "      <th>monthly_premium_auto</th>\n",
       "      <td>0.396262</td>\n",
       "      <td>-0.016665</td>\n",
       "      <td>1.000000</td>\n",
       "      <td>0.005026</td>\n",
       "      <td>0.020257</td>\n",
       "      <td>-0.013122</td>\n",
       "      <td>-0.011233</td>\n",
       "      <td>0.632017</td>\n",
       "      <td>NaN</td>\n",
       "      <td>0.011467</td>\n",
       "    </tr>\n",
       "    <tr>\n",
       "      <th>months_since_last_claim</th>\n",
       "      <td>0.011517</td>\n",
       "      <td>-0.026715</td>\n",
       "      <td>0.005026</td>\n",
       "      <td>1.000000</td>\n",
       "      <td>-0.042959</td>\n",
       "      <td>0.005354</td>\n",
       "      <td>0.009136</td>\n",
       "      <td>0.007563</td>\n",
       "      <td>NaN</td>\n",
       "      <td>-0.020921</td>\n",
       "    </tr>\n",
       "    <tr>\n",
       "      <th>months_since_policy_inception</th>\n",
       "      <td>0.009418</td>\n",
       "      <td>-0.000875</td>\n",
       "      <td>0.020257</td>\n",
       "      <td>-0.042959</td>\n",
       "      <td>1.000000</td>\n",
       "      <td>-0.001158</td>\n",
       "      <td>-0.013333</td>\n",
       "      <td>0.003335</td>\n",
       "      <td>NaN</td>\n",
       "      <td>0.011010</td>\n",
       "    </tr>\n",
       "    <tr>\n",
       "      <th>number_of_open_complaints</th>\n",
       "      <td>-0.036343</td>\n",
       "      <td>0.006408</td>\n",
       "      <td>-0.013122</td>\n",
       "      <td>0.005354</td>\n",
       "      <td>-0.001158</td>\n",
       "      <td>1.000000</td>\n",
       "      <td>0.001498</td>\n",
       "      <td>-0.014241</td>\n",
       "      <td>NaN</td>\n",
       "      <td>-0.006335</td>\n",
       "    </tr>\n",
       "    <tr>\n",
       "      <th>number_of_policies</th>\n",
       "      <td>0.021955</td>\n",
       "      <td>-0.008656</td>\n",
       "      <td>-0.011233</td>\n",
       "      <td>0.009136</td>\n",
       "      <td>-0.013333</td>\n",
       "      <td>0.001498</td>\n",
       "      <td>1.000000</td>\n",
       "      <td>-0.002354</td>\n",
       "      <td>NaN</td>\n",
       "      <td>0.009305</td>\n",
       "    </tr>\n",
       "    <tr>\n",
       "      <th>total_claim_amount</th>\n",
       "      <td>0.226451</td>\n",
       "      <td>-0.355254</td>\n",
       "      <td>0.632017</td>\n",
       "      <td>0.007563</td>\n",
       "      <td>0.003335</td>\n",
       "      <td>-0.014241</td>\n",
       "      <td>-0.002354</td>\n",
       "      <td>1.000000</td>\n",
       "      <td>NaN</td>\n",
       "      <td>0.006820</td>\n",
       "    </tr>\n",
       "    <tr>\n",
       "      <th>effective_year</th>\n",
       "      <td>NaN</td>\n",
       "      <td>NaN</td>\n",
       "      <td>NaN</td>\n",
       "      <td>NaN</td>\n",
       "      <td>NaN</td>\n",
       "      <td>NaN</td>\n",
       "      <td>NaN</td>\n",
       "      <td>NaN</td>\n",
       "      <td>NaN</td>\n",
       "      <td>NaN</td>\n",
       "    </tr>\n",
       "    <tr>\n",
       "      <th>effective_month</th>\n",
       "      <td>-0.006096</td>\n",
       "      <td>0.000169</td>\n",
       "      <td>0.011467</td>\n",
       "      <td>-0.020921</td>\n",
       "      <td>0.011010</td>\n",
       "      <td>-0.006335</td>\n",
       "      <td>0.009305</td>\n",
       "      <td>0.006820</td>\n",
       "      <td>NaN</td>\n",
       "      <td>1.000000</td>\n",
       "    </tr>\n",
       "  </tbody>\n",
       "</table>\n",
       "</div>"
      ],
      "text/plain": [
       "                               customer_lifetime_value    income  \\\n",
       "customer_lifetime_value                       1.000000  0.024366   \n",
       "income                                        0.024366  1.000000   \n",
       "monthly_premium_auto                          0.396262 -0.016665   \n",
       "months_since_last_claim                       0.011517 -0.026715   \n",
       "months_since_policy_inception                 0.009418 -0.000875   \n",
       "number_of_open_complaints                    -0.036343  0.006408   \n",
       "number_of_policies                            0.021955 -0.008656   \n",
       "total_claim_amount                            0.226451 -0.355254   \n",
       "effective_year                                     NaN       NaN   \n",
       "effective_month                              -0.006096  0.000169   \n",
       "\n",
       "                               monthly_premium_auto  months_since_last_claim  \\\n",
       "customer_lifetime_value                    0.396262                 0.011517   \n",
       "income                                    -0.016665                -0.026715   \n",
       "monthly_premium_auto                       1.000000                 0.005026   \n",
       "months_since_last_claim                    0.005026                 1.000000   \n",
       "months_since_policy_inception              0.020257                -0.042959   \n",
       "number_of_open_complaints                 -0.013122                 0.005354   \n",
       "number_of_policies                        -0.011233                 0.009136   \n",
       "total_claim_amount                         0.632017                 0.007563   \n",
       "effective_year                                  NaN                      NaN   \n",
       "effective_month                            0.011467                -0.020921   \n",
       "\n",
       "                               months_since_policy_inception  \\\n",
       "customer_lifetime_value                             0.009418   \n",
       "income                                             -0.000875   \n",
       "monthly_premium_auto                                0.020257   \n",
       "months_since_last_claim                            -0.042959   \n",
       "months_since_policy_inception                       1.000000   \n",
       "number_of_open_complaints                          -0.001158   \n",
       "number_of_policies                                 -0.013333   \n",
       "total_claim_amount                                  0.003335   \n",
       "effective_year                                           NaN   \n",
       "effective_month                                     0.011010   \n",
       "\n",
       "                               number_of_open_complaints  number_of_policies  \\\n",
       "customer_lifetime_value                        -0.036343            0.021955   \n",
       "income                                          0.006408           -0.008656   \n",
       "monthly_premium_auto                           -0.013122           -0.011233   \n",
       "months_since_last_claim                         0.005354            0.009136   \n",
       "months_since_policy_inception                  -0.001158           -0.013333   \n",
       "number_of_open_complaints                       1.000000            0.001498   \n",
       "number_of_policies                              0.001498            1.000000   \n",
       "total_claim_amount                             -0.014241           -0.002354   \n",
       "effective_year                                       NaN                 NaN   \n",
       "effective_month                                -0.006335            0.009305   \n",
       "\n",
       "                               total_claim_amount  effective_year  \\\n",
       "customer_lifetime_value                  0.226451             NaN   \n",
       "income                                  -0.355254             NaN   \n",
       "monthly_premium_auto                     0.632017             NaN   \n",
       "months_since_last_claim                  0.007563             NaN   \n",
       "months_since_policy_inception            0.003335             NaN   \n",
       "number_of_open_complaints               -0.014241             NaN   \n",
       "number_of_policies                      -0.002354             NaN   \n",
       "total_claim_amount                       1.000000             NaN   \n",
       "effective_year                                NaN             NaN   \n",
       "effective_month                          0.006820             NaN   \n",
       "\n",
       "                               effective_month  \n",
       "customer_lifetime_value              -0.006096  \n",
       "income                                0.000169  \n",
       "monthly_premium_auto                  0.011467  \n",
       "months_since_last_claim              -0.020921  \n",
       "months_since_policy_inception         0.011010  \n",
       "number_of_open_complaints            -0.006335  \n",
       "number_of_policies                    0.009305  \n",
       "total_claim_amount                    0.006820  \n",
       "effective_year                             NaN  \n",
       "effective_month                       1.000000  "
      ]
     },
     "execution_count": 10,
     "metadata": {},
     "output_type": "execute_result"
    }
   ],
   "source": [
    "customer_df.corr()"
   ]
  },
  {
   "cell_type": "code",
   "execution_count": 11,
   "id": "bd0cd08a",
   "metadata": {},
   "outputs": [
    {
     "data": {
      "text/plain": [
       "income                          -0.355254\n",
       "number_of_open_complaints       -0.014241\n",
       "number_of_policies              -0.002354\n",
       "months_since_policy_inception    0.003335\n",
       "effective_month                  0.006820\n",
       "months_since_last_claim          0.007563\n",
       "customer_lifetime_value          0.226451\n",
       "monthly_premium_auto             0.632017\n",
       "total_claim_amount               1.000000\n",
       "effective_year                        NaN\n",
       "Name: total_claim_amount, dtype: float64"
      ]
     },
     "execution_count": 11,
     "metadata": {},
     "output_type": "execute_result"
    }
   ],
   "source": [
    "customer_df.corr()['total_claim_amount'].sort_values()"
   ]
  },
  {
   "cell_type": "markdown",
   "id": "7bf706c7",
   "metadata": {},
   "source": [
    "converting the effective_year(datatype:datetime64) to a string"
   ]
  },
  {
   "cell_type": "code",
   "execution_count": 12,
   "id": "9438f82e",
   "metadata": {},
   "outputs": [],
   "source": [
    "customer_df['effective_year'] = customer_df['effective_year'].astype(str)"
   ]
  },
  {
   "cell_type": "markdown",
   "id": "99806cc7",
   "metadata": {},
   "source": [
    "My Target feature is total_claim_amount. Due to the highest correlation compared to other features"
   ]
  },
  {
   "cell_type": "code",
   "execution_count": 13,
   "id": "58405148",
   "metadata": {},
   "outputs": [
    {
     "data": {
      "text/plain": [
       "total_claim_amount               1.000000\n",
       "monthly_premium_auto             0.632017\n",
       "customer_lifetime_value          0.226451\n",
       "months_since_last_claim          0.007563\n",
       "effective_month                  0.006820\n",
       "months_since_policy_inception    0.003335\n",
       "number_of_policies              -0.002354\n",
       "number_of_open_complaints       -0.014241\n",
       "income                          -0.355254\n",
       "Name: total_claim_amount, dtype: float64"
      ]
     },
     "execution_count": 13,
     "metadata": {},
     "output_type": "execute_result"
    }
   ],
   "source": [
    "customer_df.corr()['total_claim_amount'].sort_values(ascending=False)"
   ]
  },
  {
   "cell_type": "markdown",
   "id": "b151c4c2",
   "metadata": {},
   "source": [
    " ##### Dealing with numerical data"
   ]
  },
  {
   "cell_type": "markdown",
   "id": "60bf7846",
   "metadata": {},
   "source": [
    "for now the important features are total_claim_amount, monthly_premium_auto, customer_lifetime_value, income. \n",
    "few otliers are available but i decided not to remove outliers here."
   ]
  },
  {
   "cell_type": "code",
   "execution_count": 14,
   "id": "5dc3adbe",
   "metadata": {},
   "outputs": [
    {
     "data": {
      "image/png": "[encoded data removed]",
      "text/plain": [
       "<Figure size 432x288 with 1 Axes>"
      ]
     },
     "metadata": {
      "needs_background": "light"
     },
     "output_type": "display_data"
    },
    {
     "data": {
      "image/png": "[encoded data removed]",
      "text/plain": [
       "<Figure size 432x288 with 1 Axes>"
      ]
     },
     "metadata": {
      "needs_background": "light"
     },
     "output_type": "display_data"
    },
    {
     "data": {
      "image/png": "[encoded data removed]",
      "text/plain": [
       "<Figure size 432x288 with 1 Axes>"
      ]
     },
     "metadata": {
      "needs_background": "light"
     },
     "output_type": "display_data"
    },
    {
     "data": {
      "image/png": "[encoded data removed]",
      "text/plain": [
       "<Figure size 432x288 with 1 Axes>"
      ]
     },
     "metadata": {
      "needs_background": "light"
     },
     "output_type": "display_data"
    },
    {
     "data": {
      "image/png": "[encoded data removed]",
      "text/plain": [
       "<Figure size 432x288 with 1 Axes>"
      ]
     },
     "metadata": {
      "needs_background": "light"
     },
     "output_type": "display_data"
    },
    {
     "data": {
      "image/png": "[encoded data removed]",
      "text/plain": [
       "<Figure size 432x288 with 1 Axes>"
      ]
     },
     "metadata": {
      "needs_background": "light"
     },
     "output_type": "display_data"
    },
    {
     "data": {
      "image/png": "[encoded data removed]",
      "text/plain": [
       "<Figure size 432x288 with 1 Axes>"
      ]
     },
     "metadata": {
      "needs_background": "light"
     },
     "output_type": "display_data"
    },
    {
     "data": {
      "image/png": "[encoded data removed]",
      "text/plain": [
       "<Figure size 432x288 with 1 Axes>"
      ]
     },
     "metadata": {
      "needs_background": "light"
     },
     "output_type": "display_data"
    },
    {
     "data": {
      "image/png": "[encoded data removed]",
      "text/plain": [
       "<Figure size 432x288 with 1 Axes>"
      ]
     },
     "metadata": {
      "needs_background": "light"
     },
     "output_type": "display_data"
    }
   ],
   "source": [
    "for column in customer_df.select_dtypes(np.number).columns:\n",
    "    sns.distplot(customer_df[column])\n",
    "    plt.show()"
   ]
  },
  {
   "cell_type": "code",
   "execution_count": 15,
   "id": "b9ec4504",
   "metadata": {},
   "outputs": [],
   "source": [
    "def log_transform(x):\n",
    "    if np.isfinite(x) and x!=0:\n",
    "        return np.log(x)\n",
    "    else:\n",
    "        return np.NAN"
   ]
  },
  {
   "cell_type": "code",
   "execution_count": 16,
   "id": "fa750c88",
   "metadata": {},
   "outputs": [],
   "source": [
    "data1 = customer_df.copy()\n",
    "\n",
    "data1['total_claim_amount'] = data1['total_claim_amount'].apply(log_transform).fillna(data1['total_claim_amount'].mean())"
   ]
  },
  {
   "cell_type": "code",
   "execution_count": 17,
   "id": "7ad48e36",
   "metadata": {
    "scrolled": true
   },
   "outputs": [
    {
     "data": {
      "text/plain": [
       "<AxesSubplot:xlabel='total_claim_amount', ylabel='Density'>"
      ]
     },
     "execution_count": 17,
     "metadata": {},
     "output_type": "execute_result"
    },
    {
     "data": {
      "image/png": "[encoded data removed]",
      "text/plain": [
       "<Figure size 432x288 with 1 Axes>"
      ]
     },
     "metadata": {
      "needs_background": "light"
     },
     "output_type": "display_data"
    }
   ],
   "source": [
    "sns.distplot(data1['total_claim_amount'])"
   ]
  },
  {
   "cell_type": "code",
   "execution_count": 18,
   "id": "38e7354e",
   "metadata": {},
   "outputs": [
    {
     "data": {
      "image/png": "[encoded data removed]",
      "text/plain": [
       "<Figure size 432x288 with 1 Axes>"
      ]
     },
     "metadata": {
      "needs_background": "light"
     },
     "output_type": "display_data"
    },
    {
     "data": {
      "image/png": "[encoded data removed]",
      "text/plain": [
       "<Figure size 432x288 with 1 Axes>"
      ]
     },
     "metadata": {
      "needs_background": "light"
     },
     "output_type": "display_data"
    },
    {
     "data": {
      "image/png": "[encoded data removed]",
      "text/plain": [
       "<Figure size 432x288 with 1 Axes>"
      ]
     },
     "metadata": {
      "needs_background": "light"
     },
     "output_type": "display_data"
    },
    {
     "data": {
      "image/png": "[encoded data removed]",
      "text/plain": [
       "<Figure size 432x288 with 1 Axes>"
      ]
     },
     "metadata": {
      "needs_background": "light"
     },
     "output_type": "display_data"
    },
    {
     "data": {
      "image/png": "[encoded data removed]",
      "text/plain": [
       "<Figure size 432x288 with 1 Axes>"
      ]
     },
     "metadata": {
      "needs_background": "light"
     },
     "output_type": "display_data"
    },
    {
     "data": {
      "image/png": "[encoded data removed]",
      "text/plain": [
       "<Figure size 432x288 with 1 Axes>"
      ]
     },
     "metadata": {
      "needs_background": "light"
     },
     "output_type": "display_data"
    },
    {
     "data": {
      "image/png": "[encoded data removed]",
      "text/plain": [
       "<Figure size 432x288 with 1 Axes>"
      ]
     },
     "metadata": {
      "needs_background": "light"
     },
     "output_type": "display_data"
    },
    {
     "data": {
      "image/png": "[encoded data removed]",
      "text/plain": [
       "<Figure size 432x288 with 1 Axes>"
      ]
     },
     "metadata": {
      "needs_background": "light"
     },
     "output_type": "display_data"
    },
    {
     "data": {
      "image/png": "[encoded data removed]",
      "text/plain": [
       "<Figure size 432x288 with 1 Axes>"
      ]
     },
     "metadata": {
      "needs_background": "light"
     },
     "output_type": "display_data"
    }
   ],
   "source": [
    "for column in customer_df.select_dtypes(np.number).columns:\n",
    "    sns.boxplot(customer_df[column])\n",
    "    plt.show()"
   ]
  },
  {
   "cell_type": "markdown",
   "id": "778343ef",
   "metadata": {},
   "source": [
    "##### Categorical data visualization"
   ]
  },
  {
   "cell_type": "markdown",
   "id": "544b89bd",
   "metadata": {},
   "source": [
    "All the categorical data seems good, because there are no null data, so i decided not to do bucketing them.\n",
    "Maximum number of our customers are 'Employeed' and \n",
    "most of the policy coverage is 'basic' and \n",
    "policytype is 'personal auto policy-type'\n",
    "\n"
   ]
  },
  {
   "cell_type": "code",
   "execution_count": 19,
   "id": "00f6b38f",
   "metadata": {},
   "outputs": [
    {
     "name": "stdout",
     "output_type": "stream",
     "text": [
      "BU79786    1\n",
      "PU81096    1\n",
      "CO75086    1\n",
      "WW52683    1\n",
      "XO38850    1\n",
      "          ..\n",
      "HS14476    1\n",
      "YL91587    1\n",
      "CT18212    1\n",
      "EW35231    1\n",
      "Y167826    1\n",
      "Name: customer, Length: 9134, dtype: int64 \n",
      "****************\n",
      "\n",
      "California    3150\n",
      "Oregon        2601\n",
      "Arizona       1703\n",
      "Nevada         882\n",
      "Washington     798\n",
      "Name: state, dtype: int64 \n",
      "****************\n",
      "\n",
      "No     7826\n",
      "Yes    1308\n",
      "Name: response, dtype: int64 \n",
      "****************\n",
      "\n",
      "Basic       5568\n",
      "Extended    2742\n",
      "Premium      824\n",
      "Name: coverage, dtype: int64 \n",
      "****************\n",
      "\n",
      "Bachelor                2748\n",
      "College                 2681\n",
      "High School or Below    2622\n",
      "Master                   741\n",
      "Doctor                   342\n",
      "Name: education, dtype: int64 \n",
      "****************\n",
      "\n",
      "Employed         5698\n",
      "Unemployed       2317\n",
      "Medical Leave     432\n",
      "Disabled          405\n",
      "Retired           282\n",
      "Name: employmentstatus, dtype: int64 \n",
      "****************\n",
      "\n",
      "F    4658\n",
      "M    4476\n",
      "Name: gender, dtype: int64 \n",
      "****************\n",
      "\n",
      "Suburban    5779\n",
      "Rural       1773\n",
      "Urban       1582\n",
      "Name: location_code, dtype: int64 \n",
      "****************\n",
      "\n",
      "Married     5298\n",
      "Single      2467\n",
      "Divorced    1369\n",
      "Name: marital_status, dtype: int64 \n",
      "****************\n",
      "\n",
      "Personal Auto     6788\n",
      "Corporate Auto    1968\n",
      "Special Auto       378\n",
      "Name: policy_type, dtype: int64 \n",
      "****************\n",
      "\n",
      "Personal L3     3426\n",
      "Personal L2     2122\n",
      "Personal L1     1240\n",
      "Corporate L3    1014\n",
      "Corporate L2     595\n",
      "Corporate L1     359\n",
      "Special L2       164\n",
      "Special L3       148\n",
      "Special L1        66\n",
      "Name: policy, dtype: int64 \n",
      "****************\n",
      "\n",
      "Offer1    3752\n",
      "Offer2    2926\n",
      "Offer3    1432\n",
      "Offer4    1024\n",
      "Name: renew_offer_type, dtype: int64 \n",
      "****************\n",
      "\n",
      "Agent          3477\n",
      "Branch         2567\n",
      "Call Center    1765\n",
      "Web            1325\n",
      "Name: sales_channel, dtype: int64 \n",
      "****************\n",
      "\n",
      "Four-Door Car    4621\n",
      "Two-Door Car     1886\n",
      "SUV              1796\n",
      "Sports Car        484\n",
      "Luxury SUV        184\n",
      "Luxury Car        163\n",
      "Name: vehicle_class, dtype: int64 \n",
      "****************\n",
      "\n",
      "Medsize    6424\n",
      "Small      1764\n",
      "Large       946\n",
      "Name: vehicle_size, dtype: int64 \n",
      "****************\n",
      "\n",
      "2011    9134\n",
      "Name: effective_year, dtype: int64 \n",
      "****************\n",
      "\n",
      "Monday       1530\n",
      "Saturday     1397\n",
      "Sunday       1330\n",
      "Thursday     1249\n",
      "Friday       1245\n",
      "Wednesday    1221\n",
      "Tuesday      1162\n",
      "Name: day_of_week, dtype: int64 \n",
      "****************\n",
      "\n"
     ]
    }
   ],
   "source": [
    "for col in customer_df.select_dtypes('object'):\n",
    "    print(customer_df[col].value_counts(), '\\n****************\\n')"
   ]
  },
  {
   "cell_type": "code",
   "execution_count": 20,
   "id": "ceb13d41",
   "metadata": {},
   "outputs": [
    {
     "data": {
      "text/plain": [
       "<AxesSubplot:xlabel='state', ylabel='count'>"
      ]
     },
     "execution_count": 20,
     "metadata": {},
     "output_type": "execute_result"
    },
    {
     "data": {
      "image/png": "[encoded data removed]",
      "text/plain": [
       "<Figure size 864x576 with 1 Axes>"
      ]
     },
     "metadata": {
      "needs_background": "light"
     },
     "output_type": "display_data"
    }
   ],
   "source": [
    "plt.figure(figsize=(12,8))\n",
    "sns.countplot('state', hue='coverage', data=customer_df)"
   ]
  },
  {
   "cell_type": "code",
   "execution_count": 21,
   "id": "a2532b09",
   "metadata": {},
   "outputs": [
    {
     "data": {
      "text/plain": [
       "<AxesSubplot:xlabel='coverage', ylabel='count'>"
      ]
     },
     "execution_count": 21,
     "metadata": {},
     "output_type": "execute_result"
    },
    {
     "data": {
      "image/png": "[encoded data removed]",
      "text/plain": [
       "<Figure size 864x576 with 1 Axes>"
      ]
     },
     "metadata": {
      "needs_background": "light"
     },
     "output_type": "display_data"
    }
   ],
   "source": [
    "plt.figure(figsize=(12,8))\n",
    "sns.countplot('coverage', hue='gender', data=customer_df)"
   ]
  },
  {
   "cell_type": "code",
   "execution_count": 22,
   "id": "d962b760",
   "metadata": {},
   "outputs": [
    {
     "data": {
      "text/plain": [
       "<AxesSubplot:xlabel='policy_type', ylabel='count'>"
      ]
     },
     "execution_count": 22,
     "metadata": {},
     "output_type": "execute_result"
    },
    {
     "data": {
      "image/png": "[encoded data removed]",
      "text/plain": [
       "<Figure size 864x576 with 1 Axes>"
      ]
     },
     "metadata": {
      "needs_background": "light"
     },
     "output_type": "display_data"
    }
   ],
   "source": [
    "plt.figure(figsize=(12,8))\n",
    "sns.countplot('policy_type', hue='coverage', data=customer_df)"
   ]
  },
  {
   "cell_type": "code",
   "execution_count": 23,
   "id": "8136d8f1",
   "metadata": {},
   "outputs": [
    {
     "data": {
      "text/plain": [
       "<AxesSubplot:xlabel='employmentstatus', ylabel='count'>"
      ]
     },
     "execution_count": 23,
     "metadata": {},
     "output_type": "execute_result"
    },
    {
     "data": {
      "image/png": "[encoded data removed]",
      "text/plain": [
       "<Figure size 864x576 with 1 Axes>"
      ]
     },
     "metadata": {
      "needs_background": "light"
     },
     "output_type": "display_data"
    }
   ],
   "source": [
    "plt.figure(figsize=(12,8))\n",
    "sns.countplot('employmentstatus', hue='coverage', data=customer_df)"
   ]
  },
  {
   "cell_type": "markdown",
   "id": "189d191d",
   "metadata": {},
   "source": [
    "most of the customers having basic coverage respective states and policy_type and employment_status\n",
    "Female customers are more compares to male(no big difference)"
   ]
  },
  {
   "cell_type": "markdown",
   "id": "499eb2cd",
   "metadata": {},
   "source": [
    "I wouldn't like to remove outliers. Because there are not so many and i don't know how it will effect on my model.\n",
    "There are no null values in categorical and numerical data"
   ]
  },
  {
   "cell_type": "markdown",
   "id": "b7b065ed",
   "metadata": {},
   "source": [
    "# Lab2 | Cleaning categorical data"
   ]
  },
  {
   "cell_type": "code",
   "execution_count": 24,
   "id": "d7280c5a",
   "metadata": {},
   "outputs": [
    {
     "data": {
      "text/html": [
       "<div>\n",
       "<style scoped>\n",
       "    .dataframe tbody tr th:only-of-type {\n",
       "        vertical-align: middle;\n",
       "    }\n",
       "\n",
       "    .dataframe tbody tr th {\n",
       "        vertical-align: top;\n",
       "    }\n",
       "\n",
       "    .dataframe thead th {\n",
       "        text-align: right;\n",
       "    }\n",
       "</style>\n",
       "<table border=\"1\" class=\"dataframe\">\n",
       "  <thead>\n",
       "    <tr style=\"text-align: right;\">\n",
       "      <th></th>\n",
       "      <th>state</th>\n",
       "      <th>customer_lifetime_value</th>\n",
       "      <th>response</th>\n",
       "      <th>coverage</th>\n",
       "      <th>education</th>\n",
       "      <th>effective_to_date</th>\n",
       "      <th>employmentstatus</th>\n",
       "      <th>gender</th>\n",
       "      <th>income</th>\n",
       "      <th>location_code</th>\n",
       "      <th>marital_status</th>\n",
       "      <th>monthly_premium_auto</th>\n",
       "      <th>months_since_last_claim</th>\n",
       "      <th>months_since_policy_inception</th>\n",
       "      <th>number_of_open_complaints</th>\n",
       "      <th>number_of_policies</th>\n",
       "      <th>policy_type</th>\n",
       "      <th>policy</th>\n",
       "      <th>renew_offer_type</th>\n",
       "      <th>sales_channel</th>\n",
       "      <th>total_claim_amount</th>\n",
       "      <th>vehicle_class</th>\n",
       "      <th>vehicle_size</th>\n",
       "      <th>effective_year</th>\n",
       "      <th>effective_month</th>\n",
       "      <th>day_of_week</th>\n",
       "    </tr>\n",
       "  </thead>\n",
       "  <tbody>\n",
       "    <tr>\n",
       "      <th>0</th>\n",
       "      <td>Washington</td>\n",
       "      <td>2763.519279</td>\n",
       "      <td>No</td>\n",
       "      <td>Basic</td>\n",
       "      <td>Bachelor</td>\n",
       "      <td>2011-02-24</td>\n",
       "      <td>Employed</td>\n",
       "      <td>F</td>\n",
       "      <td>56274</td>\n",
       "      <td>Suburban</td>\n",
       "      <td>Married</td>\n",
       "      <td>69</td>\n",
       "      <td>32</td>\n",
       "      <td>5</td>\n",
       "      <td>0</td>\n",
       "      <td>1</td>\n",
       "      <td>Corporate Auto</td>\n",
       "      <td>Corporate L3</td>\n",
       "      <td>Offer1</td>\n",
       "      <td>Agent</td>\n",
       "      <td>384.811147</td>\n",
       "      <td>Two-Door Car</td>\n",
       "      <td>Medsize</td>\n",
       "      <td>2011</td>\n",
       "      <td>2</td>\n",
       "      <td>Thursday</td>\n",
       "    </tr>\n",
       "    <tr>\n",
       "      <th>1</th>\n",
       "      <td>Arizona</td>\n",
       "      <td>6979.535903</td>\n",
       "      <td>No</td>\n",
       "      <td>Extended</td>\n",
       "      <td>Bachelor</td>\n",
       "      <td>2011-01-31</td>\n",
       "      <td>Unemployed</td>\n",
       "      <td>F</td>\n",
       "      <td>0</td>\n",
       "      <td>Suburban</td>\n",
       "      <td>Single</td>\n",
       "      <td>94</td>\n",
       "      <td>13</td>\n",
       "      <td>42</td>\n",
       "      <td>0</td>\n",
       "      <td>8</td>\n",
       "      <td>Personal Auto</td>\n",
       "      <td>Personal L3</td>\n",
       "      <td>Offer3</td>\n",
       "      <td>Agent</td>\n",
       "      <td>1131.464935</td>\n",
       "      <td>Four-Door Car</td>\n",
       "      <td>Medsize</td>\n",
       "      <td>2011</td>\n",
       "      <td>1</td>\n",
       "      <td>Monday</td>\n",
       "    </tr>\n",
       "    <tr>\n",
       "      <th>2</th>\n",
       "      <td>Nevada</td>\n",
       "      <td>12887.431650</td>\n",
       "      <td>No</td>\n",
       "      <td>Premium</td>\n",
       "      <td>Bachelor</td>\n",
       "      <td>2011-02-19</td>\n",
       "      <td>Employed</td>\n",
       "      <td>F</td>\n",
       "      <td>48767</td>\n",
       "      <td>Suburban</td>\n",
       "      <td>Married</td>\n",
       "      <td>108</td>\n",
       "      <td>18</td>\n",
       "      <td>38</td>\n",
       "      <td>0</td>\n",
       "      <td>2</td>\n",
       "      <td>Personal Auto</td>\n",
       "      <td>Personal L3</td>\n",
       "      <td>Offer1</td>\n",
       "      <td>Agent</td>\n",
       "      <td>566.472247</td>\n",
       "      <td>Two-Door Car</td>\n",
       "      <td>Medsize</td>\n",
       "      <td>2011</td>\n",
       "      <td>2</td>\n",
       "      <td>Saturday</td>\n",
       "    </tr>\n",
       "    <tr>\n",
       "      <th>3</th>\n",
       "      <td>California</td>\n",
       "      <td>7645.861827</td>\n",
       "      <td>No</td>\n",
       "      <td>Basic</td>\n",
       "      <td>Bachelor</td>\n",
       "      <td>2011-01-20</td>\n",
       "      <td>Unemployed</td>\n",
       "      <td>M</td>\n",
       "      <td>0</td>\n",
       "      <td>Suburban</td>\n",
       "      <td>Married</td>\n",
       "      <td>106</td>\n",
       "      <td>18</td>\n",
       "      <td>65</td>\n",
       "      <td>0</td>\n",
       "      <td>7</td>\n",
       "      <td>Corporate Auto</td>\n",
       "      <td>Corporate L2</td>\n",
       "      <td>Offer1</td>\n",
       "      <td>Call Center</td>\n",
       "      <td>529.881344</td>\n",
       "      <td>SUV</td>\n",
       "      <td>Medsize</td>\n",
       "      <td>2011</td>\n",
       "      <td>1</td>\n",
       "      <td>Thursday</td>\n",
       "    </tr>\n",
       "    <tr>\n",
       "      <th>4</th>\n",
       "      <td>Washington</td>\n",
       "      <td>2813.692575</td>\n",
       "      <td>No</td>\n",
       "      <td>Basic</td>\n",
       "      <td>Bachelor</td>\n",
       "      <td>2011-02-03</td>\n",
       "      <td>Employed</td>\n",
       "      <td>M</td>\n",
       "      <td>43836</td>\n",
       "      <td>Rural</td>\n",
       "      <td>Single</td>\n",
       "      <td>73</td>\n",
       "      <td>12</td>\n",
       "      <td>44</td>\n",
       "      <td>0</td>\n",
       "      <td>1</td>\n",
       "      <td>Personal Auto</td>\n",
       "      <td>Personal L1</td>\n",
       "      <td>Offer1</td>\n",
       "      <td>Agent</td>\n",
       "      <td>138.130879</td>\n",
       "      <td>Four-Door Car</td>\n",
       "      <td>Medsize</td>\n",
       "      <td>2011</td>\n",
       "      <td>2</td>\n",
       "      <td>Thursday</td>\n",
       "    </tr>\n",
       "  </tbody>\n",
       "</table>\n",
       "</div>"
      ],
      "text/plain": [
       "        state  customer_lifetime_value response  coverage education  \\\n",
       "0  Washington              2763.519279       No     Basic  Bachelor   \n",
       "1     Arizona              6979.535903       No  Extended  Bachelor   \n",
       "2      Nevada             12887.431650       No   Premium  Bachelor   \n",
       "3  California              7645.861827       No     Basic  Bachelor   \n",
       "4  Washington              2813.692575       No     Basic  Bachelor   \n",
       "\n",
       "  effective_to_date employmentstatus gender  income location_code  \\\n",
       "0        2011-02-24         Employed      F   56274      Suburban   \n",
       "1        2011-01-31       Unemployed      F       0      Suburban   \n",
       "2        2011-02-19         Employed      F   48767      Suburban   \n",
       "3        2011-01-20       Unemployed      M       0      Suburban   \n",
       "4        2011-02-03         Employed      M   43836         Rural   \n",
       "\n",
       "  marital_status  monthly_premium_auto  months_since_last_claim  \\\n",
       "0        Married                    69                       32   \n",
       "1         Single                    94                       13   \n",
       "2        Married                   108                       18   \n",
       "3        Married                   106                       18   \n",
       "4         Single                    73                       12   \n",
       "\n",
       "   months_since_policy_inception  number_of_open_complaints  \\\n",
       "0                              5                          0   \n",
       "1                             42                          0   \n",
       "2                             38                          0   \n",
       "3                             65                          0   \n",
       "4                             44                          0   \n",
       "\n",
       "   number_of_policies     policy_type        policy renew_offer_type  \\\n",
       "0                   1  Corporate Auto  Corporate L3           Offer1   \n",
       "1                   8   Personal Auto   Personal L3           Offer3   \n",
       "2                   2   Personal Auto   Personal L3           Offer1   \n",
       "3                   7  Corporate Auto  Corporate L2           Offer1   \n",
       "4                   1   Personal Auto   Personal L1           Offer1   \n",
       "\n",
       "  sales_channel  total_claim_amount  vehicle_class vehicle_size  \\\n",
       "0         Agent          384.811147   Two-Door Car      Medsize   \n",
       "1         Agent         1131.464935  Four-Door Car      Medsize   \n",
       "2         Agent          566.472247   Two-Door Car      Medsize   \n",
       "3   Call Center          529.881344            SUV      Medsize   \n",
       "4         Agent          138.130879  Four-Door Car      Medsize   \n",
       "\n",
       "  effective_year  effective_month day_of_week  \n",
       "0           2011                2    Thursday  \n",
       "1           2011                1      Monday  \n",
       "2           2011                2    Saturday  \n",
       "3           2011                1    Thursday  \n",
       "4           2011                2    Thursday  "
      ]
     },
     "execution_count": 24,
     "metadata": {},
     "output_type": "execute_result"
    }
   ],
   "source": [
    "customer_df = customer_df.drop('customer', axis = 1)\n",
    "customer_df.head()"
   ]
  },
  {
   "cell_type": "markdown",
   "id": "2857ba43",
   "metadata": {},
   "source": [
    "I decided to drop the customer column because it has unique value. No longer needed"
   ]
  },
  {
   "cell_type": "code",
   "execution_count": 25,
   "id": "1fb7dc8a",
   "metadata": {},
   "outputs": [],
   "source": [
    "numerical_df = customer_df.select_dtypes('number')\n",
    "categorical_df = customer_df.select_dtypes('object')"
   ]
  },
  {
   "cell_type": "markdown",
   "id": "7932ef38",
   "metadata": {},
   "source": [
    "compared the categorical_data with target. The relation completely opposite compared to the above observation.\n",
    "highest total_claim_amount from premium coverage, eventhough highest number of customers having basic coverage.\n",
    "maximum number of unemployed customers.\n",
    "highest total_claim_amount from unemployed customers and single"
   ]
  },
  {
   "cell_type": "code",
   "execution_count": 26,
   "id": "fab2d227",
   "metadata": {},
   "outputs": [
    {
     "data": {
      "text/plain": [
       "<AxesSubplot:xlabel='state', ylabel='total_claim_amount'>"
      ]
     },
     "execution_count": 26,
     "metadata": {},
     "output_type": "execute_result"
    },
    {
     "data": {
      "image/png": "[encoded data removed]",
      "text/plain": [
       "<Figure size 432x288 with 1 Axes>"
      ]
     },
     "metadata": {
      "needs_background": "light"
     },
     "output_type": "display_data"
    }
   ],
   "source": [
    "sns.barplot(x=\"state\", y=\"total_claim_amount\", data=customer_df)"
   ]
  },
  {
   "cell_type": "code",
   "execution_count": 27,
   "id": "0773ed47",
   "metadata": {},
   "outputs": [
    {
     "data": {
      "text/plain": [
       "<AxesSubplot:xlabel='response', ylabel='total_claim_amount'>"
      ]
     },
     "execution_count": 27,
     "metadata": {},
     "output_type": "execute_result"
    },
    {
     "data": {
      "image/png": "[encoded data removed]",
      "text/plain": [
       "<Figure size 432x288 with 1 Axes>"
      ]
     },
     "metadata": {
      "needs_background": "light"
     },
     "output_type": "display_data"
    }
   ],
   "source": [
    "sns.barplot(x=\"response\", y=\"total_claim_amount\", data=customer_df)"
   ]
  },
  {
   "cell_type": "code",
   "execution_count": 28,
   "id": "c8f5f66a",
   "metadata": {},
   "outputs": [
    {
     "data": {
      "text/plain": [
       "<AxesSubplot:xlabel='coverage', ylabel='total_claim_amount'>"
      ]
     },
     "execution_count": 28,
     "metadata": {},
     "output_type": "execute_result"
    },
    {
     "data": {
      "image/png": "[encoded data removed]",
      "text/plain": [
       "<Figure size 432x288 with 1 Axes>"
      ]
     },
     "metadata": {
      "needs_background": "light"
     },
     "output_type": "display_data"
    }
   ],
   "source": [
    "sns.barplot(x=\"coverage\", y=\"total_claim_amount\", data=customer_df)"
   ]
  },
  {
   "cell_type": "code",
   "execution_count": 29,
   "id": "3fc300d9",
   "metadata": {},
   "outputs": [
    {
     "data": {
      "text/plain": [
       "<AxesSubplot:xlabel='education', ylabel='total_claim_amount'>"
      ]
     },
     "execution_count": 29,
     "metadata": {},
     "output_type": "execute_result"
    },
    {
     "data": {
      "image/png": "[encoded data removed]",
      "text/plain": [
       "<Figure size 432x288 with 1 Axes>"
      ]
     },
     "metadata": {
      "needs_background": "light"
     },
     "output_type": "display_data"
    }
   ],
   "source": [
    "sns.barplot(x=\"education\", y=\"total_claim_amount\", data=customer_df)"
   ]
  },
  {
   "cell_type": "code",
   "execution_count": 30,
   "id": "d327cf02",
   "metadata": {},
   "outputs": [
    {
     "data": {
      "text/plain": [
       "<AxesSubplot:xlabel='employmentstatus', ylabel='total_claim_amount'>"
      ]
     },
     "execution_count": 30,
     "metadata": {},
     "output_type": "execute_result"
    },
    {
     "data": {
      "image/png": "[encoded data removed]",
      "text/plain": [
       "<Figure size 432x288 with 1 Axes>"
      ]
     },
     "metadata": {
      "needs_background": "light"
     },
     "output_type": "display_data"
    }
   ],
   "source": [
    "sns.barplot(x=\"employmentstatus\", y=\"total_claim_amount\", data=customer_df)"
   ]
  },
  {
   "cell_type": "code",
   "execution_count": 31,
   "id": "5582f007",
   "metadata": {},
   "outputs": [
    {
     "data": {
      "text/plain": [
       "<AxesSubplot:xlabel='gender', ylabel='total_claim_amount'>"
      ]
     },
     "execution_count": 31,
     "metadata": {},
     "output_type": "execute_result"
    },
    {
     "data": {
      "image/png": "[encoded data removed]",
      "text/plain": [
       "<Figure size 432x288 with 1 Axes>"
      ]
     },
     "metadata": {
      "needs_background": "light"
     },
     "output_type": "display_data"
    }
   ],
   "source": [
    "sns.barplot(x=\"gender\", y=\"total_claim_amount\", data=customer_df)"
   ]
  },
  {
   "cell_type": "code",
   "execution_count": 32,
   "id": "6e02d90b",
   "metadata": {},
   "outputs": [
    {
     "data": {
      "text/plain": [
       "<AxesSubplot:xlabel='location_code', ylabel='total_claim_amount'>"
      ]
     },
     "execution_count": 32,
     "metadata": {},
     "output_type": "execute_result"
    },
    {
     "data": {
      "image/png": "[encoded data removed]",
      "text/plain": [
       "<Figure size 432x288 with 1 Axes>"
      ]
     },
     "metadata": {
      "needs_background": "light"
     },
     "output_type": "display_data"
    }
   ],
   "source": [
    "sns.barplot(x=\"location_code\", y=\"total_claim_amount\", data=customer_df)"
   ]
  },
  {
   "cell_type": "code",
   "execution_count": 33,
   "id": "5a18683a",
   "metadata": {},
   "outputs": [
    {
     "data": {
      "text/plain": [
       "<AxesSubplot:xlabel='marital_status', ylabel='total_claim_amount'>"
      ]
     },
     "execution_count": 33,
     "metadata": {},
     "output_type": "execute_result"
    },
    {
     "data": {
      "image/png": "[encoded data removed]",
      "text/plain": [
       "<Figure size 432x288 with 1 Axes>"
      ]
     },
     "metadata": {
      "needs_background": "light"
     },
     "output_type": "display_data"
    }
   ],
   "source": [
    "sns.barplot(x=\"marital_status\", y=\"total_claim_amount\", data=customer_df)"
   ]
  },
  {
   "cell_type": "code",
   "execution_count": 34,
   "id": "1ffe547b",
   "metadata": {},
   "outputs": [
    {
     "data": {
      "text/plain": [
       "<AxesSubplot:xlabel='policy_type', ylabel='total_claim_amount'>"
      ]
     },
     "execution_count": 34,
     "metadata": {},
     "output_type": "execute_result"
    },
    {
     "data": {
      "image/png": "[encoded data removed]",
      "text/plain": [
       "<Figure size 432x288 with 1 Axes>"
      ]
     },
     "metadata": {
      "needs_background": "light"
     },
     "output_type": "display_data"
    }
   ],
   "source": [
    "sns.barplot(x=\"policy_type\", y=\"total_claim_amount\", data=customer_df)"
   ]
  },
  {
   "cell_type": "code",
   "execution_count": 35,
   "id": "9e033d57",
   "metadata": {},
   "outputs": [
    {
     "data": {
      "text/plain": [
       "<AxesSubplot:xlabel='policy', ylabel='total_claim_amount'>"
      ]
     },
     "execution_count": 35,
     "metadata": {},
     "output_type": "execute_result"
    },
    {
     "data": {
      "image/png": "[encoded data removed]",
      "text/plain": [
       "<Figure size 432x288 with 1 Axes>"
      ]
     },
     "metadata": {
      "needs_background": "light"
     },
     "output_type": "display_data"
    }
   ],
   "source": [
    "sns.barplot(x=\"policy\", y=\"total_claim_amount\", data=customer_df)"
   ]
  },
  {
   "cell_type": "code",
   "execution_count": 36,
   "id": "a4ccd85f",
   "metadata": {},
   "outputs": [
    {
     "data": {
      "text/plain": [
       "<AxesSubplot:xlabel='renew_offer_type', ylabel='total_claim_amount'>"
      ]
     },
     "execution_count": 36,
     "metadata": {},
     "output_type": "execute_result"
    },
    {
     "data": {
      "image/png": "[encoded data removed]",
      "text/plain": [
       "<Figure size 432x288 with 1 Axes>"
      ]
     },
     "metadata": {
      "needs_background": "light"
     },
     "output_type": "display_data"
    }
   ],
   "source": [
    "sns.barplot(x=\"renew_offer_type\", y=\"total_claim_amount\", data=customer_df)"
   ]
  },
  {
   "cell_type": "code",
   "execution_count": 37,
   "id": "d5fab40c",
   "metadata": {},
   "outputs": [
    {
     "data": {
      "text/plain": [
       "<AxesSubplot:xlabel='sales_channel', ylabel='total_claim_amount'>"
      ]
     },
     "execution_count": 37,
     "metadata": {},
     "output_type": "execute_result"
    },
    {
     "data": {
      "image/png": "[encoded data removed]",
      "text/plain": [
       "<Figure size 432x288 with 1 Axes>"
      ]
     },
     "metadata": {
      "needs_background": "light"
     },
     "output_type": "display_data"
    }
   ],
   "source": [
    "sns.barplot(x=\"sales_channel\", y=\"total_claim_amount\", data=customer_df)"
   ]
  },
  {
   "cell_type": "code",
   "execution_count": 38,
   "id": "d60e05dc",
   "metadata": {},
   "outputs": [
    {
     "data": {
      "text/plain": [
       "<AxesSubplot:xlabel='vehicle_class', ylabel='total_claim_amount'>"
      ]
     },
     "execution_count": 38,
     "metadata": {},
     "output_type": "execute_result"
    },
    {
     "data": {
      "image/png": "[encoded data removed]",
      "text/plain": [
       "<Figure size 432x288 with 1 Axes>"
      ]
     },
     "metadata": {
      "needs_background": "light"
     },
     "output_type": "display_data"
    }
   ],
   "source": [
    "sns.barplot(x=\"vehicle_class\", y=\"total_claim_amount\", data=customer_df)"
   ]
  },
  {
   "cell_type": "code",
   "execution_count": 39,
   "id": "186df5e1",
   "metadata": {},
   "outputs": [
    {
     "data": {
      "text/plain": [
       "<AxesSubplot:xlabel='vehicle_size', ylabel='total_claim_amount'>"
      ]
     },
     "execution_count": 39,
     "metadata": {},
     "output_type": "execute_result"
    },
    {
     "data": {
      "image/png": "[encoded data removed]",
      "text/plain": [
       "<Figure size 432x288 with 1 Axes>"
      ]
     },
     "metadata": {
      "needs_background": "light"
     },
     "output_type": "display_data"
    }
   ],
   "source": [
    "sns.barplot(x=\"vehicle_size\", y=\"total_claim_amount\", data=customer_df)"
   ]
  },
  {
   "cell_type": "code",
   "execution_count": 40,
   "id": "b17c3034",
   "metadata": {},
   "outputs": [
    {
     "data": {
      "text/plain": [
       "<AxesSubplot:xlabel='effective_year', ylabel='total_claim_amount'>"
      ]
     },
     "execution_count": 40,
     "metadata": {},
     "output_type": "execute_result"
    },
    {
     "data": {
      "image/png": "[encoded data removed]",
      "text/plain": [
       "<Figure size 432x288 with 1 Axes>"
      ]
     },
     "metadata": {
      "needs_background": "light"
     },
     "output_type": "display_data"
    }
   ],
   "source": [
    "sns.barplot(x=\"effective_year\", y=\"total_claim_amount\", data=customer_df)"
   ]
  },
  {
   "cell_type": "markdown",
   "id": "e6611cf9",
   "metadata": {},
   "source": [
    "####### converting some categorical data into numerical"
   ]
  },
  {
   "cell_type": "code",
   "execution_count": 41,
   "id": "9abe5d01",
   "metadata": {},
   "outputs": [
    {
     "data": {
      "text/html": [
       "<div>\n",
       "<style scoped>\n",
       "    .dataframe tbody tr th:only-of-type {\n",
       "        vertical-align: middle;\n",
       "    }\n",
       "\n",
       "    .dataframe tbody tr th {\n",
       "        vertical-align: top;\n",
       "    }\n",
       "\n",
       "    .dataframe thead th {\n",
       "        text-align: right;\n",
       "    }\n",
       "</style>\n",
       "<table border=\"1\" class=\"dataframe\">\n",
       "  <thead>\n",
       "    <tr style=\"text-align: right;\">\n",
       "      <th></th>\n",
       "      <th>state</th>\n",
       "      <th>customer_lifetime_value</th>\n",
       "      <th>response</th>\n",
       "      <th>coverage</th>\n",
       "      <th>education</th>\n",
       "      <th>effective_to_date</th>\n",
       "      <th>employmentstatus</th>\n",
       "      <th>gender</th>\n",
       "      <th>income</th>\n",
       "      <th>location_code</th>\n",
       "      <th>marital_status</th>\n",
       "      <th>monthly_premium_auto</th>\n",
       "      <th>months_since_last_claim</th>\n",
       "      <th>months_since_policy_inception</th>\n",
       "      <th>number_of_open_complaints</th>\n",
       "      <th>number_of_policies</th>\n",
       "      <th>policy_type</th>\n",
       "      <th>policy</th>\n",
       "      <th>renew_offer_type</th>\n",
       "      <th>sales_channel</th>\n",
       "      <th>total_claim_amount</th>\n",
       "      <th>vehicle_class</th>\n",
       "      <th>vehicle_size</th>\n",
       "      <th>effective_year</th>\n",
       "      <th>effective_month</th>\n",
       "      <th>day_of_week</th>\n",
       "    </tr>\n",
       "  </thead>\n",
       "  <tbody>\n",
       "    <tr>\n",
       "      <th>0</th>\n",
       "      <td>Washington</td>\n",
       "      <td>2763.519279</td>\n",
       "      <td>No</td>\n",
       "      <td>Basic</td>\n",
       "      <td>Bachelor</td>\n",
       "      <td>2011-02-24</td>\n",
       "      <td>Employed</td>\n",
       "      <td>F</td>\n",
       "      <td>56274</td>\n",
       "      <td>Suburban</td>\n",
       "      <td>Married</td>\n",
       "      <td>69</td>\n",
       "      <td>32</td>\n",
       "      <td>5</td>\n",
       "      <td>0</td>\n",
       "      <td>1</td>\n",
       "      <td>Corporate Auto</td>\n",
       "      <td>Corporate L3</td>\n",
       "      <td>Offer1</td>\n",
       "      <td>Agent</td>\n",
       "      <td>384.811147</td>\n",
       "      <td>Two-Door Car</td>\n",
       "      <td>Medsize</td>\n",
       "      <td>2011</td>\n",
       "      <td>2</td>\n",
       "      <td>Thursday</td>\n",
       "    </tr>\n",
       "    <tr>\n",
       "      <th>1</th>\n",
       "      <td>Arizona</td>\n",
       "      <td>6979.535903</td>\n",
       "      <td>No</td>\n",
       "      <td>Extended</td>\n",
       "      <td>Bachelor</td>\n",
       "      <td>2011-01-31</td>\n",
       "      <td>Unemployed</td>\n",
       "      <td>F</td>\n",
       "      <td>0</td>\n",
       "      <td>Suburban</td>\n",
       "      <td>Single</td>\n",
       "      <td>94</td>\n",
       "      <td>13</td>\n",
       "      <td>42</td>\n",
       "      <td>0</td>\n",
       "      <td>8</td>\n",
       "      <td>Personal Auto</td>\n",
       "      <td>Personal L3</td>\n",
       "      <td>Offer3</td>\n",
       "      <td>Agent</td>\n",
       "      <td>1131.464935</td>\n",
       "      <td>Four-Door Car</td>\n",
       "      <td>Medsize</td>\n",
       "      <td>2011</td>\n",
       "      <td>1</td>\n",
       "      <td>Monday</td>\n",
       "    </tr>\n",
       "    <tr>\n",
       "      <th>2</th>\n",
       "      <td>Nevada</td>\n",
       "      <td>12887.431650</td>\n",
       "      <td>No</td>\n",
       "      <td>Premium</td>\n",
       "      <td>Bachelor</td>\n",
       "      <td>2011-02-19</td>\n",
       "      <td>Employed</td>\n",
       "      <td>F</td>\n",
       "      <td>48767</td>\n",
       "      <td>Suburban</td>\n",
       "      <td>Married</td>\n",
       "      <td>108</td>\n",
       "      <td>18</td>\n",
       "      <td>38</td>\n",
       "      <td>0</td>\n",
       "      <td>2</td>\n",
       "      <td>Personal Auto</td>\n",
       "      <td>Personal L3</td>\n",
       "      <td>Offer1</td>\n",
       "      <td>Agent</td>\n",
       "      <td>566.472247</td>\n",
       "      <td>Two-Door Car</td>\n",
       "      <td>Medsize</td>\n",
       "      <td>2011</td>\n",
       "      <td>2</td>\n",
       "      <td>Saturday</td>\n",
       "    </tr>\n",
       "    <tr>\n",
       "      <th>3</th>\n",
       "      <td>California</td>\n",
       "      <td>7645.861827</td>\n",
       "      <td>No</td>\n",
       "      <td>Basic</td>\n",
       "      <td>Bachelor</td>\n",
       "      <td>2011-01-20</td>\n",
       "      <td>Unemployed</td>\n",
       "      <td>M</td>\n",
       "      <td>0</td>\n",
       "      <td>Suburban</td>\n",
       "      <td>Married</td>\n",
       "      <td>106</td>\n",
       "      <td>18</td>\n",
       "      <td>65</td>\n",
       "      <td>0</td>\n",
       "      <td>7</td>\n",
       "      <td>Corporate Auto</td>\n",
       "      <td>Corporate L2</td>\n",
       "      <td>Offer1</td>\n",
       "      <td>Call Center</td>\n",
       "      <td>529.881344</td>\n",
       "      <td>SUV</td>\n",
       "      <td>Medsize</td>\n",
       "      <td>2011</td>\n",
       "      <td>1</td>\n",
       "      <td>Thursday</td>\n",
       "    </tr>\n",
       "    <tr>\n",
       "      <th>4</th>\n",
       "      <td>Washington</td>\n",
       "      <td>2813.692575</td>\n",
       "      <td>No</td>\n",
       "      <td>Basic</td>\n",
       "      <td>Bachelor</td>\n",
       "      <td>2011-02-03</td>\n",
       "      <td>Employed</td>\n",
       "      <td>M</td>\n",
       "      <td>43836</td>\n",
       "      <td>Rural</td>\n",
       "      <td>Single</td>\n",
       "      <td>73</td>\n",
       "      <td>12</td>\n",
       "      <td>44</td>\n",
       "      <td>0</td>\n",
       "      <td>1</td>\n",
       "      <td>Personal Auto</td>\n",
       "      <td>Personal L1</td>\n",
       "      <td>Offer1</td>\n",
       "      <td>Agent</td>\n",
       "      <td>138.130879</td>\n",
       "      <td>Four-Door Car</td>\n",
       "      <td>Medsize</td>\n",
       "      <td>2011</td>\n",
       "      <td>2</td>\n",
       "      <td>Thursday</td>\n",
       "    </tr>\n",
       "  </tbody>\n",
       "</table>\n",
       "</div>"
      ],
      "text/plain": [
       "        state  customer_lifetime_value response  coverage education  \\\n",
       "0  Washington              2763.519279       No     Basic  Bachelor   \n",
       "1     Arizona              6979.535903       No  Extended  Bachelor   \n",
       "2      Nevada             12887.431650       No   Premium  Bachelor   \n",
       "3  California              7645.861827       No     Basic  Bachelor   \n",
       "4  Washington              2813.692575       No     Basic  Bachelor   \n",
       "\n",
       "  effective_to_date employmentstatus gender  income location_code  \\\n",
       "0        2011-02-24         Employed      F   56274      Suburban   \n",
       "1        2011-01-31       Unemployed      F       0      Suburban   \n",
       "2        2011-02-19         Employed      F   48767      Suburban   \n",
       "3        2011-01-20       Unemployed      M       0      Suburban   \n",
       "4        2011-02-03         Employed      M   43836         Rural   \n",
       "\n",
       "  marital_status  monthly_premium_auto  months_since_last_claim  \\\n",
       "0        Married                    69                       32   \n",
       "1         Single                    94                       13   \n",
       "2        Married                   108                       18   \n",
       "3        Married                   106                       18   \n",
       "4         Single                    73                       12   \n",
       "\n",
       "   months_since_policy_inception  number_of_open_complaints  \\\n",
       "0                              5                          0   \n",
       "1                             42                          0   \n",
       "2                             38                          0   \n",
       "3                             65                          0   \n",
       "4                             44                          0   \n",
       "\n",
       "   number_of_policies     policy_type        policy renew_offer_type  \\\n",
       "0                   1  Corporate Auto  Corporate L3           Offer1   \n",
       "1                   8   Personal Auto   Personal L3           Offer3   \n",
       "2                   2   Personal Auto   Personal L3           Offer1   \n",
       "3                   7  Corporate Auto  Corporate L2           Offer1   \n",
       "4                   1   Personal Auto   Personal L1           Offer1   \n",
       "\n",
       "  sales_channel  total_claim_amount  vehicle_class vehicle_size  \\\n",
       "0         Agent          384.811147   Two-Door Car      Medsize   \n",
       "1         Agent         1131.464935  Four-Door Car      Medsize   \n",
       "2         Agent          566.472247   Two-Door Car      Medsize   \n",
       "3   Call Center          529.881344            SUV      Medsize   \n",
       "4         Agent          138.130879  Four-Door Car      Medsize   \n",
       "\n",
       "  effective_year  effective_month day_of_week  \n",
       "0           2011                2    Thursday  \n",
       "1           2011                1      Monday  \n",
       "2           2011                2    Saturday  \n",
       "3           2011                1    Thursday  \n",
       "4           2011                2    Thursday  "
      ]
     },
     "execution_count": 41,
     "metadata": {},
     "output_type": "execute_result"
    }
   ],
   "source": [
    "customer_df.head()"
   ]
  },
  {
   "cell_type": "code",
   "execution_count": 42,
   "id": "e4b7c8c6",
   "metadata": {},
   "outputs": [
    {
     "name": "stdout",
     "output_type": "stream",
     "text": [
      "California    3150\n",
      "Oregon        2601\n",
      "Arizona       1703\n",
      "Nevada         882\n",
      "Washington     798\n",
      "Name: state, dtype: int64 \n",
      "****************\n",
      "\n",
      "No     7826\n",
      "Yes    1308\n",
      "Name: response, dtype: int64 \n",
      "****************\n",
      "\n",
      "Basic       5568\n",
      "Extended    2742\n",
      "Premium      824\n",
      "Name: coverage, dtype: int64 \n",
      "****************\n",
      "\n",
      "Bachelor                2748\n",
      "College                 2681\n",
      "High School or Below    2622\n",
      "Master                   741\n",
      "Doctor                   342\n",
      "Name: education, dtype: int64 \n",
      "****************\n",
      "\n",
      "Employed         5698\n",
      "Unemployed       2317\n",
      "Medical Leave     432\n",
      "Disabled          405\n",
      "Retired           282\n",
      "Name: employmentstatus, dtype: int64 \n",
      "****************\n",
      "\n",
      "F    4658\n",
      "M    4476\n",
      "Name: gender, dtype: int64 \n",
      "****************\n",
      "\n",
      "Suburban    5779\n",
      "Rural       1773\n",
      "Urban       1582\n",
      "Name: location_code, dtype: int64 \n",
      "****************\n",
      "\n",
      "Married     5298\n",
      "Single      2467\n",
      "Divorced    1369\n",
      "Name: marital_status, dtype: int64 \n",
      "****************\n",
      "\n",
      "Personal Auto     6788\n",
      "Corporate Auto    1968\n",
      "Special Auto       378\n",
      "Name: policy_type, dtype: int64 \n",
      "****************\n",
      "\n",
      "Personal L3     3426\n",
      "Personal L2     2122\n",
      "Personal L1     1240\n",
      "Corporate L3    1014\n",
      "Corporate L2     595\n",
      "Corporate L1     359\n",
      "Special L2       164\n",
      "Special L3       148\n",
      "Special L1        66\n",
      "Name: policy, dtype: int64 \n",
      "****************\n",
      "\n",
      "Offer1    3752\n",
      "Offer2    2926\n",
      "Offer3    1432\n",
      "Offer4    1024\n",
      "Name: renew_offer_type, dtype: int64 \n",
      "****************\n",
      "\n",
      "Agent          3477\n",
      "Branch         2567\n",
      "Call Center    1765\n",
      "Web            1325\n",
      "Name: sales_channel, dtype: int64 \n",
      "****************\n",
      "\n",
      "Four-Door Car    4621\n",
      "Two-Door Car     1886\n",
      "SUV              1796\n",
      "Sports Car        484\n",
      "Luxury SUV        184\n",
      "Luxury Car        163\n",
      "Name: vehicle_class, dtype: int64 \n",
      "****************\n",
      "\n",
      "Medsize    6424\n",
      "Small      1764\n",
      "Large       946\n",
      "Name: vehicle_size, dtype: int64 \n",
      "****************\n",
      "\n",
      "2011    9134\n",
      "Name: effective_year, dtype: int64 \n",
      "****************\n",
      "\n",
      "Monday       1530\n",
      "Saturday     1397\n",
      "Sunday       1330\n",
      "Thursday     1249\n",
      "Friday       1245\n",
      "Wednesday    1221\n",
      "Tuesday      1162\n",
      "Name: day_of_week, dtype: int64 \n",
      "****************\n",
      "\n"
     ]
    }
   ],
   "source": [
    "for col in customer_df.select_dtypes('object'):\n",
    "    print(customer_df[col].value_counts(), '\\n****************\\n')"
   ]
  },
  {
   "cell_type": "code",
   "execution_count": 43,
   "id": "82d1fc01",
   "metadata": {},
   "outputs": [],
   "source": [
    "#customer_df['state'] = customer_df['state'].map({'California': 0, 'Oregon' : 1, \n",
    "                                                 #'Arizona': 2, 'Nevada': 3, 'Washington':4})"
   ]
  },
  {
   "cell_type": "code",
   "execution_count": 44,
   "id": "cbcd1368",
   "metadata": {},
   "outputs": [],
   "source": [
    "#customer_df['location_code'] = customer_df['location_code'].map({'Suburban':0, 'Rural': 1, 'Urban': 2})"
   ]
  },
  {
   "cell_type": "code",
   "execution_count": 45,
   "id": "e3df253b",
   "metadata": {},
   "outputs": [],
   "source": [
    "#customer_df['policy_type'] = customer_df['policy_type'].map({'Personal Auto':0, 'Corporate Auto': 1, 'Special Auto': 2})"
   ]
  },
  {
   "cell_type": "markdown",
   "id": "c35d422d",
   "metadata": {},
   "source": [
    "# lab3 - Feature Extraction"
   ]
  },
  {
   "cell_type": "markdown",
   "id": "7caf13f6",
   "metadata": {},
   "source": [
    "###### Feature Selection - Categoricals (Chi-square test)"
   ]
  },
  {
   "cell_type": "markdown",
   "id": "94e66ddd",
   "metadata": {},
   "source": [
    "There is significant relationship between variables (p_value<0.05)\n",
    "\n",
    "All the features are dependent on location_code, renew_offer_type and policy_type except state\n",
    " \n",
    "1. compared to location_code vs (response, coverage, education, employmentstatus,gender, marital_status, renew_offer_type, vehicle_class and vehicle_size) are having siginificant relationship (i.e., p<0.05)\n",
    "\n",
    "2. response vs (employmentstatus, location_code, marital_status, renew_offer_type, sales_channel, vehicle_class and vehicle_size) are having siginificant relationship\n",
    "\n",
    "3. renew_offer_type vs (response, coverage, education, employmentstatus,gender, location_code, marital_status, sales_channel, vehicle_class) are having siginificant relationship are having siginificant relationship\n",
    "\n",
    "4. policy_type vy policy is having siginificant relationship\n",
    "\n",
    "\n",
    "so i decided to drop the all features except state, location_code, renew_offer_type and policy_type.\n",
    "\n"
   ]
  },
  {
   "cell_type": "code",
   "execution_count": 46,
   "id": "c358abba",
   "metadata": {},
   "outputs": [
    {
     "data": {
      "text/html": [
       "<div>\n",
       "<style scoped>\n",
       "    .dataframe tbody tr th:only-of-type {\n",
       "        vertical-align: middle;\n",
       "    }\n",
       "\n",
       "    .dataframe tbody tr th {\n",
       "        vertical-align: top;\n",
       "    }\n",
       "\n",
       "    .dataframe thead th {\n",
       "        text-align: right;\n",
       "    }\n",
       "</style>\n",
       "<table border=\"1\" class=\"dataframe\">\n",
       "  <thead>\n",
       "    <tr style=\"text-align: right;\">\n",
       "      <th>policy</th>\n",
       "      <th>Corporate L1</th>\n",
       "      <th>Corporate L2</th>\n",
       "      <th>Corporate L3</th>\n",
       "      <th>Personal L1</th>\n",
       "      <th>Personal L2</th>\n",
       "      <th>Personal L3</th>\n",
       "      <th>Special L1</th>\n",
       "      <th>Special L2</th>\n",
       "      <th>Special L3</th>\n",
       "      <th>All</th>\n",
       "    </tr>\n",
       "    <tr>\n",
       "      <th>policy_type</th>\n",
       "      <th></th>\n",
       "      <th></th>\n",
       "      <th></th>\n",
       "      <th></th>\n",
       "      <th></th>\n",
       "      <th></th>\n",
       "      <th></th>\n",
       "      <th></th>\n",
       "      <th></th>\n",
       "      <th></th>\n",
       "    </tr>\n",
       "  </thead>\n",
       "  <tbody>\n",
       "    <tr>\n",
       "      <th>Corporate Auto</th>\n",
       "      <td>359</td>\n",
       "      <td>595</td>\n",
       "      <td>1014</td>\n",
       "      <td>0</td>\n",
       "      <td>0</td>\n",
       "      <td>0</td>\n",
       "      <td>0</td>\n",
       "      <td>0</td>\n",
       "      <td>0</td>\n",
       "      <td>1968</td>\n",
       "    </tr>\n",
       "    <tr>\n",
       "      <th>Personal Auto</th>\n",
       "      <td>0</td>\n",
       "      <td>0</td>\n",
       "      <td>0</td>\n",
       "      <td>1240</td>\n",
       "      <td>2122</td>\n",
       "      <td>3426</td>\n",
       "      <td>0</td>\n",
       "      <td>0</td>\n",
       "      <td>0</td>\n",
       "      <td>6788</td>\n",
       "    </tr>\n",
       "    <tr>\n",
       "      <th>Special Auto</th>\n",
       "      <td>0</td>\n",
       "      <td>0</td>\n",
       "      <td>0</td>\n",
       "      <td>0</td>\n",
       "      <td>0</td>\n",
       "      <td>0</td>\n",
       "      <td>66</td>\n",
       "      <td>164</td>\n",
       "      <td>148</td>\n",
       "      <td>378</td>\n",
       "    </tr>\n",
       "    <tr>\n",
       "      <th>All</th>\n",
       "      <td>359</td>\n",
       "      <td>595</td>\n",
       "      <td>1014</td>\n",
       "      <td>1240</td>\n",
       "      <td>2122</td>\n",
       "      <td>3426</td>\n",
       "      <td>66</td>\n",
       "      <td>164</td>\n",
       "      <td>148</td>\n",
       "      <td>9134</td>\n",
       "    </tr>\n",
       "  </tbody>\n",
       "</table>\n",
       "</div>"
      ],
      "text/plain": [
       "policy          Corporate L1  Corporate L2  Corporate L3  Personal L1  \\\n",
       "policy_type                                                             \n",
       "Corporate Auto           359           595          1014            0   \n",
       "Personal Auto              0             0             0         1240   \n",
       "Special Auto               0             0             0            0   \n",
       "All                      359           595          1014         1240   \n",
       "\n",
       "policy          Personal L2  Personal L3  Special L1  Special L2  Special L3  \\\n",
       "policy_type                                                                    \n",
       "Corporate Auto            0            0           0           0           0   \n",
       "Personal Auto          2122         3426           0           0           0   \n",
       "Special Auto              0            0          66         164         148   \n",
       "All                    2122         3426          66         164         148   \n",
       "\n",
       "policy           All  \n",
       "policy_type           \n",
       "Corporate Auto  1968  \n",
       "Personal Auto   6788  \n",
       "Special Auto     378  \n",
       "All             9134  "
      ]
     },
     "execution_count": 46,
     "metadata": {},
     "output_type": "execute_result"
    }
   ],
   "source": [
    "data_crosstab = pd.crosstab(customer_df['policy_type'], customer_df['policy'], margins=True)\n",
    "data_crosstab"
   ]
  },
  {
   "cell_type": "code",
   "execution_count": 47,
   "id": "a5860a19",
   "metadata": {},
   "outputs": [
    {
     "data": {
      "text/plain": [
       "0.0"
      ]
     },
     "execution_count": 47,
     "metadata": {},
     "output_type": "execute_result"
    }
   ],
   "source": [
    "from scipy.stats import chi2_contingency\n",
    "\n",
    "stats, p_value, dof, frequencies = chi2_contingency(data_crosstab)\n",
    "p_value"
   ]
  },
  {
   "cell_type": "code",
   "execution_count": 48,
   "id": "e2696940",
   "metadata": {},
   "outputs": [
    {
     "data": {
      "text/html": [
       "<div>\n",
       "<style scoped>\n",
       "    .dataframe tbody tr th:only-of-type {\n",
       "        vertical-align: middle;\n",
       "    }\n",
       "\n",
       "    .dataframe tbody tr th {\n",
       "        vertical-align: top;\n",
       "    }\n",
       "\n",
       "    .dataframe thead th {\n",
       "        text-align: right;\n",
       "    }\n",
       "</style>\n",
       "<table border=\"1\" class=\"dataframe\">\n",
       "  <thead>\n",
       "    <tr style=\"text-align: right;\">\n",
       "      <th>location_code</th>\n",
       "      <th>Rural</th>\n",
       "      <th>Suburban</th>\n",
       "      <th>Urban</th>\n",
       "      <th>All</th>\n",
       "    </tr>\n",
       "    <tr>\n",
       "      <th>coverage</th>\n",
       "      <th></th>\n",
       "      <th></th>\n",
       "      <th></th>\n",
       "      <th></th>\n",
       "    </tr>\n",
       "  </thead>\n",
       "  <tbody>\n",
       "    <tr>\n",
       "      <th>Basic</th>\n",
       "      <td>1100</td>\n",
       "      <td>3448</td>\n",
       "      <td>1020</td>\n",
       "      <td>5568</td>\n",
       "    </tr>\n",
       "    <tr>\n",
       "      <th>Extended</th>\n",
       "      <td>526</td>\n",
       "      <td>1747</td>\n",
       "      <td>469</td>\n",
       "      <td>2742</td>\n",
       "    </tr>\n",
       "    <tr>\n",
       "      <th>Premium</th>\n",
       "      <td>147</td>\n",
       "      <td>584</td>\n",
       "      <td>93</td>\n",
       "      <td>824</td>\n",
       "    </tr>\n",
       "    <tr>\n",
       "      <th>All</th>\n",
       "      <td>1773</td>\n",
       "      <td>5779</td>\n",
       "      <td>1582</td>\n",
       "      <td>9134</td>\n",
       "    </tr>\n",
       "  </tbody>\n",
       "</table>\n",
       "</div>"
      ],
      "text/plain": [
       "location_code  Rural  Suburban  Urban   All\n",
       "coverage                                   \n",
       "Basic           1100      3448   1020  5568\n",
       "Extended         526      1747    469  2742\n",
       "Premium          147       584     93   824\n",
       "All             1773      5779   1582  9134"
      ]
     },
     "execution_count": 48,
     "metadata": {},
     "output_type": "execute_result"
    }
   ],
   "source": [
    "data_crosstab = pd.crosstab(customer_df['coverage'], customer_df['location_code'], margins=True)\n",
    "data_crosstab"
   ]
  },
  {
   "cell_type": "code",
   "execution_count": 49,
   "id": "293667f1",
   "metadata": {},
   "outputs": [
    {
     "data": {
      "text/plain": [
       "0.00026608230996873146"
      ]
     },
     "execution_count": 49,
     "metadata": {},
     "output_type": "execute_result"
    }
   ],
   "source": [
    "from scipy.stats import chi2_contingency\n",
    "\n",
    "stats, p_value, dof, frequencies = chi2_contingency(data_crosstab)\n",
    "p_value"
   ]
  },
  {
   "cell_type": "code",
   "execution_count": 50,
   "id": "3ffcf513",
   "metadata": {},
   "outputs": [
    {
     "data": {
      "text/html": [
       "<div>\n",
       "<style scoped>\n",
       "    .dataframe tbody tr th:only-of-type {\n",
       "        vertical-align: middle;\n",
       "    }\n",
       "\n",
       "    .dataframe tbody tr th {\n",
       "        vertical-align: top;\n",
       "    }\n",
       "\n",
       "    .dataframe thead th {\n",
       "        text-align: right;\n",
       "    }\n",
       "</style>\n",
       "<table border=\"1\" class=\"dataframe\">\n",
       "  <thead>\n",
       "    <tr style=\"text-align: right;\">\n",
       "      <th>education</th>\n",
       "      <th>Bachelor</th>\n",
       "      <th>College</th>\n",
       "      <th>Doctor</th>\n",
       "      <th>High School or Below</th>\n",
       "      <th>Master</th>\n",
       "      <th>All</th>\n",
       "    </tr>\n",
       "    <tr>\n",
       "      <th>location_code</th>\n",
       "      <th></th>\n",
       "      <th></th>\n",
       "      <th></th>\n",
       "      <th></th>\n",
       "      <th></th>\n",
       "      <th></th>\n",
       "    </tr>\n",
       "  </thead>\n",
       "  <tbody>\n",
       "    <tr>\n",
       "      <th>Rural</th>\n",
       "      <td>542</td>\n",
       "      <td>524</td>\n",
       "      <td>102</td>\n",
       "      <td>368</td>\n",
       "      <td>237</td>\n",
       "      <td>1773</td>\n",
       "    </tr>\n",
       "    <tr>\n",
       "      <th>Suburban</th>\n",
       "      <td>1704</td>\n",
       "      <td>1683</td>\n",
       "      <td>157</td>\n",
       "      <td>1917</td>\n",
       "      <td>318</td>\n",
       "      <td>5779</td>\n",
       "    </tr>\n",
       "    <tr>\n",
       "      <th>Urban</th>\n",
       "      <td>502</td>\n",
       "      <td>474</td>\n",
       "      <td>83</td>\n",
       "      <td>337</td>\n",
       "      <td>186</td>\n",
       "      <td>1582</td>\n",
       "    </tr>\n",
       "    <tr>\n",
       "      <th>All</th>\n",
       "      <td>2748</td>\n",
       "      <td>2681</td>\n",
       "      <td>342</td>\n",
       "      <td>2622</td>\n",
       "      <td>741</td>\n",
       "      <td>9134</td>\n",
       "    </tr>\n",
       "  </tbody>\n",
       "</table>\n",
       "</div>"
      ],
      "text/plain": [
       "education      Bachelor  College  Doctor  High School or Below  Master   All\n",
       "location_code                                                               \n",
       "Rural               542      524     102                   368     237  1773\n",
       "Suburban           1704     1683     157                  1917     318  5779\n",
       "Urban               502      474      83                   337     186  1582\n",
       "All                2748     2681     342                  2622     741  9134"
      ]
     },
     "execution_count": 50,
     "metadata": {},
     "output_type": "execute_result"
    }
   ],
   "source": [
    "data_crosstab = pd.crosstab(customer_df['location_code'], customer_df['education'], margins=True)\n",
    "data_crosstab "
   ]
  },
  {
   "cell_type": "code",
   "execution_count": 51,
   "id": "390a1ded",
   "metadata": {},
   "outputs": [
    {
     "data": {
      "text/plain": [
       "2.974602684931319e-53"
      ]
     },
     "execution_count": 51,
     "metadata": {},
     "output_type": "execute_result"
    }
   ],
   "source": [
    "from scipy.stats import chi2_contingency\n",
    "\n",
    "stats, p_value, dof, frequencies = chi2_contingency(data_crosstab)\n",
    "p_value"
   ]
  },
  {
   "cell_type": "code",
   "execution_count": 52,
   "id": "687a2e44",
   "metadata": {},
   "outputs": [
    {
     "data": {
      "text/html": [
       "<div>\n",
       "<style scoped>\n",
       "    .dataframe tbody tr th:only-of-type {\n",
       "        vertical-align: middle;\n",
       "    }\n",
       "\n",
       "    .dataframe tbody tr th {\n",
       "        vertical-align: top;\n",
       "    }\n",
       "\n",
       "    .dataframe thead th {\n",
       "        text-align: right;\n",
       "    }\n",
       "</style>\n",
       "<table border=\"1\" class=\"dataframe\">\n",
       "  <thead>\n",
       "    <tr style=\"text-align: right;\">\n",
       "      <th>employmentstatus</th>\n",
       "      <th>Disabled</th>\n",
       "      <th>Employed</th>\n",
       "      <th>Medical Leave</th>\n",
       "      <th>Retired</th>\n",
       "      <th>Unemployed</th>\n",
       "      <th>All</th>\n",
       "    </tr>\n",
       "    <tr>\n",
       "      <th>location_code</th>\n",
       "      <th></th>\n",
       "      <th></th>\n",
       "      <th></th>\n",
       "      <th></th>\n",
       "      <th></th>\n",
       "      <th></th>\n",
       "    </tr>\n",
       "  </thead>\n",
       "  <tbody>\n",
       "    <tr>\n",
       "      <th>Rural</th>\n",
       "      <td>33</td>\n",
       "      <td>1596</td>\n",
       "      <td>36</td>\n",
       "      <td>0</td>\n",
       "      <td>108</td>\n",
       "      <td>1773</td>\n",
       "    </tr>\n",
       "    <tr>\n",
       "      <th>Suburban</th>\n",
       "      <td>341</td>\n",
       "      <td>2688</td>\n",
       "      <td>354</td>\n",
       "      <td>274</td>\n",
       "      <td>2122</td>\n",
       "      <td>5779</td>\n",
       "    </tr>\n",
       "    <tr>\n",
       "      <th>Urban</th>\n",
       "      <td>31</td>\n",
       "      <td>1414</td>\n",
       "      <td>42</td>\n",
       "      <td>8</td>\n",
       "      <td>87</td>\n",
       "      <td>1582</td>\n",
       "    </tr>\n",
       "    <tr>\n",
       "      <th>All</th>\n",
       "      <td>405</td>\n",
       "      <td>5698</td>\n",
       "      <td>432</td>\n",
       "      <td>282</td>\n",
       "      <td>2317</td>\n",
       "      <td>9134</td>\n",
       "    </tr>\n",
       "  </tbody>\n",
       "</table>\n",
       "</div>"
      ],
      "text/plain": [
       "employmentstatus  Disabled  Employed  Medical Leave  Retired  Unemployed   All\n",
       "location_code                                                                 \n",
       "Rural                   33      1596             36        0         108  1773\n",
       "Suburban               341      2688            354      274        2122  5779\n",
       "Urban                   31      1414             42        8          87  1582\n",
       "All                    405      5698            432      282        2317  9134"
      ]
     },
     "execution_count": 52,
     "metadata": {},
     "output_type": "execute_result"
    }
   ],
   "source": [
    "data_crosstab = pd.crosstab(customer_df['location_code'], customer_df['employmentstatus'], margins=True)\n",
    "data_crosstab "
   ]
  },
  {
   "cell_type": "code",
   "execution_count": 53,
   "id": "52c6dc08",
   "metadata": {},
   "outputs": [
    {
     "data": {
      "text/plain": [
       "0.0"
      ]
     },
     "execution_count": 53,
     "metadata": {},
     "output_type": "execute_result"
    }
   ],
   "source": [
    "from scipy.stats import chi2_contingency\n",
    "\n",
    "stats, p_value, dof, frequencies = chi2_contingency(data_crosstab)\n",
    "p_value"
   ]
  },
  {
   "cell_type": "code",
   "execution_count": 54,
   "id": "ff7bdba5",
   "metadata": {},
   "outputs": [
    {
     "data": {
      "text/html": [
       "<div>\n",
       "<style scoped>\n",
       "    .dataframe tbody tr th:only-of-type {\n",
       "        vertical-align: middle;\n",
       "    }\n",
       "\n",
       "    .dataframe tbody tr th {\n",
       "        vertical-align: top;\n",
       "    }\n",
       "\n",
       "    .dataframe thead th {\n",
       "        text-align: right;\n",
       "    }\n",
       "</style>\n",
       "<table border=\"1\" class=\"dataframe\">\n",
       "  <thead>\n",
       "    <tr style=\"text-align: right;\">\n",
       "      <th>marital_status</th>\n",
       "      <th>Divorced</th>\n",
       "      <th>Married</th>\n",
       "      <th>Single</th>\n",
       "      <th>All</th>\n",
       "    </tr>\n",
       "    <tr>\n",
       "      <th>location_code</th>\n",
       "      <th></th>\n",
       "      <th></th>\n",
       "      <th></th>\n",
       "      <th></th>\n",
       "    </tr>\n",
       "  </thead>\n",
       "  <tbody>\n",
       "    <tr>\n",
       "      <th>Rural</th>\n",
       "      <td>281</td>\n",
       "      <td>1227</td>\n",
       "      <td>265</td>\n",
       "      <td>1773</td>\n",
       "    </tr>\n",
       "    <tr>\n",
       "      <th>Suburban</th>\n",
       "      <td>870</td>\n",
       "      <td>2944</td>\n",
       "      <td>1965</td>\n",
       "      <td>5779</td>\n",
       "    </tr>\n",
       "    <tr>\n",
       "      <th>Urban</th>\n",
       "      <td>218</td>\n",
       "      <td>1127</td>\n",
       "      <td>237</td>\n",
       "      <td>1582</td>\n",
       "    </tr>\n",
       "    <tr>\n",
       "      <th>All</th>\n",
       "      <td>1369</td>\n",
       "      <td>5298</td>\n",
       "      <td>2467</td>\n",
       "      <td>9134</td>\n",
       "    </tr>\n",
       "  </tbody>\n",
       "</table>\n",
       "</div>"
      ],
      "text/plain": [
       "marital_status  Divorced  Married  Single   All\n",
       "location_code                                  \n",
       "Rural                281     1227     265  1773\n",
       "Suburban             870     2944    1965  5779\n",
       "Urban                218     1127     237  1582\n",
       "All                 1369     5298    2467  9134"
      ]
     },
     "execution_count": 54,
     "metadata": {},
     "output_type": "execute_result"
    }
   ],
   "source": [
    "data_crosstab = pd.crosstab(customer_df['location_code'], customer_df['marital_status'], margins=True)\n",
    "data_crosstab "
   ]
  },
  {
   "cell_type": "code",
   "execution_count": 55,
   "id": "2474a837",
   "metadata": {},
   "outputs": [
    {
     "data": {
      "text/plain": [
       "1.5790228276420024e-85"
      ]
     },
     "execution_count": 55,
     "metadata": {},
     "output_type": "execute_result"
    }
   ],
   "source": [
    "from scipy.stats import chi2_contingency\n",
    "\n",
    "stats, p_value, dof, frequencies = chi2_contingency(data_crosstab)\n",
    "p_value"
   ]
  },
  {
   "cell_type": "code",
   "execution_count": 56,
   "id": "022ac71b",
   "metadata": {},
   "outputs": [
    {
     "data": {
      "text/html": [
       "<div>\n",
       "<style scoped>\n",
       "    .dataframe tbody tr th:only-of-type {\n",
       "        vertical-align: middle;\n",
       "    }\n",
       "\n",
       "    .dataframe tbody tr th {\n",
       "        vertical-align: top;\n",
       "    }\n",
       "\n",
       "    .dataframe thead th {\n",
       "        text-align: right;\n",
       "    }\n",
       "</style>\n",
       "<table border=\"1\" class=\"dataframe\">\n",
       "  <thead>\n",
       "    <tr style=\"text-align: right;\">\n",
       "      <th>location_code</th>\n",
       "      <th>Rural</th>\n",
       "      <th>Suburban</th>\n",
       "      <th>Urban</th>\n",
       "      <th>All</th>\n",
       "    </tr>\n",
       "    <tr>\n",
       "      <th>renew_offer_type</th>\n",
       "      <th></th>\n",
       "      <th></th>\n",
       "      <th></th>\n",
       "      <th></th>\n",
       "    </tr>\n",
       "  </thead>\n",
       "  <tbody>\n",
       "    <tr>\n",
       "      <th>Offer1</th>\n",
       "      <td>625</td>\n",
       "      <td>2557</td>\n",
       "      <td>570</td>\n",
       "      <td>3752</td>\n",
       "    </tr>\n",
       "    <tr>\n",
       "      <th>Offer2</th>\n",
       "      <td>598</td>\n",
       "      <td>1765</td>\n",
       "      <td>563</td>\n",
       "      <td>2926</td>\n",
       "    </tr>\n",
       "    <tr>\n",
       "      <th>Offer3</th>\n",
       "      <td>301</td>\n",
       "      <td>851</td>\n",
       "      <td>280</td>\n",
       "      <td>1432</td>\n",
       "    </tr>\n",
       "    <tr>\n",
       "      <th>Offer4</th>\n",
       "      <td>249</td>\n",
       "      <td>606</td>\n",
       "      <td>169</td>\n",
       "      <td>1024</td>\n",
       "    </tr>\n",
       "    <tr>\n",
       "      <th>All</th>\n",
       "      <td>1773</td>\n",
       "      <td>5779</td>\n",
       "      <td>1582</td>\n",
       "      <td>9134</td>\n",
       "    </tr>\n",
       "  </tbody>\n",
       "</table>\n",
       "</div>"
      ],
      "text/plain": [
       "location_code     Rural  Suburban  Urban   All\n",
       "renew_offer_type                              \n",
       "Offer1              625      2557    570  3752\n",
       "Offer2              598      1765    563  2926\n",
       "Offer3              301       851    280  1432\n",
       "Offer4              249       606    169  1024\n",
       "All                1773      5779   1582  9134"
      ]
     },
     "execution_count": 56,
     "metadata": {},
     "output_type": "execute_result"
    }
   ],
   "source": [
    "data_crosstab = pd.crosstab(customer_df['renew_offer_type'], customer_df['location_code'], margins=True)\n",
    "data_crosstab "
   ]
  },
  {
   "cell_type": "code",
   "execution_count": 57,
   "id": "0074129e",
   "metadata": {},
   "outputs": [
    {
     "data": {
      "text/plain": [
       "2.826830810773172e-11"
      ]
     },
     "execution_count": 57,
     "metadata": {},
     "output_type": "execute_result"
    }
   ],
   "source": [
    "from scipy.stats import chi2_contingency\n",
    "\n",
    "stats, p_value, dof, frequencies = chi2_contingency(data_crosstab)\n",
    "p_value"
   ]
  },
  {
   "cell_type": "code",
   "execution_count": 58,
   "id": "738386d6",
   "metadata": {},
   "outputs": [
    {
     "data": {
      "text/html": [
       "<div>\n",
       "<style scoped>\n",
       "    .dataframe tbody tr th:only-of-type {\n",
       "        vertical-align: middle;\n",
       "    }\n",
       "\n",
       "    .dataframe tbody tr th {\n",
       "        vertical-align: top;\n",
       "    }\n",
       "\n",
       "    .dataframe thead th {\n",
       "        text-align: right;\n",
       "    }\n",
       "</style>\n",
       "<table border=\"1\" class=\"dataframe\">\n",
       "  <thead>\n",
       "    <tr style=\"text-align: right;\">\n",
       "      <th>location_code</th>\n",
       "      <th>Rural</th>\n",
       "      <th>Suburban</th>\n",
       "      <th>Urban</th>\n",
       "      <th>All</th>\n",
       "    </tr>\n",
       "    <tr>\n",
       "      <th>vehicle_size</th>\n",
       "      <th></th>\n",
       "      <th></th>\n",
       "      <th></th>\n",
       "      <th></th>\n",
       "    </tr>\n",
       "  </thead>\n",
       "  <tbody>\n",
       "    <tr>\n",
       "      <th>Large</th>\n",
       "      <td>200</td>\n",
       "      <td>603</td>\n",
       "      <td>143</td>\n",
       "      <td>946</td>\n",
       "    </tr>\n",
       "    <tr>\n",
       "      <th>Medsize</th>\n",
       "      <td>1394</td>\n",
       "      <td>3759</td>\n",
       "      <td>1271</td>\n",
       "      <td>6424</td>\n",
       "    </tr>\n",
       "    <tr>\n",
       "      <th>Small</th>\n",
       "      <td>179</td>\n",
       "      <td>1417</td>\n",
       "      <td>168</td>\n",
       "      <td>1764</td>\n",
       "    </tr>\n",
       "    <tr>\n",
       "      <th>All</th>\n",
       "      <td>1773</td>\n",
       "      <td>5779</td>\n",
       "      <td>1582</td>\n",
       "      <td>9134</td>\n",
       "    </tr>\n",
       "  </tbody>\n",
       "</table>\n",
       "</div>"
      ],
      "text/plain": [
       "location_code  Rural  Suburban  Urban   All\n",
       "vehicle_size                               \n",
       "Large            200       603    143   946\n",
       "Medsize         1394      3759   1271  6424\n",
       "Small            179      1417    168  1764\n",
       "All             1773      5779   1582  9134"
      ]
     },
     "execution_count": 58,
     "metadata": {},
     "output_type": "execute_result"
    }
   ],
   "source": [
    "data_crosstab = pd.crosstab(customer_df['vehicle_size'], customer_df['location_code'], margins=True)\n",
    "data_crosstab"
   ]
  },
  {
   "cell_type": "code",
   "execution_count": 59,
   "id": "860f697f",
   "metadata": {},
   "outputs": [
    {
     "data": {
      "text/plain": [
       "9.117723679948379e-57"
      ]
     },
     "execution_count": 59,
     "metadata": {},
     "output_type": "execute_result"
    }
   ],
   "source": [
    "from scipy.stats import chi2_contingency\n",
    "\n",
    "stats, p_value, dof, frequencies = chi2_contingency(data_crosstab)\n",
    "p_value"
   ]
  },
  {
   "cell_type": "code",
   "execution_count": 60,
   "id": "52b6a9b1",
   "metadata": {},
   "outputs": [
    {
     "data": {
      "text/html": [
       "<div>\n",
       "<style scoped>\n",
       "    .dataframe tbody tr th:only-of-type {\n",
       "        vertical-align: middle;\n",
       "    }\n",
       "\n",
       "    .dataframe tbody tr th {\n",
       "        vertical-align: top;\n",
       "    }\n",
       "\n",
       "    .dataframe thead th {\n",
       "        text-align: right;\n",
       "    }\n",
       "</style>\n",
       "<table border=\"1\" class=\"dataframe\">\n",
       "  <thead>\n",
       "    <tr style=\"text-align: right;\">\n",
       "      <th>vehicle_class</th>\n",
       "      <th>Four-Door Car</th>\n",
       "      <th>Luxury Car</th>\n",
       "      <th>Luxury SUV</th>\n",
       "      <th>SUV</th>\n",
       "      <th>Sports Car</th>\n",
       "      <th>Two-Door Car</th>\n",
       "      <th>All</th>\n",
       "    </tr>\n",
       "    <tr>\n",
       "      <th>location_code</th>\n",
       "      <th></th>\n",
       "      <th></th>\n",
       "      <th></th>\n",
       "      <th></th>\n",
       "      <th></th>\n",
       "      <th></th>\n",
       "      <th></th>\n",
       "    </tr>\n",
       "  </thead>\n",
       "  <tbody>\n",
       "    <tr>\n",
       "      <th>Rural</th>\n",
       "      <td>946</td>\n",
       "      <td>18</td>\n",
       "      <td>23</td>\n",
       "      <td>300</td>\n",
       "      <td>102</td>\n",
       "      <td>384</td>\n",
       "      <td>1773</td>\n",
       "    </tr>\n",
       "    <tr>\n",
       "      <th>Suburban</th>\n",
       "      <td>2853</td>\n",
       "      <td>127</td>\n",
       "      <td>140</td>\n",
       "      <td>1175</td>\n",
       "      <td>311</td>\n",
       "      <td>1173</td>\n",
       "      <td>5779</td>\n",
       "    </tr>\n",
       "    <tr>\n",
       "      <th>Urban</th>\n",
       "      <td>822</td>\n",
       "      <td>18</td>\n",
       "      <td>21</td>\n",
       "      <td>321</td>\n",
       "      <td>71</td>\n",
       "      <td>329</td>\n",
       "      <td>1582</td>\n",
       "    </tr>\n",
       "    <tr>\n",
       "      <th>All</th>\n",
       "      <td>4621</td>\n",
       "      <td>163</td>\n",
       "      <td>184</td>\n",
       "      <td>1796</td>\n",
       "      <td>484</td>\n",
       "      <td>1886</td>\n",
       "      <td>9134</td>\n",
       "    </tr>\n",
       "  </tbody>\n",
       "</table>\n",
       "</div>"
      ],
      "text/plain": [
       "vehicle_class  Four-Door Car  Luxury Car  Luxury SUV   SUV  Sports Car  \\\n",
       "location_code                                                            \n",
       "Rural                    946          18          23   300         102   \n",
       "Suburban                2853         127         140  1175         311   \n",
       "Urban                    822          18          21   321          71   \n",
       "All                     4621         163         184  1796         484   \n",
       "\n",
       "vehicle_class  Two-Door Car   All  \n",
       "location_code                      \n",
       "Rural                   384  1773  \n",
       "Suburban               1173  5779  \n",
       "Urban                   329  1582  \n",
       "All                    1886  9134  "
      ]
     },
     "execution_count": 60,
     "metadata": {},
     "output_type": "execute_result"
    }
   ],
   "source": [
    "data_crosstab = pd.crosstab(customer_df['location_code'], customer_df['vehicle_class'], margins=True)\n",
    "data_crosstab"
   ]
  },
  {
   "cell_type": "code",
   "execution_count": 61,
   "id": "f71b837c",
   "metadata": {},
   "outputs": [
    {
     "data": {
      "text/plain": [
       "0.00035337356217536456"
      ]
     },
     "execution_count": 61,
     "metadata": {},
     "output_type": "execute_result"
    }
   ],
   "source": [
    "from scipy.stats import chi2_contingency\n",
    "\n",
    "stats, p_value, dof, frequencies = chi2_contingency(data_crosstab)\n",
    "p_value"
   ]
  },
  {
   "cell_type": "code",
   "execution_count": 62,
   "id": "efde236a",
   "metadata": {},
   "outputs": [
    {
     "data": {
      "text/html": [
       "<div>\n",
       "<style scoped>\n",
       "    .dataframe tbody tr th:only-of-type {\n",
       "        vertical-align: middle;\n",
       "    }\n",
       "\n",
       "    .dataframe tbody tr th {\n",
       "        vertical-align: top;\n",
       "    }\n",
       "\n",
       "    .dataframe thead th {\n",
       "        text-align: right;\n",
       "    }\n",
       "</style>\n",
       "<table border=\"1\" class=\"dataframe\">\n",
       "  <thead>\n",
       "    <tr style=\"text-align: right;\">\n",
       "      <th>location_code</th>\n",
       "      <th>Rural</th>\n",
       "      <th>Suburban</th>\n",
       "      <th>Urban</th>\n",
       "      <th>All</th>\n",
       "    </tr>\n",
       "    <tr>\n",
       "      <th>renew_offer_type</th>\n",
       "      <th></th>\n",
       "      <th></th>\n",
       "      <th></th>\n",
       "      <th></th>\n",
       "    </tr>\n",
       "  </thead>\n",
       "  <tbody>\n",
       "    <tr>\n",
       "      <th>Offer1</th>\n",
       "      <td>625</td>\n",
       "      <td>2557</td>\n",
       "      <td>570</td>\n",
       "      <td>3752</td>\n",
       "    </tr>\n",
       "    <tr>\n",
       "      <th>Offer2</th>\n",
       "      <td>598</td>\n",
       "      <td>1765</td>\n",
       "      <td>563</td>\n",
       "      <td>2926</td>\n",
       "    </tr>\n",
       "    <tr>\n",
       "      <th>Offer3</th>\n",
       "      <td>301</td>\n",
       "      <td>851</td>\n",
       "      <td>280</td>\n",
       "      <td>1432</td>\n",
       "    </tr>\n",
       "    <tr>\n",
       "      <th>Offer4</th>\n",
       "      <td>249</td>\n",
       "      <td>606</td>\n",
       "      <td>169</td>\n",
       "      <td>1024</td>\n",
       "    </tr>\n",
       "    <tr>\n",
       "      <th>All</th>\n",
       "      <td>1773</td>\n",
       "      <td>5779</td>\n",
       "      <td>1582</td>\n",
       "      <td>9134</td>\n",
       "    </tr>\n",
       "  </tbody>\n",
       "</table>\n",
       "</div>"
      ],
      "text/plain": [
       "location_code     Rural  Suburban  Urban   All\n",
       "renew_offer_type                              \n",
       "Offer1              625      2557    570  3752\n",
       "Offer2              598      1765    563  2926\n",
       "Offer3              301       851    280  1432\n",
       "Offer4              249       606    169  1024\n",
       "All                1773      5779   1582  9134"
      ]
     },
     "execution_count": 62,
     "metadata": {},
     "output_type": "execute_result"
    }
   ],
   "source": [
    "data_crosstab = pd.crosstab(customer_df['renew_offer_type'], customer_df['location_code'], margins=True)\n",
    "data_crosstab"
   ]
  },
  {
   "cell_type": "code",
   "execution_count": 63,
   "id": "16487365",
   "metadata": {},
   "outputs": [
    {
     "data": {
      "text/plain": [
       "2.826830810773172e-11"
      ]
     },
     "execution_count": 63,
     "metadata": {},
     "output_type": "execute_result"
    }
   ],
   "source": [
    "from scipy.stats import chi2_contingency\n",
    "\n",
    "stats, p_value, dof, frequencies = chi2_contingency(data_crosstab)\n",
    "p_value"
   ]
  },
  {
   "cell_type": "markdown",
   "id": "41ed45d2",
   "metadata": {},
   "source": [
    "###### effective_to_date \n",
    "From effective_to_date created the effective_year and effective_month columns.\n",
    "\n",
    "But all the data stays in the year of 2011 and the months of January and February.\n",
    "\n",
    "So i decided to drop the columns effective_to_date and effective_year because i believe no benifit to my model. \n",
    "\n",
    "effective_month might me useful because there is a slight count differnce between months. so i decided to not drop this for now."
   ]
  },
  {
   "cell_type": "code",
   "execution_count": 64,
   "id": "a7741a3c",
   "metadata": {},
   "outputs": [
    {
     "data": {
      "text/plain": [
       "<AxesSubplot:xlabel='effective_year', ylabel='total_claim_amount'>"
      ]
     },
     "execution_count": 64,
     "metadata": {},
     "output_type": "execute_result"
    },
    {
     "data": {
      "image/png": "[encoded data removed]",
      "text/plain": [
       "<Figure size 432x288 with 1 Axes>"
      ]
     },
     "metadata": {
      "needs_background": "light"
     },
     "output_type": "display_data"
    }
   ],
   "source": [
    "sns.barplot(x=\"effective_year\", y=\"total_claim_amount\", data=customer_df)"
   ]
  },
  {
   "cell_type": "code",
   "execution_count": 65,
   "id": "d38295bd",
   "metadata": {},
   "outputs": [
    {
     "data": {
      "text/plain": [
       "<AxesSubplot:xlabel='effective_month', ylabel='total_claim_amount'>"
      ]
     },
     "execution_count": 65,
     "metadata": {},
     "output_type": "execute_result"
    },
    {
     "data": {
      "image/png": "[encoded data removed]",
      "text/plain": [
       "<Figure size 432x288 with 1 Axes>"
      ]
     },
     "metadata": {
      "needs_background": "light"
     },
     "output_type": "display_data"
    }
   ],
   "source": [
    "sns.barplot(x=\"effective_month\", y=\"total_claim_amount\", data=customer_df)"
   ]
  },
  {
   "cell_type": "code",
   "execution_count": 66,
   "id": "5f8c5e44",
   "metadata": {},
   "outputs": [
    {
     "data": {
      "text/plain": [
       "1    4898\n",
       "2    4236\n",
       "Name: effective_month, dtype: int64"
      ]
     },
     "execution_count": 66,
     "metadata": {},
     "output_type": "execute_result"
    }
   ],
   "source": [
    "customer_df.effective_month.value_counts()"
   ]
  },
  {
   "cell_type": "code",
   "execution_count": 67,
   "id": "283c6763",
   "metadata": {},
   "outputs": [
    {
     "data": {
      "text/html": [
       "<div>\n",
       "<style scoped>\n",
       "    .dataframe tbody tr th:only-of-type {\n",
       "        vertical-align: middle;\n",
       "    }\n",
       "\n",
       "    .dataframe tbody tr th {\n",
       "        vertical-align: top;\n",
       "    }\n",
       "\n",
       "    .dataframe thead th {\n",
       "        text-align: right;\n",
       "    }\n",
       "</style>\n",
       "<table border=\"1\" class=\"dataframe\">\n",
       "  <thead>\n",
       "    <tr style=\"text-align: right;\">\n",
       "      <th></th>\n",
       "      <th>state</th>\n",
       "      <th>customer_lifetime_value</th>\n",
       "      <th>income</th>\n",
       "      <th>location_code</th>\n",
       "      <th>monthly_premium_auto</th>\n",
       "      <th>months_since_last_claim</th>\n",
       "      <th>months_since_policy_inception</th>\n",
       "      <th>number_of_open_complaints</th>\n",
       "      <th>number_of_policies</th>\n",
       "      <th>policy_type</th>\n",
       "      <th>renew_offer_type</th>\n",
       "      <th>total_claim_amount</th>\n",
       "      <th>effective_month</th>\n",
       "      <th>day_of_week</th>\n",
       "    </tr>\n",
       "  </thead>\n",
       "  <tbody>\n",
       "    <tr>\n",
       "      <th>0</th>\n",
       "      <td>Washington</td>\n",
       "      <td>2763.519279</td>\n",
       "      <td>56274</td>\n",
       "      <td>Suburban</td>\n",
       "      <td>69</td>\n",
       "      <td>32</td>\n",
       "      <td>5</td>\n",
       "      <td>0</td>\n",
       "      <td>1</td>\n",
       "      <td>Corporate Auto</td>\n",
       "      <td>Offer1</td>\n",
       "      <td>384.811147</td>\n",
       "      <td>2</td>\n",
       "      <td>Thursday</td>\n",
       "    </tr>\n",
       "    <tr>\n",
       "      <th>1</th>\n",
       "      <td>Arizona</td>\n",
       "      <td>6979.535903</td>\n",
       "      <td>0</td>\n",
       "      <td>Suburban</td>\n",
       "      <td>94</td>\n",
       "      <td>13</td>\n",
       "      <td>42</td>\n",
       "      <td>0</td>\n",
       "      <td>8</td>\n",
       "      <td>Personal Auto</td>\n",
       "      <td>Offer3</td>\n",
       "      <td>1131.464935</td>\n",
       "      <td>1</td>\n",
       "      <td>Monday</td>\n",
       "    </tr>\n",
       "    <tr>\n",
       "      <th>2</th>\n",
       "      <td>Nevada</td>\n",
       "      <td>12887.431650</td>\n",
       "      <td>48767</td>\n",
       "      <td>Suburban</td>\n",
       "      <td>108</td>\n",
       "      <td>18</td>\n",
       "      <td>38</td>\n",
       "      <td>0</td>\n",
       "      <td>2</td>\n",
       "      <td>Personal Auto</td>\n",
       "      <td>Offer1</td>\n",
       "      <td>566.472247</td>\n",
       "      <td>2</td>\n",
       "      <td>Saturday</td>\n",
       "    </tr>\n",
       "    <tr>\n",
       "      <th>3</th>\n",
       "      <td>California</td>\n",
       "      <td>7645.861827</td>\n",
       "      <td>0</td>\n",
       "      <td>Suburban</td>\n",
       "      <td>106</td>\n",
       "      <td>18</td>\n",
       "      <td>65</td>\n",
       "      <td>0</td>\n",
       "      <td>7</td>\n",
       "      <td>Corporate Auto</td>\n",
       "      <td>Offer1</td>\n",
       "      <td>529.881344</td>\n",
       "      <td>1</td>\n",
       "      <td>Thursday</td>\n",
       "    </tr>\n",
       "    <tr>\n",
       "      <th>4</th>\n",
       "      <td>Washington</td>\n",
       "      <td>2813.692575</td>\n",
       "      <td>43836</td>\n",
       "      <td>Rural</td>\n",
       "      <td>73</td>\n",
       "      <td>12</td>\n",
       "      <td>44</td>\n",
       "      <td>0</td>\n",
       "      <td>1</td>\n",
       "      <td>Personal Auto</td>\n",
       "      <td>Offer1</td>\n",
       "      <td>138.130879</td>\n",
       "      <td>2</td>\n",
       "      <td>Thursday</td>\n",
       "    </tr>\n",
       "  </tbody>\n",
       "</table>\n",
       "</div>"
      ],
      "text/plain": [
       "        state  customer_lifetime_value  income location_code  \\\n",
       "0  Washington              2763.519279   56274      Suburban   \n",
       "1     Arizona              6979.535903       0      Suburban   \n",
       "2      Nevada             12887.431650   48767      Suburban   \n",
       "3  California              7645.861827       0      Suburban   \n",
       "4  Washington              2813.692575   43836         Rural   \n",
       "\n",
       "   monthly_premium_auto  months_since_last_claim  \\\n",
       "0                    69                       32   \n",
       "1                    94                       13   \n",
       "2                   108                       18   \n",
       "3                   106                       18   \n",
       "4                    73                       12   \n",
       "\n",
       "   months_since_policy_inception  number_of_open_complaints  \\\n",
       "0                              5                          0   \n",
       "1                             42                          0   \n",
       "2                             38                          0   \n",
       "3                             65                          0   \n",
       "4                             44                          0   \n",
       "\n",
       "   number_of_policies     policy_type renew_offer_type  total_claim_amount  \\\n",
       "0                   1  Corporate Auto           Offer1          384.811147   \n",
       "1                   8   Personal Auto           Offer3         1131.464935   \n",
       "2                   2   Personal Auto           Offer1          566.472247   \n",
       "3                   7  Corporate Auto           Offer1          529.881344   \n",
       "4                   1   Personal Auto           Offer1          138.130879   \n",
       "\n",
       "   effective_month day_of_week  \n",
       "0                2    Thursday  \n",
       "1                1      Monday  \n",
       "2                2    Saturday  \n",
       "3                1    Thursday  \n",
       "4                2    Thursday  "
      ]
     },
     "execution_count": 67,
     "metadata": {},
     "output_type": "execute_result"
    }
   ],
   "source": [
    "customer_df.drop(['response','coverage','education','employmentstatus','gender','marital_status', 'policy', 'sales_channel', 'vehicle_class','vehicle_size', 'effective_year','effective_to_date'], axis=1, inplace=True)\n",
    "customer_df.head()"
   ]
  },
  {
   "cell_type": "markdown",
   "id": "c38055d9",
   "metadata": {},
   "source": [
    "## Lab4 | Data cleaning and wrangling"
   ]
  },
  {
   "cell_type": "code",
   "execution_count": 68,
   "id": "7724a2c5",
   "metadata": {},
   "outputs": [
    {
     "data": {
      "image/png": "[encoded data removed]",
      "text/plain": [
       "<Figure size 432x288 with 1 Axes>"
      ]
     },
     "metadata": {
      "needs_background": "light"
     },
     "output_type": "display_data"
    },
    {
     "data": {
      "image/png": "[encoded data removed]",
      "text/plain": [
       "<Figure size 432x288 with 1 Axes>"
      ]
     },
     "metadata": {
      "needs_background": "light"
     },
     "output_type": "display_data"
    },
    {
     "data": {
      "image/png": "[encoded data removed]",
      "text/plain": [
       "<Figure size 432x288 with 1 Axes>"
      ]
     },
     "metadata": {
      "needs_background": "light"
     },
     "output_type": "display_data"
    },
    {
     "data": {
      "image/png": "[encoded data removed]",
      "text/plain": [
       "<Figure size 432x288 with 1 Axes>"
      ]
     },
     "metadata": {
      "needs_background": "light"
     },
     "output_type": "display_data"
    },
    {
     "data": {
      "image/png": "[encoded data removed]",
      "text/plain": [
       "<Figure size 432x288 with 1 Axes>"
      ]
     },
     "metadata": {
      "needs_background": "light"
     },
     "output_type": "display_data"
    },
    {
     "data": {
      "image/png": "[encoded data removed]",
      "text/plain": [
       "<Figure size 432x288 with 1 Axes>"
      ]
     },
     "metadata": {
      "needs_background": "light"
     },
     "output_type": "display_data"
    },
    {
     "data": {
      "image/png": "[encoded data removed]",
      "text/plain": [
       "<Figure size 432x288 with 1 Axes>"
      ]
     },
     "metadata": {
      "needs_background": "light"
     },
     "output_type": "display_data"
    },
    {
     "data": {
      "image/png": "[encoded data removed]",
      "text/plain": [
       "<Figure size 432x288 with 1 Axes>"
      ]
     },
     "metadata": {
      "needs_background": "light"
     },
     "output_type": "display_data"
    },
    {
     "data": {
      "image/png": "[encoded data removed]",
      "text/plain": [
       "<Figure size 432x288 with 1 Axes>"
      ]
     },
     "metadata": {
      "needs_background": "light"
     },
     "output_type": "display_data"
    }
   ],
   "source": [
    "for column in customer_df.select_dtypes(np.number).columns:\n",
    "    sns.boxplot(customer_df[column])\n",
    "    plt.show()"
   ]
  },
  {
   "cell_type": "markdown",
   "id": "4cfce114",
   "metadata": {},
   "source": [
    "###### Removing outliers"
   ]
  },
  {
   "cell_type": "code",
   "execution_count": 69,
   "id": "5fce10b9",
   "metadata": {},
   "outputs": [
    {
     "data": {
      "text/html": [
       "<div>\n",
       "<style scoped>\n",
       "    .dataframe tbody tr th:only-of-type {\n",
       "        vertical-align: middle;\n",
       "    }\n",
       "\n",
       "    .dataframe tbody tr th {\n",
       "        vertical-align: top;\n",
       "    }\n",
       "\n",
       "    .dataframe thead th {\n",
       "        text-align: right;\n",
       "    }\n",
       "</style>\n",
       "<table border=\"1\" class=\"dataframe\">\n",
       "  <thead>\n",
       "    <tr style=\"text-align: right;\">\n",
       "      <th></th>\n",
       "      <th>state</th>\n",
       "      <th>customer_lifetime_value</th>\n",
       "      <th>income</th>\n",
       "      <th>location_code</th>\n",
       "      <th>monthly_premium_auto</th>\n",
       "      <th>months_since_last_claim</th>\n",
       "      <th>months_since_policy_inception</th>\n",
       "      <th>number_of_open_complaints</th>\n",
       "      <th>number_of_policies</th>\n",
       "      <th>policy_type</th>\n",
       "      <th>renew_offer_type</th>\n",
       "      <th>total_claim_amount</th>\n",
       "      <th>effective_month</th>\n",
       "      <th>day_of_week</th>\n",
       "    </tr>\n",
       "  </thead>\n",
       "  <tbody>\n",
       "    <tr>\n",
       "      <th>0</th>\n",
       "      <td>Washington</td>\n",
       "      <td>2763.519279</td>\n",
       "      <td>56274</td>\n",
       "      <td>Suburban</td>\n",
       "      <td>69</td>\n",
       "      <td>32</td>\n",
       "      <td>5</td>\n",
       "      <td>0</td>\n",
       "      <td>1</td>\n",
       "      <td>Corporate Auto</td>\n",
       "      <td>Offer1</td>\n",
       "      <td>384.811147</td>\n",
       "      <td>2</td>\n",
       "      <td>Thursday</td>\n",
       "    </tr>\n",
       "    <tr>\n",
       "      <th>1</th>\n",
       "      <td>Arizona</td>\n",
       "      <td>6979.535903</td>\n",
       "      <td>0</td>\n",
       "      <td>Suburban</td>\n",
       "      <td>94</td>\n",
       "      <td>13</td>\n",
       "      <td>42</td>\n",
       "      <td>0</td>\n",
       "      <td>8</td>\n",
       "      <td>Personal Auto</td>\n",
       "      <td>Offer3</td>\n",
       "      <td>1131.464935</td>\n",
       "      <td>1</td>\n",
       "      <td>Monday</td>\n",
       "    </tr>\n",
       "    <tr>\n",
       "      <th>2</th>\n",
       "      <td>Nevada</td>\n",
       "      <td>12887.431650</td>\n",
       "      <td>48767</td>\n",
       "      <td>Suburban</td>\n",
       "      <td>108</td>\n",
       "      <td>18</td>\n",
       "      <td>38</td>\n",
       "      <td>0</td>\n",
       "      <td>2</td>\n",
       "      <td>Personal Auto</td>\n",
       "      <td>Offer1</td>\n",
       "      <td>566.472247</td>\n",
       "      <td>2</td>\n",
       "      <td>Saturday</td>\n",
       "    </tr>\n",
       "    <tr>\n",
       "      <th>3</th>\n",
       "      <td>California</td>\n",
       "      <td>7645.861827</td>\n",
       "      <td>0</td>\n",
       "      <td>Suburban</td>\n",
       "      <td>106</td>\n",
       "      <td>18</td>\n",
       "      <td>65</td>\n",
       "      <td>0</td>\n",
       "      <td>7</td>\n",
       "      <td>Corporate Auto</td>\n",
       "      <td>Offer1</td>\n",
       "      <td>529.881344</td>\n",
       "      <td>1</td>\n",
       "      <td>Thursday</td>\n",
       "    </tr>\n",
       "    <tr>\n",
       "      <th>4</th>\n",
       "      <td>Washington</td>\n",
       "      <td>2813.692575</td>\n",
       "      <td>43836</td>\n",
       "      <td>Rural</td>\n",
       "      <td>73</td>\n",
       "      <td>12</td>\n",
       "      <td>44</td>\n",
       "      <td>0</td>\n",
       "      <td>1</td>\n",
       "      <td>Personal Auto</td>\n",
       "      <td>Offer1</td>\n",
       "      <td>138.130879</td>\n",
       "      <td>2</td>\n",
       "      <td>Thursday</td>\n",
       "    </tr>\n",
       "    <tr>\n",
       "      <th>...</th>\n",
       "      <td>...</td>\n",
       "      <td>...</td>\n",
       "      <td>...</td>\n",
       "      <td>...</td>\n",
       "      <td>...</td>\n",
       "      <td>...</td>\n",
       "      <td>...</td>\n",
       "      <td>...</td>\n",
       "      <td>...</td>\n",
       "      <td>...</td>\n",
       "      <td>...</td>\n",
       "      <td>...</td>\n",
       "      <td>...</td>\n",
       "      <td>...</td>\n",
       "    </tr>\n",
       "    <tr>\n",
       "      <th>9129</th>\n",
       "      <td>California</td>\n",
       "      <td>23405.987980</td>\n",
       "      <td>71941</td>\n",
       "      <td>Urban</td>\n",
       "      <td>73</td>\n",
       "      <td>18</td>\n",
       "      <td>89</td>\n",
       "      <td>0</td>\n",
       "      <td>2</td>\n",
       "      <td>Personal Auto</td>\n",
       "      <td>Offer2</td>\n",
       "      <td>198.234764</td>\n",
       "      <td>2</td>\n",
       "      <td>Thursday</td>\n",
       "    </tr>\n",
       "    <tr>\n",
       "      <th>9130</th>\n",
       "      <td>California</td>\n",
       "      <td>3096.511217</td>\n",
       "      <td>21604</td>\n",
       "      <td>Suburban</td>\n",
       "      <td>79</td>\n",
       "      <td>14</td>\n",
       "      <td>28</td>\n",
       "      <td>0</td>\n",
       "      <td>1</td>\n",
       "      <td>Corporate Auto</td>\n",
       "      <td>Offer1</td>\n",
       "      <td>379.200000</td>\n",
       "      <td>2</td>\n",
       "      <td>Saturday</td>\n",
       "    </tr>\n",
       "    <tr>\n",
       "      <th>9131</th>\n",
       "      <td>California</td>\n",
       "      <td>8163.890428</td>\n",
       "      <td>0</td>\n",
       "      <td>Suburban</td>\n",
       "      <td>85</td>\n",
       "      <td>9</td>\n",
       "      <td>37</td>\n",
       "      <td>3</td>\n",
       "      <td>2</td>\n",
       "      <td>Corporate Auto</td>\n",
       "      <td>Offer1</td>\n",
       "      <td>790.784983</td>\n",
       "      <td>2</td>\n",
       "      <td>Sunday</td>\n",
       "    </tr>\n",
       "    <tr>\n",
       "      <th>9132</th>\n",
       "      <td>California</td>\n",
       "      <td>7524.442436</td>\n",
       "      <td>21941</td>\n",
       "      <td>Suburban</td>\n",
       "      <td>96</td>\n",
       "      <td>34</td>\n",
       "      <td>3</td>\n",
       "      <td>0</td>\n",
       "      <td>3</td>\n",
       "      <td>Personal Auto</td>\n",
       "      <td>Offer3</td>\n",
       "      <td>691.200000</td>\n",
       "      <td>2</td>\n",
       "      <td>Thursday</td>\n",
       "    </tr>\n",
       "    <tr>\n",
       "      <th>9133</th>\n",
       "      <td>California</td>\n",
       "      <td>2611.836866</td>\n",
       "      <td>0</td>\n",
       "      <td>Suburban</td>\n",
       "      <td>77</td>\n",
       "      <td>3</td>\n",
       "      <td>90</td>\n",
       "      <td>0</td>\n",
       "      <td>1</td>\n",
       "      <td>Corporate Auto</td>\n",
       "      <td>Offer4</td>\n",
       "      <td>369.600000</td>\n",
       "      <td>2</td>\n",
       "      <td>Monday</td>\n",
       "    </tr>\n",
       "  </tbody>\n",
       "</table>\n",
       "<p>9129 rows × 14 columns</p>\n",
       "</div>"
      ],
      "text/plain": [
       "           state  customer_lifetime_value  income location_code  \\\n",
       "0     Washington              2763.519279   56274      Suburban   \n",
       "1        Arizona              6979.535903       0      Suburban   \n",
       "2         Nevada             12887.431650   48767      Suburban   \n",
       "3     California              7645.861827       0      Suburban   \n",
       "4     Washington              2813.692575   43836         Rural   \n",
       "...          ...                      ...     ...           ...   \n",
       "9129  California             23405.987980   71941         Urban   \n",
       "9130  California              3096.511217   21604      Suburban   \n",
       "9131  California              8163.890428       0      Suburban   \n",
       "9132  California              7524.442436   21941      Suburban   \n",
       "9133  California              2611.836866       0      Suburban   \n",
       "\n",
       "      monthly_premium_auto  months_since_last_claim  \\\n",
       "0                       69                       32   \n",
       "1                       94                       13   \n",
       "2                      108                       18   \n",
       "3                      106                       18   \n",
       "4                       73                       12   \n",
       "...                    ...                      ...   \n",
       "9129                    73                       18   \n",
       "9130                    79                       14   \n",
       "9131                    85                        9   \n",
       "9132                    96                       34   \n",
       "9133                    77                        3   \n",
       "\n",
       "      months_since_policy_inception  number_of_open_complaints  \\\n",
       "0                                 5                          0   \n",
       "1                                42                          0   \n",
       "2                                38                          0   \n",
       "3                                65                          0   \n",
       "4                                44                          0   \n",
       "...                             ...                        ...   \n",
       "9129                             89                          0   \n",
       "9130                             28                          0   \n",
       "9131                             37                          3   \n",
       "9132                              3                          0   \n",
       "9133                             90                          0   \n",
       "\n",
       "      number_of_policies     policy_type renew_offer_type  total_claim_amount  \\\n",
       "0                      1  Corporate Auto           Offer1          384.811147   \n",
       "1                      8   Personal Auto           Offer3         1131.464935   \n",
       "2                      2   Personal Auto           Offer1          566.472247   \n",
       "3                      7  Corporate Auto           Offer1          529.881344   \n",
       "4                      1   Personal Auto           Offer1          138.130879   \n",
       "...                  ...             ...              ...                 ...   \n",
       "9129                   2   Personal Auto           Offer2          198.234764   \n",
       "9130                   1  Corporate Auto           Offer1          379.200000   \n",
       "9131                   2  Corporate Auto           Offer1          790.784983   \n",
       "9132                   3   Personal Auto           Offer3          691.200000   \n",
       "9133                   1  Corporate Auto           Offer4          369.600000   \n",
       "\n",
       "      effective_month day_of_week  \n",
       "0                   2    Thursday  \n",
       "1                   1      Monday  \n",
       "2                   2    Saturday  \n",
       "3                   1    Thursday  \n",
       "4                   2    Thursday  \n",
       "...               ...         ...  \n",
       "9129                2    Thursday  \n",
       "9130                2    Saturday  \n",
       "9131                2      Sunday  \n",
       "9132                2    Thursday  \n",
       "9133                2      Monday  \n",
       "\n",
       "[9129 rows x 14 columns]"
      ]
     },
     "execution_count": 69,
     "metadata": {},
     "output_type": "execute_result"
    }
   ],
   "source": [
    "# To drop outliers i am applying hybrid method here because it effects only 5 rows(Total columns 9134)\n",
    "customer_df1 = customer_df[customer_df['customer_lifetime_value'] < 65000] \n",
    "customer_df1"
   ]
  },
  {
   "cell_type": "code",
   "execution_count": 70,
   "id": "84819a65",
   "metadata": {},
   "outputs": [
    {
     "data": {
      "text/html": [
       "<div>\n",
       "<style scoped>\n",
       "    .dataframe tbody tr th:only-of-type {\n",
       "        vertical-align: middle;\n",
       "    }\n",
       "\n",
       "    .dataframe tbody tr th {\n",
       "        vertical-align: top;\n",
       "    }\n",
       "\n",
       "    .dataframe thead th {\n",
       "        text-align: right;\n",
       "    }\n",
       "</style>\n",
       "<table border=\"1\" class=\"dataframe\">\n",
       "  <thead>\n",
       "    <tr style=\"text-align: right;\">\n",
       "      <th></th>\n",
       "      <th>state</th>\n",
       "      <th>customer_lifetime_value</th>\n",
       "      <th>income</th>\n",
       "      <th>location_code</th>\n",
       "      <th>monthly_premium_auto</th>\n",
       "      <th>months_since_last_claim</th>\n",
       "      <th>months_since_policy_inception</th>\n",
       "      <th>number_of_open_complaints</th>\n",
       "      <th>number_of_policies</th>\n",
       "      <th>policy_type</th>\n",
       "      <th>renew_offer_type</th>\n",
       "      <th>total_claim_amount</th>\n",
       "      <th>effective_month</th>\n",
       "      <th>day_of_week</th>\n",
       "    </tr>\n",
       "  </thead>\n",
       "  <tbody>\n",
       "    <tr>\n",
       "      <th>0</th>\n",
       "      <td>Washington</td>\n",
       "      <td>2763.519279</td>\n",
       "      <td>56274</td>\n",
       "      <td>Suburban</td>\n",
       "      <td>69</td>\n",
       "      <td>32</td>\n",
       "      <td>5</td>\n",
       "      <td>0</td>\n",
       "      <td>1</td>\n",
       "      <td>Corporate Auto</td>\n",
       "      <td>Offer1</td>\n",
       "      <td>384.811147</td>\n",
       "      <td>2</td>\n",
       "      <td>Thursday</td>\n",
       "    </tr>\n",
       "    <tr>\n",
       "      <th>1</th>\n",
       "      <td>Arizona</td>\n",
       "      <td>6979.535903</td>\n",
       "      <td>0</td>\n",
       "      <td>Suburban</td>\n",
       "      <td>94</td>\n",
       "      <td>13</td>\n",
       "      <td>42</td>\n",
       "      <td>0</td>\n",
       "      <td>8</td>\n",
       "      <td>Personal Auto</td>\n",
       "      <td>Offer3</td>\n",
       "      <td>1131.464935</td>\n",
       "      <td>1</td>\n",
       "      <td>Monday</td>\n",
       "    </tr>\n",
       "    <tr>\n",
       "      <th>2</th>\n",
       "      <td>Nevada</td>\n",
       "      <td>12887.431650</td>\n",
       "      <td>48767</td>\n",
       "      <td>Suburban</td>\n",
       "      <td>108</td>\n",
       "      <td>18</td>\n",
       "      <td>38</td>\n",
       "      <td>0</td>\n",
       "      <td>2</td>\n",
       "      <td>Personal Auto</td>\n",
       "      <td>Offer1</td>\n",
       "      <td>566.472247</td>\n",
       "      <td>2</td>\n",
       "      <td>Saturday</td>\n",
       "    </tr>\n",
       "    <tr>\n",
       "      <th>3</th>\n",
       "      <td>California</td>\n",
       "      <td>7645.861827</td>\n",
       "      <td>0</td>\n",
       "      <td>Suburban</td>\n",
       "      <td>106</td>\n",
       "      <td>18</td>\n",
       "      <td>65</td>\n",
       "      <td>0</td>\n",
       "      <td>7</td>\n",
       "      <td>Corporate Auto</td>\n",
       "      <td>Offer1</td>\n",
       "      <td>529.881344</td>\n",
       "      <td>1</td>\n",
       "      <td>Thursday</td>\n",
       "    </tr>\n",
       "    <tr>\n",
       "      <th>4</th>\n",
       "      <td>Washington</td>\n",
       "      <td>2813.692575</td>\n",
       "      <td>43836</td>\n",
       "      <td>Rural</td>\n",
       "      <td>73</td>\n",
       "      <td>12</td>\n",
       "      <td>44</td>\n",
       "      <td>0</td>\n",
       "      <td>1</td>\n",
       "      <td>Personal Auto</td>\n",
       "      <td>Offer1</td>\n",
       "      <td>138.130879</td>\n",
       "      <td>2</td>\n",
       "      <td>Thursday</td>\n",
       "    </tr>\n",
       "    <tr>\n",
       "      <th>...</th>\n",
       "      <td>...</td>\n",
       "      <td>...</td>\n",
       "      <td>...</td>\n",
       "      <td>...</td>\n",
       "      <td>...</td>\n",
       "      <td>...</td>\n",
       "      <td>...</td>\n",
       "      <td>...</td>\n",
       "      <td>...</td>\n",
       "      <td>...</td>\n",
       "      <td>...</td>\n",
       "      <td>...</td>\n",
       "      <td>...</td>\n",
       "      <td>...</td>\n",
       "    </tr>\n",
       "    <tr>\n",
       "      <th>9129</th>\n",
       "      <td>California</td>\n",
       "      <td>23405.987980</td>\n",
       "      <td>71941</td>\n",
       "      <td>Urban</td>\n",
       "      <td>73</td>\n",
       "      <td>18</td>\n",
       "      <td>89</td>\n",
       "      <td>0</td>\n",
       "      <td>2</td>\n",
       "      <td>Personal Auto</td>\n",
       "      <td>Offer2</td>\n",
       "      <td>198.234764</td>\n",
       "      <td>2</td>\n",
       "      <td>Thursday</td>\n",
       "    </tr>\n",
       "    <tr>\n",
       "      <th>9130</th>\n",
       "      <td>California</td>\n",
       "      <td>3096.511217</td>\n",
       "      <td>21604</td>\n",
       "      <td>Suburban</td>\n",
       "      <td>79</td>\n",
       "      <td>14</td>\n",
       "      <td>28</td>\n",
       "      <td>0</td>\n",
       "      <td>1</td>\n",
       "      <td>Corporate Auto</td>\n",
       "      <td>Offer1</td>\n",
       "      <td>379.200000</td>\n",
       "      <td>2</td>\n",
       "      <td>Saturday</td>\n",
       "    </tr>\n",
       "    <tr>\n",
       "      <th>9131</th>\n",
       "      <td>California</td>\n",
       "      <td>8163.890428</td>\n",
       "      <td>0</td>\n",
       "      <td>Suburban</td>\n",
       "      <td>85</td>\n",
       "      <td>9</td>\n",
       "      <td>37</td>\n",
       "      <td>3</td>\n",
       "      <td>2</td>\n",
       "      <td>Corporate Auto</td>\n",
       "      <td>Offer1</td>\n",
       "      <td>790.784983</td>\n",
       "      <td>2</td>\n",
       "      <td>Sunday</td>\n",
       "    </tr>\n",
       "    <tr>\n",
       "      <th>9132</th>\n",
       "      <td>California</td>\n",
       "      <td>7524.442436</td>\n",
       "      <td>21941</td>\n",
       "      <td>Suburban</td>\n",
       "      <td>96</td>\n",
       "      <td>34</td>\n",
       "      <td>3</td>\n",
       "      <td>0</td>\n",
       "      <td>3</td>\n",
       "      <td>Personal Auto</td>\n",
       "      <td>Offer3</td>\n",
       "      <td>691.200000</td>\n",
       "      <td>2</td>\n",
       "      <td>Thursday</td>\n",
       "    </tr>\n",
       "    <tr>\n",
       "      <th>9133</th>\n",
       "      <td>California</td>\n",
       "      <td>2611.836866</td>\n",
       "      <td>0</td>\n",
       "      <td>Suburban</td>\n",
       "      <td>77</td>\n",
       "      <td>3</td>\n",
       "      <td>90</td>\n",
       "      <td>0</td>\n",
       "      <td>1</td>\n",
       "      <td>Corporate Auto</td>\n",
       "      <td>Offer4</td>\n",
       "      <td>369.600000</td>\n",
       "      <td>2</td>\n",
       "      <td>Monday</td>\n",
       "    </tr>\n",
       "  </tbody>\n",
       "</table>\n",
       "<p>9126 rows × 14 columns</p>\n",
       "</div>"
      ],
      "text/plain": [
       "           state  customer_lifetime_value  income location_code  \\\n",
       "0     Washington              2763.519279   56274      Suburban   \n",
       "1        Arizona              6979.535903       0      Suburban   \n",
       "2         Nevada             12887.431650   48767      Suburban   \n",
       "3     California              7645.861827       0      Suburban   \n",
       "4     Washington              2813.692575   43836         Rural   \n",
       "...          ...                      ...     ...           ...   \n",
       "9129  California             23405.987980   71941         Urban   \n",
       "9130  California              3096.511217   21604      Suburban   \n",
       "9131  California              8163.890428       0      Suburban   \n",
       "9132  California              7524.442436   21941      Suburban   \n",
       "9133  California              2611.836866       0      Suburban   \n",
       "\n",
       "      monthly_premium_auto  months_since_last_claim  \\\n",
       "0                       69                       32   \n",
       "1                       94                       13   \n",
       "2                      108                       18   \n",
       "3                      106                       18   \n",
       "4                       73                       12   \n",
       "...                    ...                      ...   \n",
       "9129                    73                       18   \n",
       "9130                    79                       14   \n",
       "9131                    85                        9   \n",
       "9132                    96                       34   \n",
       "9133                    77                        3   \n",
       "\n",
       "      months_since_policy_inception  number_of_open_complaints  \\\n",
       "0                                 5                          0   \n",
       "1                                42                          0   \n",
       "2                                38                          0   \n",
       "3                                65                          0   \n",
       "4                                44                          0   \n",
       "...                             ...                        ...   \n",
       "9129                             89                          0   \n",
       "9130                             28                          0   \n",
       "9131                             37                          3   \n",
       "9132                              3                          0   \n",
       "9133                             90                          0   \n",
       "\n",
       "      number_of_policies     policy_type renew_offer_type  total_claim_amount  \\\n",
       "0                      1  Corporate Auto           Offer1          384.811147   \n",
       "1                      8   Personal Auto           Offer3         1131.464935   \n",
       "2                      2   Personal Auto           Offer1          566.472247   \n",
       "3                      7  Corporate Auto           Offer1          529.881344   \n",
       "4                      1   Personal Auto           Offer1          138.130879   \n",
       "...                  ...             ...              ...                 ...   \n",
       "9129                   2   Personal Auto           Offer2          198.234764   \n",
       "9130                   1  Corporate Auto           Offer1          379.200000   \n",
       "9131                   2  Corporate Auto           Offer1          790.784983   \n",
       "9132                   3   Personal Auto           Offer3          691.200000   \n",
       "9133                   1  Corporate Auto           Offer4          369.600000   \n",
       "\n",
       "      effective_month day_of_week  \n",
       "0                   2    Thursday  \n",
       "1                   1      Monday  \n",
       "2                   2    Saturday  \n",
       "3                   1    Thursday  \n",
       "4                   2    Thursday  \n",
       "...               ...         ...  \n",
       "9129                2    Thursday  \n",
       "9130                2    Saturday  \n",
       "9131                2      Sunday  \n",
       "9132                2    Thursday  \n",
       "9133                2      Monday  \n",
       "\n",
       "[9126 rows x 14 columns]"
      ]
     },
     "execution_count": 70,
     "metadata": {},
     "output_type": "execute_result"
    }
   ],
   "source": [
    "customer_df1 = customer_df1[customer_df['total_claim_amount'] < 2500]\n",
    "customer_df1"
   ]
  },
  {
   "cell_type": "code",
   "execution_count": 71,
   "id": "45c6c495",
   "metadata": {
    "scrolled": true
   },
   "outputs": [
    {
     "data": {
      "text/html": [
       "<div>\n",
       "<style scoped>\n",
       "    .dataframe tbody tr th:only-of-type {\n",
       "        vertical-align: middle;\n",
       "    }\n",
       "\n",
       "    .dataframe tbody tr th {\n",
       "        vertical-align: top;\n",
       "    }\n",
       "\n",
       "    .dataframe thead th {\n",
       "        text-align: right;\n",
       "    }\n",
       "</style>\n",
       "<table border=\"1\" class=\"dataframe\">\n",
       "  <thead>\n",
       "    <tr style=\"text-align: right;\">\n",
       "      <th></th>\n",
       "      <th>state</th>\n",
       "      <th>customer_lifetime_value</th>\n",
       "      <th>income</th>\n",
       "      <th>location_code</th>\n",
       "      <th>monthly_premium_auto</th>\n",
       "      <th>months_since_last_claim</th>\n",
       "      <th>months_since_policy_inception</th>\n",
       "      <th>number_of_open_complaints</th>\n",
       "      <th>number_of_policies</th>\n",
       "      <th>policy_type</th>\n",
       "      <th>renew_offer_type</th>\n",
       "      <th>total_claim_amount</th>\n",
       "      <th>effective_month</th>\n",
       "      <th>day_of_week</th>\n",
       "    </tr>\n",
       "  </thead>\n",
       "  <tbody>\n",
       "    <tr>\n",
       "      <th>0</th>\n",
       "      <td>Washington</td>\n",
       "      <td>2763.519279</td>\n",
       "      <td>56274</td>\n",
       "      <td>Suburban</td>\n",
       "      <td>69</td>\n",
       "      <td>32</td>\n",
       "      <td>5</td>\n",
       "      <td>0</td>\n",
       "      <td>1</td>\n",
       "      <td>Corporate Auto</td>\n",
       "      <td>Offer1</td>\n",
       "      <td>384.811147</td>\n",
       "      <td>2</td>\n",
       "      <td>Thursday</td>\n",
       "    </tr>\n",
       "    <tr>\n",
       "      <th>1</th>\n",
       "      <td>Arizona</td>\n",
       "      <td>6979.535903</td>\n",
       "      <td>0</td>\n",
       "      <td>Suburban</td>\n",
       "      <td>94</td>\n",
       "      <td>13</td>\n",
       "      <td>42</td>\n",
       "      <td>0</td>\n",
       "      <td>8</td>\n",
       "      <td>Personal Auto</td>\n",
       "      <td>Offer3</td>\n",
       "      <td>1131.464935</td>\n",
       "      <td>1</td>\n",
       "      <td>Monday</td>\n",
       "    </tr>\n",
       "    <tr>\n",
       "      <th>2</th>\n",
       "      <td>Nevada</td>\n",
       "      <td>12887.431650</td>\n",
       "      <td>48767</td>\n",
       "      <td>Suburban</td>\n",
       "      <td>108</td>\n",
       "      <td>18</td>\n",
       "      <td>38</td>\n",
       "      <td>0</td>\n",
       "      <td>2</td>\n",
       "      <td>Personal Auto</td>\n",
       "      <td>Offer1</td>\n",
       "      <td>566.472247</td>\n",
       "      <td>2</td>\n",
       "      <td>Saturday</td>\n",
       "    </tr>\n",
       "    <tr>\n",
       "      <th>3</th>\n",
       "      <td>California</td>\n",
       "      <td>7645.861827</td>\n",
       "      <td>0</td>\n",
       "      <td>Suburban</td>\n",
       "      <td>106</td>\n",
       "      <td>18</td>\n",
       "      <td>65</td>\n",
       "      <td>0</td>\n",
       "      <td>7</td>\n",
       "      <td>Corporate Auto</td>\n",
       "      <td>Offer1</td>\n",
       "      <td>529.881344</td>\n",
       "      <td>1</td>\n",
       "      <td>Thursday</td>\n",
       "    </tr>\n",
       "    <tr>\n",
       "      <th>4</th>\n",
       "      <td>Washington</td>\n",
       "      <td>2813.692575</td>\n",
       "      <td>43836</td>\n",
       "      <td>Rural</td>\n",
       "      <td>73</td>\n",
       "      <td>12</td>\n",
       "      <td>44</td>\n",
       "      <td>0</td>\n",
       "      <td>1</td>\n",
       "      <td>Personal Auto</td>\n",
       "      <td>Offer1</td>\n",
       "      <td>138.130879</td>\n",
       "      <td>2</td>\n",
       "      <td>Thursday</td>\n",
       "    </tr>\n",
       "    <tr>\n",
       "      <th>...</th>\n",
       "      <td>...</td>\n",
       "      <td>...</td>\n",
       "      <td>...</td>\n",
       "      <td>...</td>\n",
       "      <td>...</td>\n",
       "      <td>...</td>\n",
       "      <td>...</td>\n",
       "      <td>...</td>\n",
       "      <td>...</td>\n",
       "      <td>...</td>\n",
       "      <td>...</td>\n",
       "      <td>...</td>\n",
       "      <td>...</td>\n",
       "      <td>...</td>\n",
       "    </tr>\n",
       "    <tr>\n",
       "      <th>9129</th>\n",
       "      <td>California</td>\n",
       "      <td>23405.987980</td>\n",
       "      <td>71941</td>\n",
       "      <td>Urban</td>\n",
       "      <td>73</td>\n",
       "      <td>18</td>\n",
       "      <td>89</td>\n",
       "      <td>0</td>\n",
       "      <td>2</td>\n",
       "      <td>Personal Auto</td>\n",
       "      <td>Offer2</td>\n",
       "      <td>198.234764</td>\n",
       "      <td>2</td>\n",
       "      <td>Thursday</td>\n",
       "    </tr>\n",
       "    <tr>\n",
       "      <th>9130</th>\n",
       "      <td>California</td>\n",
       "      <td>3096.511217</td>\n",
       "      <td>21604</td>\n",
       "      <td>Suburban</td>\n",
       "      <td>79</td>\n",
       "      <td>14</td>\n",
       "      <td>28</td>\n",
       "      <td>0</td>\n",
       "      <td>1</td>\n",
       "      <td>Corporate Auto</td>\n",
       "      <td>Offer1</td>\n",
       "      <td>379.200000</td>\n",
       "      <td>2</td>\n",
       "      <td>Saturday</td>\n",
       "    </tr>\n",
       "    <tr>\n",
       "      <th>9131</th>\n",
       "      <td>California</td>\n",
       "      <td>8163.890428</td>\n",
       "      <td>0</td>\n",
       "      <td>Suburban</td>\n",
       "      <td>85</td>\n",
       "      <td>9</td>\n",
       "      <td>37</td>\n",
       "      <td>3</td>\n",
       "      <td>2</td>\n",
       "      <td>Corporate Auto</td>\n",
       "      <td>Offer1</td>\n",
       "      <td>790.784983</td>\n",
       "      <td>2</td>\n",
       "      <td>Sunday</td>\n",
       "    </tr>\n",
       "    <tr>\n",
       "      <th>9132</th>\n",
       "      <td>California</td>\n",
       "      <td>7524.442436</td>\n",
       "      <td>21941</td>\n",
       "      <td>Suburban</td>\n",
       "      <td>96</td>\n",
       "      <td>34</td>\n",
       "      <td>3</td>\n",
       "      <td>0</td>\n",
       "      <td>3</td>\n",
       "      <td>Personal Auto</td>\n",
       "      <td>Offer3</td>\n",
       "      <td>691.200000</td>\n",
       "      <td>2</td>\n",
       "      <td>Thursday</td>\n",
       "    </tr>\n",
       "    <tr>\n",
       "      <th>9133</th>\n",
       "      <td>California</td>\n",
       "      <td>2611.836866</td>\n",
       "      <td>0</td>\n",
       "      <td>Suburban</td>\n",
       "      <td>77</td>\n",
       "      <td>3</td>\n",
       "      <td>90</td>\n",
       "      <td>0</td>\n",
       "      <td>1</td>\n",
       "      <td>Corporate Auto</td>\n",
       "      <td>Offer4</td>\n",
       "      <td>369.600000</td>\n",
       "      <td>2</td>\n",
       "      <td>Monday</td>\n",
       "    </tr>\n",
       "  </tbody>\n",
       "</table>\n",
       "<p>9119 rows × 14 columns</p>\n",
       "</div>"
      ],
      "text/plain": [
       "           state  customer_lifetime_value  income location_code  \\\n",
       "0     Washington              2763.519279   56274      Suburban   \n",
       "1        Arizona              6979.535903       0      Suburban   \n",
       "2         Nevada             12887.431650   48767      Suburban   \n",
       "3     California              7645.861827       0      Suburban   \n",
       "4     Washington              2813.692575   43836         Rural   \n",
       "...          ...                      ...     ...           ...   \n",
       "9129  California             23405.987980   71941         Urban   \n",
       "9130  California              3096.511217   21604      Suburban   \n",
       "9131  California              8163.890428       0      Suburban   \n",
       "9132  California              7524.442436   21941      Suburban   \n",
       "9133  California              2611.836866       0      Suburban   \n",
       "\n",
       "      monthly_premium_auto  months_since_last_claim  \\\n",
       "0                       69                       32   \n",
       "1                       94                       13   \n",
       "2                      108                       18   \n",
       "3                      106                       18   \n",
       "4                       73                       12   \n",
       "...                    ...                      ...   \n",
       "9129                    73                       18   \n",
       "9130                    79                       14   \n",
       "9131                    85                        9   \n",
       "9132                    96                       34   \n",
       "9133                    77                        3   \n",
       "\n",
       "      months_since_policy_inception  number_of_open_complaints  \\\n",
       "0                                 5                          0   \n",
       "1                                42                          0   \n",
       "2                                38                          0   \n",
       "3                                65                          0   \n",
       "4                                44                          0   \n",
       "...                             ...                        ...   \n",
       "9129                             89                          0   \n",
       "9130                             28                          0   \n",
       "9131                             37                          3   \n",
       "9132                              3                          0   \n",
       "9133                             90                          0   \n",
       "\n",
       "      number_of_policies     policy_type renew_offer_type  total_claim_amount  \\\n",
       "0                      1  Corporate Auto           Offer1          384.811147   \n",
       "1                      8   Personal Auto           Offer3         1131.464935   \n",
       "2                      2   Personal Auto           Offer1          566.472247   \n",
       "3                      7  Corporate Auto           Offer1          529.881344   \n",
       "4                      1   Personal Auto           Offer1          138.130879   \n",
       "...                  ...             ...              ...                 ...   \n",
       "9129                   2   Personal Auto           Offer2          198.234764   \n",
       "9130                   1  Corporate Auto           Offer1          379.200000   \n",
       "9131                   2  Corporate Auto           Offer1          790.784983   \n",
       "9132                   3   Personal Auto           Offer3          691.200000   \n",
       "9133                   1  Corporate Auto           Offer4          369.600000   \n",
       "\n",
       "      effective_month day_of_week  \n",
       "0                   2    Thursday  \n",
       "1                   1      Monday  \n",
       "2                   2    Saturday  \n",
       "3                   1    Thursday  \n",
       "4                   2    Thursday  \n",
       "...               ...         ...  \n",
       "9129                2    Thursday  \n",
       "9130                2    Saturday  \n",
       "9131                2      Sunday  \n",
       "9132                2    Thursday  \n",
       "9133                2      Monday  \n",
       "\n",
       "[9119 rows x 14 columns]"
      ]
     },
     "execution_count": 71,
     "metadata": {},
     "output_type": "execute_result"
    }
   ],
   "source": [
    "customer_df1 = customer_df1[customer_df['monthly_premium_auto'] < 290]\n",
    "customer_df1"
   ]
  },
  {
   "cell_type": "code",
   "execution_count": 72,
   "id": "e589a0c2",
   "metadata": {},
   "outputs": [
    {
     "data": {
      "text/plain": [
       "income                          -0.355254\n",
       "number_of_open_complaints       -0.014241\n",
       "number_of_policies              -0.002354\n",
       "months_since_policy_inception    0.003335\n",
       "effective_month                  0.006820\n",
       "months_since_last_claim          0.007563\n",
       "customer_lifetime_value          0.226451\n",
       "monthly_premium_auto             0.632017\n",
       "total_claim_amount               1.000000\n",
       "Name: total_claim_amount, dtype: float64"
      ]
     },
     "execution_count": 72,
     "metadata": {},
     "output_type": "execute_result"
    }
   ],
   "source": [
    "customer_df.corr()['total_claim_amount'].sort_values()"
   ]
  },
  {
   "cell_type": "code",
   "execution_count": 73,
   "id": "4d9fa070",
   "metadata": {},
   "outputs": [
    {
     "data": {
      "text/plain": [
       "income                          -0.359262\n",
       "number_of_open_complaints       -0.014087\n",
       "months_since_policy_inception    0.000394\n",
       "number_of_policies               0.001095\n",
       "months_since_last_claim          0.005294\n",
       "effective_month                  0.008893\n",
       "customer_lifetime_value          0.216382\n",
       "monthly_premium_auto             0.623920\n",
       "total_claim_amount               1.000000\n",
       "Name: total_claim_amount, dtype: float64"
      ]
     },
     "execution_count": 73,
     "metadata": {},
     "output_type": "execute_result"
    }
   ],
   "source": [
    "customer_df1.corr()['total_claim_amount'].sort_values()"
   ]
  },
  {
   "cell_type": "code",
   "execution_count": 74,
   "id": "ba38254c",
   "metadata": {},
   "outputs": [],
   "source": [
    "from sklearn.model_selection import train_test_split\n",
    "\n",
    "X = customer_df.drop('total_claim_amount', axis=1)\n",
    "y = customer_df['total_claim_amount']\n",
    "\n",
    "X_train, X_test, y_train, y_test = train_test_split(X, y, test_size=0.20, random_state=42)\n",
    "\n",
    "X_train_num = X_train.select_dtypes(np.number)\n",
    "X_test_num = X_test.select_dtypes(np.number)"
   ]
  },
  {
   "cell_type": "markdown",
   "id": "95be7281",
   "metadata": {},
   "source": [
    "###### Scaling Technique: StandardScaler"
   ]
  },
  {
   "cell_type": "code",
   "execution_count": 75,
   "id": "4054b5b5",
   "metadata": {},
   "outputs": [
    {
     "data": {
      "text/plain": [
       "4768.955924"
      ]
     },
     "execution_count": 75,
     "metadata": {},
     "output_type": "execute_result"
    }
   ],
   "source": [
    "from sklearn.preprocessing import StandardScaler\n",
    "import pickle\n",
    "\n",
    "transformer = StandardScaler()\n",
    "transformer.fit(X_train_num)\n",
    "\n",
    "# saving in a pickle\n",
    "with open('std_transformer.pickle', 'wb') as file:\n",
    "    pickle.dump(transformer, file)\n",
    "    \n",
    "# loading from a pickle  \n",
    "with open('std_transformer.pickle', 'rb') as file:\n",
    "    loaded_transformer = pickle.load(file)\n",
    "\n",
    "X_train_ = loaded_transformer.transform(X_train_num)\n",
    "X_test_ = loaded_transformer.transform(X_test_num)\n",
    "\n",
    "# if you need to un-scale afterwards, speacially if you scaled target variable:\n",
    "unscaled_X_train = loaded_transformer.inverse_transform(X_train_)\n",
    "\n",
    "# it makes sense to scale the target variable as well\n",
    "unscaled_X_train[0][0]"
   ]
  },
  {
   "cell_type": "markdown",
   "id": "03f507ca",
   "metadata": {},
   "source": [
    "##### Encoding categorical"
   ]
  },
  {
   "cell_type": "code",
   "execution_count": 76,
   "id": "9403c0bf",
   "metadata": {},
   "outputs": [
    {
     "name": "stdout",
     "output_type": "stream",
     "text": [
      "California    3150\n",
      "Oregon        2601\n",
      "Arizona       1703\n",
      "Nevada         882\n",
      "Washington     798\n",
      "Name: state, dtype: int64 \n",
      "\n",
      "Suburban    5779\n",
      "Rural       1773\n",
      "Urban       1582\n",
      "Name: location_code, dtype: int64 \n",
      "\n",
      "Personal Auto     6788\n",
      "Corporate Auto    1968\n",
      "Special Auto       378\n",
      "Name: policy_type, dtype: int64 \n",
      "\n",
      "Offer1    3752\n",
      "Offer2    2926\n",
      "Offer3    1432\n",
      "Offer4    1024\n",
      "Name: renew_offer_type, dtype: int64 \n",
      "\n",
      "Monday       1530\n",
      "Saturday     1397\n",
      "Sunday       1330\n",
      "Thursday     1249\n",
      "Friday       1245\n",
      "Wednesday    1221\n",
      "Tuesday      1162\n",
      "Name: day_of_week, dtype: int64 \n",
      "\n"
     ]
    }
   ],
   "source": [
    "for col in customer_df.select_dtypes('object'):\n",
    "    print(customer_df[col].value_counts(), '\\n')"
   ]
  },
  {
   "cell_type": "code",
   "execution_count": 77,
   "id": "08dcabd7",
   "metadata": {},
   "outputs": [],
   "source": [
    "customer_df['state'] = customer_df['state'].map({'California': 0, 'Oregon' : 1, \n",
    "                                                 'Arizona': 2, 'Nevada': 3, 'Washington':4})"
   ]
  },
  {
   "cell_type": "code",
   "execution_count": 78,
   "id": "05df7ca4",
   "metadata": {},
   "outputs": [],
   "source": [
    "customer_df['location_code'] = customer_df['location_code'].map({'Suburban':0, 'Rural': 1, 'Urban': 2})"
   ]
  },
  {
   "cell_type": "code",
   "execution_count": 79,
   "id": "8dce4dbf",
   "metadata": {},
   "outputs": [],
   "source": [
    "customer_df['policy_type'] = customer_df['policy_type'].map({'Personal Auto':0, 'Corporate Auto': 1, 'Special Auto': 2})"
   ]
  },
  {
   "cell_type": "code",
   "execution_count": 80,
   "id": "e03bfb94",
   "metadata": {},
   "outputs": [],
   "source": [
    "customer_df['renew_offer_type'] = customer_df['renew_offer_type'].map({'Offer1':0, 'Offer2': 1, 'Offer3': 2, 'Offer4': 3})"
   ]
  },
  {
   "cell_type": "code",
   "execution_count": 81,
   "id": "b8e7d740",
   "metadata": {},
   "outputs": [],
   "source": [
    "customer_df['day_of_week'] = customer_df['day_of_week'].map({'Monday':0, 'Tuesday': 1, 'Wednesday': 2, 'Thursday': 3, 'Friday': 4, 'Saturday': 5, 'Sunday': 6})"
   ]
  },
  {
   "cell_type": "code",
   "execution_count": 82,
   "id": "ebc203bf",
   "metadata": {},
   "outputs": [
    {
     "name": "stdout",
     "output_type": "stream",
     "text": [
      "<class 'pandas.core.frame.DataFrame'>\n",
      "RangeIndex: 9134 entries, 0 to 9133\n",
      "Data columns (total 14 columns):\n",
      " #   Column                         Non-Null Count  Dtype  \n",
      "---  ------                         --------------  -----  \n",
      " 0   state                          9134 non-null   int64  \n",
      " 1   customer_lifetime_value        9134 non-null   float64\n",
      " 2   income                         9134 non-null   int64  \n",
      " 3   location_code                  9134 non-null   int64  \n",
      " 4   monthly_premium_auto           9134 non-null   int64  \n",
      " 5   months_since_last_claim        9134 non-null   int64  \n",
      " 6   months_since_policy_inception  9134 non-null   int64  \n",
      " 7   number_of_open_complaints      9134 non-null   int64  \n",
      " 8   number_of_policies             9134 non-null   int64  \n",
      " 9   policy_type                    9134 non-null   int64  \n",
      " 10  renew_offer_type               9134 non-null   int64  \n",
      " 11  total_claim_amount             9134 non-null   float64\n",
      " 12  effective_month                9134 non-null   int64  \n",
      " 13  day_of_week                    9134 non-null   int64  \n",
      "dtypes: float64(2), int64(12)\n",
      "memory usage: 999.2 KB\n"
     ]
    }
   ],
   "source": [
    "customer_df.info()"
   ]
  },
  {
   "cell_type": "code",
   "execution_count": 83,
   "id": "b2fe5f67",
   "metadata": {},
   "outputs": [
    {
     "data": {
      "text/html": [
       "<div>\n",
       "<style scoped>\n",
       "    .dataframe tbody tr th:only-of-type {\n",
       "        vertical-align: middle;\n",
       "    }\n",
       "\n",
       "    .dataframe tbody tr th {\n",
       "        vertical-align: top;\n",
       "    }\n",
       "\n",
       "    .dataframe thead th {\n",
       "        text-align: right;\n",
       "    }\n",
       "</style>\n",
       "<table border=\"1\" class=\"dataframe\">\n",
       "  <thead>\n",
       "    <tr style=\"text-align: right;\">\n",
       "      <th></th>\n",
       "      <th>customer</th>\n",
       "      <th>state</th>\n",
       "      <th>customer_lifetime_value</th>\n",
       "      <th>response</th>\n",
       "      <th>coverage</th>\n",
       "      <th>education</th>\n",
       "      <th>effective_to_date</th>\n",
       "      <th>employmentstatus</th>\n",
       "      <th>gender</th>\n",
       "      <th>income</th>\n",
       "      <th>location_code</th>\n",
       "      <th>marital_status</th>\n",
       "      <th>monthly_premium_auto</th>\n",
       "      <th>months_since_last_claim</th>\n",
       "      <th>months_since_policy_inception</th>\n",
       "      <th>number_of_open_complaints</th>\n",
       "      <th>number_of_policies</th>\n",
       "      <th>policy_type</th>\n",
       "      <th>policy</th>\n",
       "      <th>renew_offer_type</th>\n",
       "      <th>sales_channel</th>\n",
       "      <th>total_claim_amount</th>\n",
       "      <th>vehicle_class</th>\n",
       "      <th>vehicle_size</th>\n",
       "      <th>effective_year</th>\n",
       "      <th>effective_month</th>\n",
       "      <th>day_of_week</th>\n",
       "    </tr>\n",
       "  </thead>\n",
       "  <tbody>\n",
       "    <tr>\n",
       "      <th>0</th>\n",
       "      <td>BU79786</td>\n",
       "      <td>Washington</td>\n",
       "      <td>2763.519279</td>\n",
       "      <td>No</td>\n",
       "      <td>Basic</td>\n",
       "      <td>Bachelor</td>\n",
       "      <td>2011-02-24</td>\n",
       "      <td>Employed</td>\n",
       "      <td>F</td>\n",
       "      <td>56274</td>\n",
       "      <td>Suburban</td>\n",
       "      <td>Married</td>\n",
       "      <td>69</td>\n",
       "      <td>32</td>\n",
       "      <td>5</td>\n",
       "      <td>0</td>\n",
       "      <td>1</td>\n",
       "      <td>Corporate Auto</td>\n",
       "      <td>Corporate L3</td>\n",
       "      <td>Offer1</td>\n",
       "      <td>Agent</td>\n",
       "      <td>5.952753</td>\n",
       "      <td>Two-Door Car</td>\n",
       "      <td>Medsize</td>\n",
       "      <td>2011</td>\n",
       "      <td>2</td>\n",
       "      <td>Thursday</td>\n",
       "    </tr>\n",
       "    <tr>\n",
       "      <th>1</th>\n",
       "      <td>QZ44356</td>\n",
       "      <td>Arizona</td>\n",
       "      <td>6979.535903</td>\n",
       "      <td>No</td>\n",
       "      <td>Extended</td>\n",
       "      <td>Bachelor</td>\n",
       "      <td>2011-01-31</td>\n",
       "      <td>Unemployed</td>\n",
       "      <td>F</td>\n",
       "      <td>0</td>\n",
       "      <td>Suburban</td>\n",
       "      <td>Single</td>\n",
       "      <td>94</td>\n",
       "      <td>13</td>\n",
       "      <td>42</td>\n",
       "      <td>0</td>\n",
       "      <td>8</td>\n",
       "      <td>Personal Auto</td>\n",
       "      <td>Personal L3</td>\n",
       "      <td>Offer3</td>\n",
       "      <td>Agent</td>\n",
       "      <td>7.031268</td>\n",
       "      <td>Four-Door Car</td>\n",
       "      <td>Medsize</td>\n",
       "      <td>2011</td>\n",
       "      <td>1</td>\n",
       "      <td>Monday</td>\n",
       "    </tr>\n",
       "    <tr>\n",
       "      <th>2</th>\n",
       "      <td>AI49188</td>\n",
       "      <td>Nevada</td>\n",
       "      <td>12887.431650</td>\n",
       "      <td>No</td>\n",
       "      <td>Premium</td>\n",
       "      <td>Bachelor</td>\n",
       "      <td>2011-02-19</td>\n",
       "      <td>Employed</td>\n",
       "      <td>F</td>\n",
       "      <td>48767</td>\n",
       "      <td>Suburban</td>\n",
       "      <td>Married</td>\n",
       "      <td>108</td>\n",
       "      <td>18</td>\n",
       "      <td>38</td>\n",
       "      <td>0</td>\n",
       "      <td>2</td>\n",
       "      <td>Personal Auto</td>\n",
       "      <td>Personal L3</td>\n",
       "      <td>Offer1</td>\n",
       "      <td>Agent</td>\n",
       "      <td>6.339428</td>\n",
       "      <td>Two-Door Car</td>\n",
       "      <td>Medsize</td>\n",
       "      <td>2011</td>\n",
       "      <td>2</td>\n",
       "      <td>Saturday</td>\n",
       "    </tr>\n",
       "    <tr>\n",
       "      <th>3</th>\n",
       "      <td>WW63253</td>\n",
       "      <td>California</td>\n",
       "      <td>7645.861827</td>\n",
       "      <td>No</td>\n",
       "      <td>Basic</td>\n",
       "      <td>Bachelor</td>\n",
       "      <td>2011-01-20</td>\n",
       "      <td>Unemployed</td>\n",
       "      <td>M</td>\n",
       "      <td>0</td>\n",
       "      <td>Suburban</td>\n",
       "      <td>Married</td>\n",
       "      <td>106</td>\n",
       "      <td>18</td>\n",
       "      <td>65</td>\n",
       "      <td>0</td>\n",
       "      <td>7</td>\n",
       "      <td>Corporate Auto</td>\n",
       "      <td>Corporate L2</td>\n",
       "      <td>Offer1</td>\n",
       "      <td>Call Center</td>\n",
       "      <td>6.272653</td>\n",
       "      <td>SUV</td>\n",
       "      <td>Medsize</td>\n",
       "      <td>2011</td>\n",
       "      <td>1</td>\n",
       "      <td>Thursday</td>\n",
       "    </tr>\n",
       "    <tr>\n",
       "      <th>4</th>\n",
       "      <td>HB64268</td>\n",
       "      <td>Washington</td>\n",
       "      <td>2813.692575</td>\n",
       "      <td>No</td>\n",
       "      <td>Basic</td>\n",
       "      <td>Bachelor</td>\n",
       "      <td>2011-02-03</td>\n",
       "      <td>Employed</td>\n",
       "      <td>M</td>\n",
       "      <td>43836</td>\n",
       "      <td>Rural</td>\n",
       "      <td>Single</td>\n",
       "      <td>73</td>\n",
       "      <td>12</td>\n",
       "      <td>44</td>\n",
       "      <td>0</td>\n",
       "      <td>1</td>\n",
       "      <td>Personal Auto</td>\n",
       "      <td>Personal L1</td>\n",
       "      <td>Offer1</td>\n",
       "      <td>Agent</td>\n",
       "      <td>4.928202</td>\n",
       "      <td>Four-Door Car</td>\n",
       "      <td>Medsize</td>\n",
       "      <td>2011</td>\n",
       "      <td>2</td>\n",
       "      <td>Thursday</td>\n",
       "    </tr>\n",
       "  </tbody>\n",
       "</table>\n",
       "</div>"
      ],
      "text/plain": [
       "  customer       state  customer_lifetime_value response  coverage education  \\\n",
       "0  BU79786  Washington              2763.519279       No     Basic  Bachelor   \n",
       "1  QZ44356     Arizona              6979.535903       No  Extended  Bachelor   \n",
       "2  AI49188      Nevada             12887.431650       No   Premium  Bachelor   \n",
       "3  WW63253  California              7645.861827       No     Basic  Bachelor   \n",
       "4  HB64268  Washington              2813.692575       No     Basic  Bachelor   \n",
       "\n",
       "  effective_to_date employmentstatus gender  income location_code  \\\n",
       "0        2011-02-24         Employed      F   56274      Suburban   \n",
       "1        2011-01-31       Unemployed      F       0      Suburban   \n",
       "2        2011-02-19         Employed      F   48767      Suburban   \n",
       "3        2011-01-20       Unemployed      M       0      Suburban   \n",
       "4        2011-02-03         Employed      M   43836         Rural   \n",
       "\n",
       "  marital_status  monthly_premium_auto  months_since_last_claim  \\\n",
       "0        Married                    69                       32   \n",
       "1         Single                    94                       13   \n",
       "2        Married                   108                       18   \n",
       "3        Married                   106                       18   \n",
       "4         Single                    73                       12   \n",
       "\n",
       "   months_since_policy_inception  number_of_open_complaints  \\\n",
       "0                              5                          0   \n",
       "1                             42                          0   \n",
       "2                             38                          0   \n",
       "3                             65                          0   \n",
       "4                             44                          0   \n",
       "\n",
       "   number_of_policies     policy_type        policy renew_offer_type  \\\n",
       "0                   1  Corporate Auto  Corporate L3           Offer1   \n",
       "1                   8   Personal Auto   Personal L3           Offer3   \n",
       "2                   2   Personal Auto   Personal L3           Offer1   \n",
       "3                   7  Corporate Auto  Corporate L2           Offer1   \n",
       "4                   1   Personal Auto   Personal L1           Offer1   \n",
       "\n",
       "  sales_channel  total_claim_amount  vehicle_class vehicle_size  \\\n",
       "0         Agent            5.952753   Two-Door Car      Medsize   \n",
       "1         Agent            7.031268  Four-Door Car      Medsize   \n",
       "2         Agent            6.339428   Two-Door Car      Medsize   \n",
       "3   Call Center            6.272653            SUV      Medsize   \n",
       "4         Agent            4.928202  Four-Door Car      Medsize   \n",
       "\n",
       "  effective_year  effective_month day_of_week  \n",
       "0           2011                2    Thursday  \n",
       "1           2011                1      Monday  \n",
       "2           2011                2    Saturday  \n",
       "3           2011                1    Thursday  \n",
       "4           2011                2    Thursday  "
      ]
     },
     "execution_count": 83,
     "metadata": {},
     "output_type": "execute_result"
    }
   ],
   "source": [
    "data1.head()"
   ]
  },
  {
   "cell_type": "code",
   "execution_count": 84,
   "id": "a16b0d73",
   "metadata": {},
   "outputs": [
    {
     "data": {
      "text/html": [
       "<div>\n",
       "<style scoped>\n",
       "    .dataframe tbody tr th:only-of-type {\n",
       "        vertical-align: middle;\n",
       "    }\n",
       "\n",
       "    .dataframe tbody tr th {\n",
       "        vertical-align: top;\n",
       "    }\n",
       "\n",
       "    .dataframe thead th {\n",
       "        text-align: right;\n",
       "    }\n",
       "</style>\n",
       "<table border=\"1\" class=\"dataframe\">\n",
       "  <thead>\n",
       "    <tr style=\"text-align: right;\">\n",
       "      <th></th>\n",
       "      <th>state</th>\n",
       "      <th>customer_lifetime_value</th>\n",
       "      <th>income</th>\n",
       "      <th>location_code</th>\n",
       "      <th>monthly_premium_auto</th>\n",
       "      <th>months_since_last_claim</th>\n",
       "      <th>months_since_policy_inception</th>\n",
       "      <th>number_of_open_complaints</th>\n",
       "      <th>number_of_policies</th>\n",
       "      <th>policy_type</th>\n",
       "      <th>renew_offer_type</th>\n",
       "      <th>total_claim_amount</th>\n",
       "      <th>effective_month</th>\n",
       "      <th>day_of_week</th>\n",
       "    </tr>\n",
       "  </thead>\n",
       "  <tbody>\n",
       "    <tr>\n",
       "      <th>0</th>\n",
       "      <td>4</td>\n",
       "      <td>2763.519279</td>\n",
       "      <td>56274</td>\n",
       "      <td>0</td>\n",
       "      <td>69</td>\n",
       "      <td>32</td>\n",
       "      <td>5</td>\n",
       "      <td>0</td>\n",
       "      <td>1</td>\n",
       "      <td>1</td>\n",
       "      <td>0</td>\n",
       "      <td>384.811147</td>\n",
       "      <td>2</td>\n",
       "      <td>3</td>\n",
       "    </tr>\n",
       "    <tr>\n",
       "      <th>1</th>\n",
       "      <td>2</td>\n",
       "      <td>6979.535903</td>\n",
       "      <td>0</td>\n",
       "      <td>0</td>\n",
       "      <td>94</td>\n",
       "      <td>13</td>\n",
       "      <td>42</td>\n",
       "      <td>0</td>\n",
       "      <td>8</td>\n",
       "      <td>0</td>\n",
       "      <td>2</td>\n",
       "      <td>1131.464935</td>\n",
       "      <td>1</td>\n",
       "      <td>0</td>\n",
       "    </tr>\n",
       "    <tr>\n",
       "      <th>2</th>\n",
       "      <td>3</td>\n",
       "      <td>12887.431650</td>\n",
       "      <td>48767</td>\n",
       "      <td>0</td>\n",
       "      <td>108</td>\n",
       "      <td>18</td>\n",
       "      <td>38</td>\n",
       "      <td>0</td>\n",
       "      <td>2</td>\n",
       "      <td>0</td>\n",
       "      <td>0</td>\n",
       "      <td>566.472247</td>\n",
       "      <td>2</td>\n",
       "      <td>5</td>\n",
       "    </tr>\n",
       "    <tr>\n",
       "      <th>3</th>\n",
       "      <td>0</td>\n",
       "      <td>7645.861827</td>\n",
       "      <td>0</td>\n",
       "      <td>0</td>\n",
       "      <td>106</td>\n",
       "      <td>18</td>\n",
       "      <td>65</td>\n",
       "      <td>0</td>\n",
       "      <td>7</td>\n",
       "      <td>1</td>\n",
       "      <td>0</td>\n",
       "      <td>529.881344</td>\n",
       "      <td>1</td>\n",
       "      <td>3</td>\n",
       "    </tr>\n",
       "    <tr>\n",
       "      <th>4</th>\n",
       "      <td>4</td>\n",
       "      <td>2813.692575</td>\n",
       "      <td>43836</td>\n",
       "      <td>1</td>\n",
       "      <td>73</td>\n",
       "      <td>12</td>\n",
       "      <td>44</td>\n",
       "      <td>0</td>\n",
       "      <td>1</td>\n",
       "      <td>0</td>\n",
       "      <td>0</td>\n",
       "      <td>138.130879</td>\n",
       "      <td>2</td>\n",
       "      <td>3</td>\n",
       "    </tr>\n",
       "  </tbody>\n",
       "</table>\n",
       "</div>"
      ],
      "text/plain": [
       "   state  customer_lifetime_value  income  location_code  \\\n",
       "0      4              2763.519279   56274              0   \n",
       "1      2              6979.535903       0              0   \n",
       "2      3             12887.431650   48767              0   \n",
       "3      0              7645.861827       0              0   \n",
       "4      4              2813.692575   43836              1   \n",
       "\n",
       "   monthly_premium_auto  months_since_last_claim  \\\n",
       "0                    69                       32   \n",
       "1                    94                       13   \n",
       "2                   108                       18   \n",
       "3                   106                       18   \n",
       "4                    73                       12   \n",
       "\n",
       "   months_since_policy_inception  number_of_open_complaints  \\\n",
       "0                              5                          0   \n",
       "1                             42                          0   \n",
       "2                             38                          0   \n",
       "3                             65                          0   \n",
       "4                             44                          0   \n",
       "\n",
       "   number_of_policies  policy_type  renew_offer_type  total_claim_amount  \\\n",
       "0                   1            1                 0          384.811147   \n",
       "1                   8            0                 2         1131.464935   \n",
       "2                   2            0                 0          566.472247   \n",
       "3                   7            1                 0          529.881344   \n",
       "4                   1            0                 0          138.130879   \n",
       "\n",
       "   effective_month  day_of_week  \n",
       "0                2            3  \n",
       "1                1            0  \n",
       "2                2            5  \n",
       "3                1            3  \n",
       "4                2            3  "
      ]
     },
     "execution_count": 84,
     "metadata": {},
     "output_type": "execute_result"
    }
   ],
   "source": [
    "customer_df.head()"
   ]
  },
  {
   "cell_type": "markdown",
   "id": "8f565288",
   "metadata": {},
   "source": [
    "## lab5 | Comparing regression models"
   ]
  },
  {
   "cell_type": "code",
   "execution_count": 85,
   "id": "98761b64",
   "metadata": {},
   "outputs": [],
   "source": [
    "from sklearn.model_selection import train_test_split\n",
    "\n",
    "X = customer_df.drop('total_claim_amount', axis=1)\n",
    "y = customer_df['total_claim_amount']\n",
    "\n",
    "X_train, X_test, y_train, y_test = train_test_split(X, y, test_size=0.30, random_state=42)"
   ]
  },
  {
   "cell_type": "code",
   "execution_count": 86,
   "id": "0c10e9fb",
   "metadata": {},
   "outputs": [
    {
     "data": {
      "text/plain": [
       "LinearRegression()"
      ]
     },
     "execution_count": 86,
     "metadata": {},
     "output_type": "execute_result"
    }
   ],
   "source": [
    "from sklearn.linear_model import LinearRegression\n",
    "\n",
    "lr = LinearRegression()\n",
    "lr.fit(X_train, y_train)"
   ]
  },
  {
   "cell_type": "code",
   "execution_count": 87,
   "id": "bba84a38",
   "metadata": {},
   "outputs": [
    {
     "data": {
      "text/plain": [
       "0.5946428589753147"
      ]
     },
     "execution_count": 87,
     "metadata": {},
     "output_type": "execute_result"
    }
   ],
   "source": [
    "lr.score(X_test, y_test)"
   ]
  },
  {
   "cell_type": "code",
   "execution_count": 88,
   "id": "a684f39e",
   "metadata": {},
   "outputs": [],
   "source": [
    "predictions = lr.predict(X_test)"
   ]
  },
  {
   "cell_type": "code",
   "execution_count": 89,
   "id": "be8f10d2",
   "metadata": {},
   "outputs": [],
   "source": [
    "from sklearn.metrics import r2_score, mean_squared_error, mean_absolute_error"
   ]
  },
  {
   "cell_type": "code",
   "execution_count": 90,
   "id": "932d4307",
   "metadata": {},
   "outputs": [
    {
     "data": {
      "text/plain": [
       "(0.5946428589753147, 133.38814415419913, 181.9094551683304)"
      ]
     },
     "execution_count": 90,
     "metadata": {},
     "output_type": "execute_result"
    }
   ],
   "source": [
    "r2_score(y_test, predictions), mean_absolute_error(y_test, predictions), mean_squared_error(y_test, predictions, squared=False)"
   ]
  },
  {
   "cell_type": "markdown",
   "id": "b8a7c967",
   "metadata": {},
   "source": []
  },
  {
   "cell_type": "code",
   "execution_count": 91,
   "id": "d3903d58",
   "metadata": {},
   "outputs": [],
   "source": [
    "from sklearn.model_selection import train_test_split\n",
    "\n",
    "X = customer_df.drop('total_claim_amount', axis=1)\n",
    "y = customer_df['total_claim_amount']\n",
    "\n",
    "X_train, X_test, y_train, y_test = train_test_split(X, y, test_size=0.30, random_state=42)"
   ]
  },
  {
   "cell_type": "code",
   "execution_count": 92,
   "id": "4ac3bb5d",
   "metadata": {},
   "outputs": [],
   "source": [
    "from sklearn.neural_network import MLPRegressor\n",
    "from sklearn.neighbors import KNeighborsRegressor\n",
    "from sklearn.model_selection import cross_val_score"
   ]
  },
  {
   "cell_type": "code",
   "execution_count": 93,
   "id": "61e87a3b",
   "metadata": {},
   "outputs": [],
   "source": [
    "models = []\n",
    "\n",
    "models.append((\"LinearRegression\",LinearRegression()))\n",
    "models.append((\"KNeighbors\",KNeighborsRegressor()))\n",
    "models.append((\"MLPRegressor\",MLPRegressor()))\n",
    "\n",
    "\n",
    "results = []\n",
    "names = []\n",
    "for name,model in models:\n",
    "    result = cross_val_score(model, X_test, y_test,  cv=3)\n",
    "    names.append(name)\n",
    "    results.append(result)"
   ]
  },
  {
   "cell_type": "code",
   "execution_count": 94,
   "id": "9133c80d",
   "metadata": {},
   "outputs": [
    {
     "name": "stdout",
     "output_type": "stream",
     "text": [
      "LinearRegression [0.57119092 0.58287213 0.62135258]\n",
      "KNeighbors [0.11562484 0.0800055  0.1725517 ]\n",
      "MLPRegressor [0.44287126 0.40520973 0.54840218]\n"
     ]
    }
   ],
   "source": [
    "for i in range(len(names)):\n",
    "    print(names[i],results[i])"
   ]
  },
  {
   "cell_type": "code",
   "execution_count": null,
   "id": "1513594c",
   "metadata": {},
   "outputs": [],
   "source": []
  }
 ],
 "metadata": {
  "kernelspec": {
   "display_name": "Python 3 (ipykernel)",
   "language": "python",
   "name": "python3"
  },
  "language_info": {
   "codemirror_mode": {
    "name": "ipython",
    "version": 3
   },
   "file_extension": ".py",
   "mimetype": "text/x-python",
   "name": "python",
   "nbconvert_exporter": "python",
   "pygments_lexer": "ipython3",
   "version": "3.9.12"
  }
 },
 "nbformat": 4,
 "nbformat_minor": 5
}
